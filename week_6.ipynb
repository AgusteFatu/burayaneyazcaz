{
 "cells": [
  {
   "cell_type": "code",
   "execution_count": 1,
   "metadata": {},
   "outputs": [],
   "source": [
    "import pandas as pd \r\n",
    "from sklearn.tree import DecisionTreeClassifier # Import Decision Tree Classifier\r\n",
    "from sklearn.model_selection import train_test_split # Import train_test_split function\r\n",
    "from sklearn import metrics #Import scikit-learn metrics module for accuracy calculation\r\n",
    "import seaborn as sns\r\n",
    "import matplotlib.pyplot as plt\r\n",
    "import numpy as np\r\n"
   ]
  },
  {
   "cell_type": "code",
   "execution_count": 2,
   "metadata": {},
   "outputs": [],
   "source": [
    "data = pd.read_csv(\"data\\heating_data.csv\")\r\n",
    "del data['Unnamed: 0']\r\n",
    "\r\n",
    "pd.options.display.float_format = '{:,.2f}'.format"
   ]
  },
  {
   "cell_type": "code",
   "execution_count": 3,
   "metadata": {},
   "outputs": [
    {
     "data": {
      "text/html": "<div>\n<style scoped>\n    .dataframe tbody tr th:only-of-type {\n        vertical-align: middle;\n    }\n\n    .dataframe tbody tr th {\n        vertical-align: top;\n    }\n\n    .dataframe thead th {\n        text-align: right;\n    }\n</style>\n<table border=\"1\" class=\"dataframe\">\n  <thead>\n    <tr style=\"text-align: right;\">\n      <th></th>\n      <th>idcase</th>\n      <th>depvar</th>\n      <th>ic.gc</th>\n      <th>ic.gr</th>\n      <th>ic.ec</th>\n      <th>ic.er</th>\n      <th>ic.hp</th>\n      <th>oc.gc</th>\n      <th>oc.gr</th>\n      <th>oc.ec</th>\n      <th>oc.er</th>\n      <th>oc.hp</th>\n      <th>income</th>\n      <th>agehed</th>\n      <th>rooms</th>\n      <th>region</th>\n    </tr>\n  </thead>\n  <tbody>\n    <tr>\n      <th>0</th>\n      <td>1</td>\n      <td>gc</td>\n      <td>866.00</td>\n      <td>962.64</td>\n      <td>859.90</td>\n      <td>995.76</td>\n      <td>1,135.50</td>\n      <td>199.69</td>\n      <td>151.72</td>\n      <td>553.34</td>\n      <td>505.60</td>\n      <td>237.88</td>\n      <td>7</td>\n      <td>25</td>\n      <td>6</td>\n      <td>ncostl</td>\n    </tr>\n    <tr>\n      <th>1</th>\n      <td>2</td>\n      <td>gc</td>\n      <td>727.93</td>\n      <td>758.89</td>\n      <td>796.82</td>\n      <td>894.69</td>\n      <td>968.90</td>\n      <td>168.66</td>\n      <td>168.66</td>\n      <td>520.24</td>\n      <td>486.49</td>\n      <td>199.19</td>\n      <td>5</td>\n      <td>60</td>\n      <td>5</td>\n      <td>scostl</td>\n    </tr>\n    <tr>\n      <th>2</th>\n      <td>3</td>\n      <td>gc</td>\n      <td>599.48</td>\n      <td>783.05</td>\n      <td>719.86</td>\n      <td>900.11</td>\n      <td>1,048.30</td>\n      <td>165.58</td>\n      <td>137.80</td>\n      <td>439.06</td>\n      <td>404.74</td>\n      <td>171.47</td>\n      <td>4</td>\n      <td>65</td>\n      <td>2</td>\n      <td>ncostl</td>\n    </tr>\n    <tr>\n      <th>3</th>\n      <td>4</td>\n      <td>er</td>\n      <td>835.17</td>\n      <td>793.06</td>\n      <td>761.25</td>\n      <td>831.04</td>\n      <td>1,048.70</td>\n      <td>180.88</td>\n      <td>147.14</td>\n      <td>483.00</td>\n      <td>425.22</td>\n      <td>222.95</td>\n      <td>2</td>\n      <td>50</td>\n      <td>4</td>\n      <td>scostl</td>\n    </tr>\n    <tr>\n      <th>4</th>\n      <td>5</td>\n      <td>er</td>\n      <td>755.59</td>\n      <td>846.29</td>\n      <td>858.86</td>\n      <td>985.64</td>\n      <td>883.05</td>\n      <td>174.91</td>\n      <td>138.90</td>\n      <td>404.41</td>\n      <td>389.52</td>\n      <td>178.49</td>\n      <td>2</td>\n      <td>25</td>\n      <td>6</td>\n      <td>valley</td>\n    </tr>\n  </tbody>\n</table>\n</div>",
      "text/plain": "   idcase depvar  ic.gc  ic.gr  ic.ec  ic.er    ic.hp  oc.gc  oc.gr  oc.ec  \\\n0       1     gc 866.00 962.64 859.90 995.76 1,135.50 199.69 151.72 553.34   \n1       2     gc 727.93 758.89 796.82 894.69   968.90 168.66 168.66 520.24   \n2       3     gc 599.48 783.05 719.86 900.11 1,048.30 165.58 137.80 439.06   \n3       4     er 835.17 793.06 761.25 831.04 1,048.70 180.88 147.14 483.00   \n4       5     er 755.59 846.29 858.86 985.64   883.05 174.91 138.90 404.41   \n\n   oc.er  oc.hp  income  agehed  rooms  region  \n0 505.60 237.88       7      25      6  ncostl  \n1 486.49 199.19       5      60      5  scostl  \n2 404.74 171.47       4      65      2  ncostl  \n3 425.22 222.95       2      50      4  scostl  \n4 389.52 178.49       2      25      6  valley  "
     },
     "metadata": {},
     "output_type": "display_data"
    },
    {
     "name": "stdout",
     "output_type": "stream",
     "text": [
      "\n",
      "900 Rows and 16 columns.\n"
     ]
    }
   ],
   "source": [
    "# Example of observations \r\n",
    "display(data.head(5))\r\n",
    "print(\"\\n{} Rows and {} columns.\".format(data.shape[0],data.shape[1]))"
   ]
  },
  {
   "cell_type": "code",
   "execution_count": 4,
   "metadata": {},
   "outputs": [
    {
     "name": "stdout",
     "output_type": "stream",
     "text": [
      "<class 'pandas.core.frame.DataFrame'>\n",
      "RangeIndex: 900 entries, 0 to 899\n",
      "Data columns (total 16 columns):\n",
      "idcase    900 non-null int64\n",
      "depvar    900 non-null object\n",
      "ic.gc     900 non-null float64\n",
      "ic.gr     900 non-null float64\n",
      "ic.ec     900 non-null float64\n",
      "ic.er     900 non-null float64\n",
      "ic.hp     900 non-null float64\n",
      "oc.gc     900 non-null float64\n",
      "oc.gr     900 non-null float64\n",
      "oc.ec     900 non-null float64\n",
      "oc.er     900 non-null float64\n",
      "oc.hp     900 non-null float64\n",
      "income    900 non-null int64\n",
      "agehed    900 non-null int64\n",
      "rooms     900 non-null int64\n",
      "region    900 non-null object\n",
      "dtypes: float64(10), int64(4), object(2)\n",
      "memory usage: 105.5+ KB\n"
     ]
    }
   ],
   "source": [
    "data.info()"
   ]
  },
  {
   "cell_type": "code",
   "execution_count": 5,
   "metadata": {},
   "outputs": [
    {
     "data": {
      "text/html": "<div>\n<style scoped>\n    .dataframe tbody tr th:only-of-type {\n        vertical-align: middle;\n    }\n\n    .dataframe tbody tr th {\n        vertical-align: top;\n    }\n\n    .dataframe thead th {\n        text-align: right;\n    }\n</style>\n<table border=\"1\" class=\"dataframe\">\n  <thead>\n    <tr style=\"text-align: right;\">\n      <th></th>\n      <th>gc</th>\n      <th>gr</th>\n      <th>er</th>\n      <th>ec</th>\n      <th>hp</th>\n    </tr>\n  </thead>\n  <tbody>\n    <tr>\n      <th>depvar</th>\n      <td>573</td>\n      <td>129</td>\n      <td>84</td>\n      <td>64</td>\n      <td>50</td>\n    </tr>\n  </tbody>\n</table>\n</div>",
      "text/plain": "         gc   gr  er  ec  hp\ndepvar  573  129  84  64  50"
     },
     "execution_count": 5,
     "metadata": {},
     "output_type": "execute_result"
    }
   ],
   "source": [
    "# levels counts of heating systems\r\n",
    "pd.DataFrame(data['depvar'].value_counts()).transpose()"
   ]
  },
  {
   "cell_type": "code",
   "execution_count": 6,
   "metadata": {},
   "outputs": [
    {
     "data": {
      "text/html": "<style  type=\"text/css\" >\n    #T_6c55fd7a_9fb6_11eb_8a46_b025aa2b6ea4row0_col0 {\n            background-color:  yellow;\n            : ;\n        }    #T_6c55fd7a_9fb6_11eb_8a46_b025aa2b6ea4row0_col4 {\n            : ;\n            background-color:  green;\n        }    #T_6c55fd7a_9fb6_11eb_8a46_b025aa2b6ea4row1_col0 {\n            background-color:  yellow;\n            : ;\n        }    #T_6c55fd7a_9fb6_11eb_8a46_b025aa2b6ea4row1_col4 {\n            : ;\n            background-color:  green;\n        }    #T_6c55fd7a_9fb6_11eb_8a46_b025aa2b6ea4row2_col0 {\n            background-color:  yellow;\n            : ;\n        }    #T_6c55fd7a_9fb6_11eb_8a46_b025aa2b6ea4row2_col1 {\n            : ;\n            background-color:  green;\n        }    #T_6c55fd7a_9fb6_11eb_8a46_b025aa2b6ea4row3_col0 {\n            background-color:  yellow;\n            : ;\n        }    #T_6c55fd7a_9fb6_11eb_8a46_b025aa2b6ea4row3_col4 {\n            : ;\n            background-color:  green;\n        }    #T_6c55fd7a_9fb6_11eb_8a46_b025aa2b6ea4row4_col0 {\n            background-color:  yellow;\n            : ;\n        }    #T_6c55fd7a_9fb6_11eb_8a46_b025aa2b6ea4row4_col4 {\n            : ;\n            background-color:  green;\n        }</style><table id=\"T_6c55fd7a_9fb6_11eb_8a46_b025aa2b6ea4\" ><thead>    <tr>        <th class=\"blank level0\" ></th>        <th class=\"col_heading level0 col0\" >ic.gc</th>        <th class=\"col_heading level0 col1\" >ic.gr</th>        <th class=\"col_heading level0 col2\" >ic.ec</th>        <th class=\"col_heading level0 col3\" >ic.er</th>        <th class=\"col_heading level0 col4\" >ic.hp</th>    </tr></thead><tbody>\n                <tr>\n                        <th id=\"T_6c55fd7a_9fb6_11eb_8a46_b025aa2b6ea4level0_row0\" class=\"row_heading level0 row0\" >mean</th>\n                        <td id=\"T_6c55fd7a_9fb6_11eb_8a46_b025aa2b6ea4row0_col0\" class=\"data row0 col0\" >776.827</td>\n                        <td id=\"T_6c55fd7a_9fb6_11eb_8a46_b025aa2b6ea4row0_col1\" class=\"data row0 col1\" >921.77</td>\n                        <td id=\"T_6c55fd7a_9fb6_11eb_8a46_b025aa2b6ea4row0_col2\" class=\"data row0 col2\" >824.543</td>\n                        <td id=\"T_6c55fd7a_9fb6_11eb_8a46_b025aa2b6ea4row0_col3\" class=\"data row0 col3\" >983.928</td>\n                        <td id=\"T_6c55fd7a_9fb6_11eb_8a46_b025aa2b6ea4row0_col4\" class=\"data row0 col4\" >1046.48</td>\n            </tr>\n            <tr>\n                        <th id=\"T_6c55fd7a_9fb6_11eb_8a46_b025aa2b6ea4level0_row1\" class=\"row_heading level0 row1\" >std</th>\n                        <td id=\"T_6c55fd7a_9fb6_11eb_8a46_b025aa2b6ea4row1_col0\" class=\"data row1 col0\" >115.563</td>\n                        <td id=\"T_6c55fd7a_9fb6_11eb_8a46_b025aa2b6ea4row1_col1\" class=\"data row1 col1\" >138.087</td>\n                        <td id=\"T_6c55fd7a_9fb6_11eb_8a46_b025aa2b6ea4row1_col2\" class=\"data row1 col2\" >125.274</td>\n                        <td id=\"T_6c55fd7a_9fb6_11eb_8a46_b025aa2b6ea4row1_col3\" class=\"data row1 col3\" >147.155</td>\n                        <td id=\"T_6c55fd7a_9fb6_11eb_8a46_b025aa2b6ea4row1_col4\" class=\"data row1 col4\" >156.703</td>\n            </tr>\n            <tr>\n                        <th id=\"T_6c55fd7a_9fb6_11eb_8a46_b025aa2b6ea4level0_row2\" class=\"row_heading level0 row2\" >min</th>\n                        <td id=\"T_6c55fd7a_9fb6_11eb_8a46_b025aa2b6ea4row2_col0\" class=\"data row2 col0\" >431.83</td>\n                        <td id=\"T_6c55fd7a_9fb6_11eb_8a46_b025aa2b6ea4row2_col1\" class=\"data row2 col1\" >574.94</td>\n                        <td id=\"T_6c55fd7a_9fb6_11eb_8a46_b025aa2b6ea4row2_col2\" class=\"data row2 col2\" >469.61</td>\n                        <td id=\"T_6c55fd7a_9fb6_11eb_8a46_b025aa2b6ea4row2_col3\" class=\"data row2 col3\" >546.82</td>\n                        <td id=\"T_6c55fd7a_9fb6_11eb_8a46_b025aa2b6ea4row2_col4\" class=\"data row2 col4\" >532.32</td>\n            </tr>\n            <tr>\n                        <th id=\"T_6c55fd7a_9fb6_11eb_8a46_b025aa2b6ea4level0_row3\" class=\"row_heading level0 row3\" >50%</th>\n                        <td id=\"T_6c55fd7a_9fb6_11eb_8a46_b025aa2b6ea4row3_col0\" class=\"data row3 col0\" >778.505</td>\n                        <td id=\"T_6c55fd7a_9fb6_11eb_8a46_b025aa2b6ea4row3_col1\" class=\"data row3 col1\" >924.305</td>\n                        <td id=\"T_6c55fd7a_9fb6_11eb_8a46_b025aa2b6ea4row3_col2\" class=\"data row3 col2\" >824.84</td>\n                        <td id=\"T_6c55fd7a_9fb6_11eb_8a46_b025aa2b6ea4row3_col3\" class=\"data row3 col3\" >989.7</td>\n                        <td id=\"T_6c55fd7a_9fb6_11eb_8a46_b025aa2b6ea4row3_col4\" class=\"data row3 col4\" >1046.55</td>\n            </tr>\n            <tr>\n                        <th id=\"T_6c55fd7a_9fb6_11eb_8a46_b025aa2b6ea4level0_row4\" class=\"row_heading level0 row4\" >max</th>\n                        <td id=\"T_6c55fd7a_9fb6_11eb_8a46_b025aa2b6ea4row4_col0\" class=\"data row4 col0\" >1158.9</td>\n                        <td id=\"T_6c55fd7a_9fb6_11eb_8a46_b025aa2b6ea4row4_col1\" class=\"data row4 col1\" >1344</td>\n                        <td id=\"T_6c55fd7a_9fb6_11eb_8a46_b025aa2b6ea4row4_col2\" class=\"data row4 col2\" >1230.5</td>\n                        <td id=\"T_6c55fd7a_9fb6_11eb_8a46_b025aa2b6ea4row4_col3\" class=\"data row4 col3\" >1496.3</td>\n                        <td id=\"T_6c55fd7a_9fb6_11eb_8a46_b025aa2b6ea4row4_col4\" class=\"data row4 col4\" >1679.8</td>\n            </tr>\n    </tbody></table>",
      "text/plain": "<pandas.io.formats.style.Styler at 0x57e9510>"
     },
     "execution_count": 6,
     "metadata": {},
     "output_type": "execute_result"
    }
   ],
   "source": [
    "# Summary of the installation cost for the 5 alternatives (ic columns)\r\n",
    "data_ic = data[['ic.gc','ic.gr','ic.ec','ic.er','ic.hp']]\r\n",
    "data_ic.describe().loc[['mean','std','min','50%','max']].style.highlight_min(axis=1).highlight_max(axis=1,color = 'green')"
   ]
  },
  {
   "cell_type": "code",
   "execution_count": 7,
   "metadata": {},
   "outputs": [
    {
     "data": {
      "text/html": "<style  type=\"text/css\" >\n    #T_6c5f45f4_9fb6_11eb_8514_b025aa2b6ea4row0_col1 {\n            background-color:  yellow;\n            : ;\n        }    #T_6c5f45f4_9fb6_11eb_8514_b025aa2b6ea4row0_col2 {\n            : ;\n            background-color:  green;\n        }    #T_6c5f45f4_9fb6_11eb_8514_b025aa2b6ea4row1_col1 {\n            background-color:  yellow;\n            : ;\n        }    #T_6c5f45f4_9fb6_11eb_8514_b025aa2b6ea4row1_col2 {\n            : ;\n            background-color:  green;\n        }    #T_6c5f45f4_9fb6_11eb_8514_b025aa2b6ea4row2_col1 {\n            background-color:  yellow;\n            : ;\n        }    #T_6c5f45f4_9fb6_11eb_8514_b025aa2b6ea4row2_col2 {\n            : ;\n            background-color:  green;\n        }    #T_6c5f45f4_9fb6_11eb_8514_b025aa2b6ea4row3_col1 {\n            background-color:  yellow;\n            : ;\n        }    #T_6c5f45f4_9fb6_11eb_8514_b025aa2b6ea4row3_col2 {\n            : ;\n            background-color:  green;\n        }    #T_6c5f45f4_9fb6_11eb_8514_b025aa2b6ea4row4_col1 {\n            background-color:  yellow;\n            : ;\n        }    #T_6c5f45f4_9fb6_11eb_8514_b025aa2b6ea4row4_col2 {\n            : ;\n            background-color:  green;\n        }</style><table id=\"T_6c5f45f4_9fb6_11eb_8514_b025aa2b6ea4\" ><thead>    <tr>        <th class=\"blank level0\" ></th>        <th class=\"col_heading level0 col0\" >oc.gc</th>        <th class=\"col_heading level0 col1\" >oc.gr</th>        <th class=\"col_heading level0 col2\" >oc.ec</th>        <th class=\"col_heading level0 col3\" >oc.er</th>        <th class=\"col_heading level0 col4\" >oc.hp</th>    </tr></thead><tbody>\n                <tr>\n                        <th id=\"T_6c5f45f4_9fb6_11eb_8514_b025aa2b6ea4level0_row0\" class=\"row_heading level0 row0\" >mean</th>\n                        <td id=\"T_6c5f45f4_9fb6_11eb_8514_b025aa2b6ea4row0_col0\" class=\"data row0 col0\" >172.116</td>\n                        <td id=\"T_6c5f45f4_9fb6_11eb_8514_b025aa2b6ea4row0_col1\" class=\"data row0 col1\" >154.471</td>\n                        <td id=\"T_6c5f45f4_9fb6_11eb_8514_b025aa2b6ea4row0_col2\" class=\"data row0 col2\" >476.803</td>\n                        <td id=\"T_6c5f45f4_9fb6_11eb_8514_b025aa2b6ea4row0_col3\" class=\"data row0 col3\" >429.73</td>\n                        <td id=\"T_6c5f45f4_9fb6_11eb_8514_b025aa2b6ea4row0_col4\" class=\"data row0 col4\" >219.299</td>\n            </tr>\n            <tr>\n                        <th id=\"T_6c5f45f4_9fb6_11eb_8514_b025aa2b6ea4level0_row1\" class=\"row_heading level0 row1\" >std</th>\n                        <td id=\"T_6c5f45f4_9fb6_11eb_8514_b025aa2b6ea4row1_col0\" class=\"data row1 col0\" >25.9398</td>\n                        <td id=\"T_6c5f45f4_9fb6_11eb_8514_b025aa2b6ea4row1_col1\" class=\"data row1 col1\" >22.8857</td>\n                        <td id=\"T_6c5f45f4_9fb6_11eb_8514_b025aa2b6ea4row1_col2\" class=\"data row1 col2\" >73.1533</td>\n                        <td id=\"T_6c5f45f4_9fb6_11eb_8514_b025aa2b6ea4row1_col3\" class=\"data row1 col3\" >65.7926</td>\n                        <td id=\"T_6c5f45f4_9fb6_11eb_8514_b025aa2b6ea4row1_col4\" class=\"data row1 col4\" >32.9696</td>\n            </tr>\n            <tr>\n                        <th id=\"T_6c5f45f4_9fb6_11eb_8514_b025aa2b6ea4level0_row2\" class=\"row_heading level0 row2\" >min</th>\n                        <td id=\"T_6c5f45f4_9fb6_11eb_8514_b025aa2b6ea4row2_col0\" class=\"data row2 col0\" >84.016</td>\n                        <td id=\"T_6c5f45f4_9fb6_11eb_8514_b025aa2b6ea4row2_col1\" class=\"data row2 col1\" >77.863</td>\n                        <td id=\"T_6c5f45f4_9fb6_11eb_8514_b025aa2b6ea4row2_col2\" class=\"data row2 col2\" >237.44</td>\n                        <td id=\"T_6c5f45f4_9fb6_11eb_8514_b025aa2b6ea4row2_col3\" class=\"data row2 col3\" >179.95</td>\n                        <td id=\"T_6c5f45f4_9fb6_11eb_8514_b025aa2b6ea4row2_col4\" class=\"data row2 col4\" >120.97</td>\n            </tr>\n            <tr>\n                        <th id=\"T_6c5f45f4_9fb6_11eb_8514_b025aa2b6ea4level0_row3\" class=\"row_heading level0 row3\" >50%</th>\n                        <td id=\"T_6c5f45f4_9fb6_11eb_8514_b025aa2b6ea4row3_col0\" class=\"data row3 col0\" >172.105</td>\n                        <td id=\"T_6c5f45f4_9fb6_11eb_8514_b025aa2b6ea4row3_col1\" class=\"data row3 col1\" >154.11</td>\n                        <td id=\"T_6c5f45f4_9fb6_11eb_8514_b025aa2b6ea4row3_col2\" class=\"data row3 col2\" >480.055</td>\n                        <td id=\"T_6c5f45f4_9fb6_11eb_8514_b025aa2b6ea4row3_col3\" class=\"data row3 col3\" >430.665</td>\n                        <td id=\"T_6c5f45f4_9fb6_11eb_8514_b025aa2b6ea4row3_col4\" class=\"data row3 col4\" >220.845</td>\n            </tr>\n            <tr>\n                        <th id=\"T_6c5f45f4_9fb6_11eb_8514_b025aa2b6ea4level0_row4\" class=\"row_heading level0 row4\" >max</th>\n                        <td id=\"T_6c5f45f4_9fb6_11eb_8514_b025aa2b6ea4row4_col0\" class=\"data row4 col0\" >248.43</td>\n                        <td id=\"T_6c5f45f4_9fb6_11eb_8514_b025aa2b6ea4row4_col1\" class=\"data row4 col1\" >227.92</td>\n                        <td id=\"T_6c5f45f4_9fb6_11eb_8514_b025aa2b6ea4row4_col2\" class=\"data row4 col2\" >705.36</td>\n                        <td id=\"T_6c5f45f4_9fb6_11eb_8514_b025aa2b6ea4row4_col3\" class=\"data row4 col3\" >664.43</td>\n                        <td id=\"T_6c5f45f4_9fb6_11eb_8514_b025aa2b6ea4row4_col4\" class=\"data row4 col4\" >318.58</td>\n            </tr>\n    </tbody></table>",
      "text/plain": "<pandas.io.formats.style.Styler at 0x16b797d0>"
     },
     "execution_count": 7,
     "metadata": {},
     "output_type": "execute_result"
    }
   ],
   "source": [
    "# Summary of annual operating cost for heating systems (oc columns)\r\n",
    "data_oc = data[['oc.gc','oc.gr','oc.ec','oc.er','oc.hp']]\r\n",
    "data_oc.describe().loc[['mean','std','min','50%','max']].style.highlight_min(axis=1).highlight_max(axis=1,color = 'green')"
   ]
  },
  {
   "cell_type": "code",
   "execution_count": 8,
   "metadata": {},
   "outputs": [
    {
     "data": {
      "text/html": "<div>\n<style scoped>\n    .dataframe tbody tr th:only-of-type {\n        vertical-align: middle;\n    }\n\n    .dataframe tbody tr th {\n        vertical-align: top;\n    }\n\n    .dataframe thead th {\n        text-align: right;\n    }\n</style>\n<table border=\"1\" class=\"dataframe\">\n  <thead>\n    <tr style=\"text-align: right;\">\n      <th></th>\n      <th>count</th>\n      <th>mean</th>\n      <th>std</th>\n      <th>min</th>\n      <th>25%</th>\n      <th>50%</th>\n      <th>75%</th>\n      <th>max</th>\n    </tr>\n  </thead>\n  <tbody>\n    <tr>\n      <th>income</th>\n      <td>900.00</td>\n      <td>4.64</td>\n      <td>1.68</td>\n      <td>2.00</td>\n      <td>3.00</td>\n      <td>5.00</td>\n      <td>6.00</td>\n      <td>7.00</td>\n    </tr>\n  </tbody>\n</table>\n</div>",
      "text/plain": "        count  mean  std  min  25%  50%  75%  max\nincome 900.00  4.64 1.68 2.00 3.00 5.00 6.00 7.00"
     },
     "execution_count": 8,
     "metadata": {},
     "output_type": "execute_result"
    }
   ],
   "source": [
    "# Summary of income\r\n",
    "pd.DataFrame(data['income'].describe()).transpose()"
   ]
  },
  {
   "cell_type": "code",
   "execution_count": 9,
   "metadata": {},
   "outputs": [
    {
     "data": {
      "text/html": "<div>\n<style scoped>\n    .dataframe tbody tr th:only-of-type {\n        vertical-align: middle;\n    }\n\n    .dataframe tbody tr th {\n        vertical-align: top;\n    }\n\n    .dataframe thead th {\n        text-align: right;\n    }\n</style>\n<table border=\"1\" class=\"dataframe\">\n  <thead>\n    <tr style=\"text-align: right;\">\n      <th></th>\n      <th>count</th>\n      <th>mean</th>\n      <th>std</th>\n      <th>min</th>\n      <th>25%</th>\n      <th>50%</th>\n      <th>75%</th>\n      <th>max</th>\n    </tr>\n  </thead>\n  <tbody>\n    <tr>\n      <th>agehed</th>\n      <td>900.00</td>\n      <td>42.94</td>\n      <td>14.09</td>\n      <td>20.00</td>\n      <td>30.00</td>\n      <td>45.00</td>\n      <td>55.00</td>\n      <td>65.00</td>\n    </tr>\n  </tbody>\n</table>\n</div>",
      "text/plain": "        count  mean   std   min   25%   50%   75%   max\nagehed 900.00 42.94 14.09 20.00 30.00 45.00 55.00 65.00"
     },
     "execution_count": 9,
     "metadata": {},
     "output_type": "execute_result"
    }
   ],
   "source": [
    "# Summary of age\r\n",
    "pd.DataFrame(data['agehed'].describe()).transpose()"
   ]
  },
  {
   "cell_type": "code",
   "execution_count": 10,
   "metadata": {},
   "outputs": [
    {
     "data": {
      "text/html": "<div>\n<style scoped>\n    .dataframe tbody tr th:only-of-type {\n        vertical-align: middle;\n    }\n\n    .dataframe tbody tr th {\n        vertical-align: top;\n    }\n\n    .dataframe thead th {\n        text-align: right;\n    }\n</style>\n<table border=\"1\" class=\"dataframe\">\n  <thead>\n    <tr style=\"text-align: right;\">\n      <th></th>\n      <th>count</th>\n      <th>mean</th>\n      <th>std</th>\n      <th>min</th>\n      <th>25%</th>\n      <th>50%</th>\n      <th>75%</th>\n      <th>max</th>\n    </tr>\n  </thead>\n  <tbody>\n    <tr>\n      <th>rooms</th>\n      <td>900.00</td>\n      <td>4.42</td>\n      <td>1.74</td>\n      <td>2.00</td>\n      <td>3.00</td>\n      <td>4.00</td>\n      <td>6.00</td>\n      <td>7.00</td>\n    </tr>\n  </tbody>\n</table>\n</div>",
      "text/plain": "       count  mean  std  min  25%  50%  75%  max\nrooms 900.00  4.42 1.74 2.00 3.00 4.00 6.00 7.00"
     },
     "execution_count": 10,
     "metadata": {},
     "output_type": "execute_result"
    }
   ],
   "source": [
    "# Summary of rooms\r\n",
    "pd.DataFrame(data['rooms'].describe()).transpose()"
   ]
  },
  {
   "cell_type": "code",
   "execution_count": 11,
   "metadata": {},
   "outputs": [
    {
     "data": {
      "text/html": "<div>\n<style scoped>\n    .dataframe tbody tr th:only-of-type {\n        vertical-align: middle;\n    }\n\n    .dataframe tbody tr th {\n        vertical-align: top;\n    }\n\n    .dataframe thead th {\n        text-align: right;\n    }\n</style>\n<table border=\"1\" class=\"dataframe\">\n  <thead>\n    <tr style=\"text-align: right;\">\n      <th></th>\n      <th>scostl</th>\n      <th>ncostl</th>\n      <th>valley</th>\n      <th>mountn</th>\n    </tr>\n  </thead>\n  <tbody>\n    <tr>\n      <th>region</th>\n      <td>361</td>\n      <td>260</td>\n      <td>177</td>\n      <td>102</td>\n    </tr>\n  </tbody>\n</table>\n</div>",
      "text/plain": "        scostl  ncostl  valley  mountn\nregion     361     260     177     102"
     },
     "execution_count": 11,
     "metadata": {},
     "output_type": "execute_result"
    }
   ],
   "source": [
    "#  levels counts of region\r\n",
    "pd.DataFrame(data['region'].value_counts()).transpose()"
   ]
  },
  {
   "cell_type": "code",
   "execution_count": 12,
   "metadata": {},
   "outputs": [
    {
     "data": {
      "text/plain": "gc    573\ngr    129\ner     84\nec     64\nhp     50\nName: depvar, dtype: int64"
     },
     "metadata": {},
     "output_type": "display_data"
    },
    {
     "data": {
      "text/html": "<div>\n<style scoped>\n    .dataframe tbody tr th:only-of-type {\n        vertical-align: middle;\n    }\n\n    .dataframe tbody tr th {\n        vertical-align: top;\n    }\n\n    .dataframe thead th {\n        text-align: right;\n    }\n</style>\n<table border=\"1\" class=\"dataframe\">\n  <thead>\n    <tr style=\"text-align: right;\">\n      <th></th>\n      <th>ic.gc</th>\n      <th>ic.gr</th>\n    </tr>\n    <tr>\n      <th>rooms</th>\n      <th></th>\n      <th></th>\n    </tr>\n  </thead>\n  <tbody>\n    <tr>\n      <th>2</th>\n      <td>769.46</td>\n      <td>922.00</td>\n    </tr>\n    <tr>\n      <th>3</th>\n      <td>778.96</td>\n      <td>905.99</td>\n    </tr>\n    <tr>\n      <th>4</th>\n      <td>761.96</td>\n      <td>929.38</td>\n    </tr>\n    <tr>\n      <th>5</th>\n      <td>786.09</td>\n      <td>932.55</td>\n    </tr>\n    <tr>\n      <th>6</th>\n      <td>786.58</td>\n      <td>925.85</td>\n    </tr>\n    <tr>\n      <th>7</th>\n      <td>779.37</td>\n      <td>917.31</td>\n    </tr>\n  </tbody>\n</table>\n</div>",
      "text/plain": "       ic.gc  ic.gr\nrooms              \n2     769.46 922.00\n3     778.96 905.99\n4     761.96 929.38\n5     786.09 932.55\n6     786.58 925.85\n7     779.37 917.31"
     },
     "execution_count": 12,
     "metadata": {},
     "output_type": "execute_result"
    }
   ],
   "source": [
    "display(data['depvar'].value_counts())\r\n",
    "data.describe()\r\n",
    "#data[['ic.gc','ic.gr','ic.ec','ic.er','ic.hp']].describe()\r\n",
    "data_heat = data[['ic.gc','ic.gr','rooms']]\r\n",
    "data_heat.groupby(['rooms']).mean()"
   ]
  },
  {
   "cell_type": "code",
   "execution_count": 13,
   "metadata": {},
   "outputs": [
    {
     "data": {
      "text/html": "<div>\n<style scoped>\n    .dataframe tbody tr th:only-of-type {\n        vertical-align: middle;\n    }\n\n    .dataframe tbody tr th {\n        vertical-align: top;\n    }\n\n    .dataframe thead th {\n        text-align: right;\n    }\n</style>\n<table border=\"1\" class=\"dataframe\">\n  <thead>\n    <tr style=\"text-align: right;\">\n      <th></th>\n      <th>idcase</th>\n      <th>ic.gc</th>\n      <th>ic.gr</th>\n      <th>ic.ec</th>\n      <th>ic.er</th>\n      <th>ic.hp</th>\n      <th>oc.gc</th>\n      <th>oc.gr</th>\n      <th>oc.ec</th>\n      <th>oc.er</th>\n      <th>oc.hp</th>\n      <th>income</th>\n      <th>agehed</th>\n    </tr>\n    <tr>\n      <th>rooms</th>\n      <th></th>\n      <th></th>\n      <th></th>\n      <th></th>\n      <th></th>\n      <th></th>\n      <th></th>\n      <th></th>\n      <th></th>\n      <th></th>\n      <th></th>\n      <th></th>\n      <th></th>\n    </tr>\n  </thead>\n  <tbody>\n    <tr>\n      <th>2</th>\n      <td>449.81</td>\n      <td>769.46</td>\n      <td>922.00</td>\n      <td>820.51</td>\n      <td>985.19</td>\n      <td>1,049.88</td>\n      <td>171.49</td>\n      <td>154.04</td>\n      <td>476.85</td>\n      <td>431.58</td>\n      <td>218.97</td>\n      <td>4.66</td>\n      <td>42.93</td>\n    </tr>\n    <tr>\n      <th>3</th>\n      <td>469.25</td>\n      <td>778.96</td>\n      <td>905.99</td>\n      <td>818.49</td>\n      <td>980.15</td>\n      <td>1,041.33</td>\n      <td>168.45</td>\n      <td>153.60</td>\n      <td>477.08</td>\n      <td>427.35</td>\n      <td>218.30</td>\n      <td>4.52</td>\n      <td>43.30</td>\n    </tr>\n    <tr>\n      <th>4</th>\n      <td>437.33</td>\n      <td>761.96</td>\n      <td>929.38</td>\n      <td>816.67</td>\n      <td>983.54</td>\n      <td>1,036.10</td>\n      <td>171.35</td>\n      <td>155.41</td>\n      <td>478.58</td>\n      <td>427.04</td>\n      <td>216.07</td>\n      <td>4.78</td>\n      <td>44.06</td>\n    </tr>\n    <tr>\n      <th>5</th>\n      <td>454.98</td>\n      <td>786.09</td>\n      <td>932.55</td>\n      <td>836.75</td>\n      <td>986.04</td>\n      <td>1,059.89</td>\n      <td>174.62</td>\n      <td>155.84</td>\n      <td>481.01</td>\n      <td>436.24</td>\n      <td>220.13</td>\n      <td>4.38</td>\n      <td>41.72</td>\n    </tr>\n    <tr>\n      <th>6</th>\n      <td>429.81</td>\n      <td>786.58</td>\n      <td>925.85</td>\n      <td>844.82</td>\n      <td>984.55</td>\n      <td>1,061.22</td>\n      <td>174.97</td>\n      <td>154.39</td>\n      <td>474.98</td>\n      <td>429.14</td>\n      <td>224.27</td>\n      <td>4.72</td>\n      <td>43.69</td>\n    </tr>\n    <tr>\n      <th>7</th>\n      <td>459.28</td>\n      <td>779.37</td>\n      <td>917.31</td>\n      <td>812.95</td>\n      <td>984.38</td>\n      <td>1,032.21</td>\n      <td>172.46</td>\n      <td>153.81</td>\n      <td>472.68</td>\n      <td>427.41</td>\n      <td>218.42</td>\n      <td>4.78</td>\n      <td>41.94</td>\n    </tr>\n  </tbody>\n</table>\n</div>",
      "text/plain": "       idcase  ic.gc  ic.gr  ic.ec  ic.er    ic.hp  oc.gc  oc.gr  oc.ec  \\\nrooms                                                                     \n2      449.81 769.46 922.00 820.51 985.19 1,049.88 171.49 154.04 476.85   \n3      469.25 778.96 905.99 818.49 980.15 1,041.33 168.45 153.60 477.08   \n4      437.33 761.96 929.38 816.67 983.54 1,036.10 171.35 155.41 478.58   \n5      454.98 786.09 932.55 836.75 986.04 1,059.89 174.62 155.84 481.01   \n6      429.81 786.58 925.85 844.82 984.55 1,061.22 174.97 154.39 474.98   \n7      459.28 779.37 917.31 812.95 984.38 1,032.21 172.46 153.81 472.68   \n\n       oc.er  oc.hp  income  agehed  \nrooms                                \n2     431.58 218.97    4.66   42.93  \n3     427.35 218.30    4.52   43.30  \n4     427.04 216.07    4.78   44.06  \n5     436.24 220.13    4.38   41.72  \n6     429.14 224.27    4.72   43.69  \n7     427.41 218.42    4.78   41.94  "
     },
     "execution_count": 13,
     "metadata": {},
     "output_type": "execute_result"
    }
   ],
   "source": [
    "data.groupby(['rooms']).mean()"
   ]
  },
  {
   "cell_type": "code",
   "execution_count": 14,
   "metadata": {},
   "outputs": [
    {
     "name": "stderr",
     "output_type": "stream",
     "text": [
      "ipykernel_launcher:10: SettingWithCopyWarning: \n",
      "A value is trying to be set on a copy of a slice from a DataFrame.\n",
      "Try using .loc[row_indexer,col_indexer] = value instead\n",
      "\n",
      "See the caveats in the documentation: http://pandas.pydata.org/pandas-docs/stable/user_guide/indexing.html#returning-a-view-versus-a-copy\n"
     ]
    }
   ],
   "source": [
    "# Select feature and target\r\n",
    "X = data.drop(['depvar','idcase'],axis=1)\r\n",
    "y = data[['depvar']]\r\n",
    "\r\n",
    "from sklearn import preprocessing\r\n",
    "# Encoding Categorical variables \r\n",
    "\r\n",
    "le = preprocessing.LabelEncoder()\r\n",
    "ycoppy = y.copy()\r\n",
    "y['depvar'] = le.fit_transform(y['depvar'])\r\n",
    "X['region'] = le.fit_transform(X['region'])"
   ]
  },
  {
   "cell_type": "code",
   "execution_count": 15,
   "metadata": {},
   "outputs": [
    {
     "data": {
      "text/html": "<div>\n<style scoped>\n    .dataframe tbody tr th:only-of-type {\n        vertical-align: middle;\n    }\n\n    .dataframe tbody tr th {\n        vertical-align: top;\n    }\n\n    .dataframe thead th {\n        text-align: right;\n    }\n</style>\n<table border=\"1\" class=\"dataframe\">\n  <thead>\n    <tr style=\"text-align: right;\">\n      <th></th>\n      <th>70</th>\n      <th>827</th>\n      <th>231</th>\n      <th>588</th>\n      <th>39</th>\n      <th>731</th>\n      <th>299</th>\n      <th>110</th>\n      <th>72</th>\n      <th>86</th>\n      <th>139</th>\n      <th>533</th>\n      <th>801</th>\n      <th>120</th>\n      <th>711</th>\n    </tr>\n  </thead>\n  <tbody>\n    <tr>\n      <th>Actual</th>\n      <td>gr</td>\n      <td>hp</td>\n      <td>gc</td>\n      <td>gc</td>\n      <td>er</td>\n      <td>gc</td>\n      <td>gc</td>\n      <td>gc</td>\n      <td>er</td>\n      <td>gc</td>\n      <td>gc</td>\n      <td>er</td>\n      <td>hp</td>\n      <td>gr</td>\n      <td>gc</td>\n    </tr>\n    <tr>\n      <th>Encoded</th>\n      <td>3</td>\n      <td>4</td>\n      <td>2</td>\n      <td>2</td>\n      <td>1</td>\n      <td>2</td>\n      <td>2</td>\n      <td>2</td>\n      <td>1</td>\n      <td>2</td>\n      <td>2</td>\n      <td>1</td>\n      <td>4</td>\n      <td>3</td>\n      <td>2</td>\n    </tr>\n  </tbody>\n</table>\n</div>",
      "text/plain": "        70  827 231 588 39  731 299 110 72  86  139 533 801 120 711\nActual   gr  hp  gc  gc  er  gc  gc  gc  er  gc  gc  er  hp  gr  gc\nEncoded   3   4   2   2   1   2   2   2   1   2   2   1   4   3   2"
     },
     "execution_count": 15,
     "metadata": {},
     "output_type": "execute_result"
    }
   ],
   "source": [
    "# Values after encoding\r\n",
    "ycoppy['Encoded'] = y\r\n",
    "ycoppy.columns = ['Actual','Encoded']\r\n",
    "ycoppy.sample(15,random_state=42).transpose()"
   ]
  },
  {
   "cell_type": "code",
   "execution_count": 16,
   "metadata": {},
   "outputs": [
    {
     "data": {
      "text/html": "<div>\n<style scoped>\n    .dataframe tbody tr th:only-of-type {\n        vertical-align: middle;\n    }\n\n    .dataframe tbody tr th {\n        vertical-align: top;\n    }\n\n    .dataframe thead th {\n        text-align: right;\n    }\n</style>\n<table border=\"1\" class=\"dataframe\">\n  <thead>\n    <tr style=\"text-align: right;\">\n      <th></th>\n      <th>ec: 0</th>\n      <th>er: 1</th>\n      <th>gc: 2</th>\n      <th>gr: 3</th>\n      <th>hp: 4</th>\n    </tr>\n  </thead>\n  <tbody>\n    <tr>\n      <th>Train</th>\n      <td>54</td>\n      <td>61</td>\n      <td>463</td>\n      <td>104</td>\n      <td>38</td>\n    </tr>\n    <tr>\n      <th>Test</th>\n      <td>10</td>\n      <td>23</td>\n      <td>110</td>\n      <td>25</td>\n      <td>12</td>\n    </tr>\n  </tbody>\n</table>\n</div>",
      "text/plain": "        ec: 0  er: 1  gc: 2  gr: 3  hp: 4\nTrain      54     61    463    104     38\nTest       10     23    110     25     12"
     },
     "execution_count": 16,
     "metadata": {},
     "output_type": "execute_result"
    }
   ],
   "source": [
    "# Split dataset into training set and test set\r\n",
    "X_train, X_test, y_train, y_test = train_test_split(X, y,test_size=0.2, random_state=42)\r\n",
    "\r\n",
    "split_Data = {'Train ' : y_train['depvar'].value_counts(), 'Test ' : y_test['depvar'].value_counts()}\r\n",
    "df_2 = pd.DataFrame(split_Data)\r\n",
    "df_2.index = ['ec: 0' ,'er: 1','gc: 2', 'gr: 3','hp: 4']\r\n",
    "df_2.transpose()"
   ]
  },
  {
   "cell_type": "code",
   "execution_count": 17,
   "metadata": {},
   "outputs": [
    {
     "data": {
      "text/plain": "0     54\n1     61\n2    463\n3    104\n4     38\nName: depvar, dtype: int64"
     },
     "execution_count": 17,
     "metadata": {},
     "output_type": "execute_result"
    }
   ],
   "source": [
    "y_train['depvar'].value_counts().sort_index()"
   ]
  },
  {
   "cell_type": "code",
   "execution_count": 18,
   "metadata": {},
   "outputs": [
    {
     "data": {
      "text/plain": "Text(0.5, 1.0, 'Train Set')"
     },
     "execution_count": 18,
     "metadata": {},
     "output_type": "execute_result"
    },
    {
     "data": {
      "image/png": "[encoded data removed]",
      "text/plain": "<Figure size 432x288 with 1 Axes>"
     },
     "metadata": {
      "needs_background": "light"
     },
     "output_type": "display_data"
    }
   ],
   "source": [
    "# https://www.kite.com/python/answers/how-to-display-the-value-of-each-bar-in-a-bar-chart-using-matplotlib-in-python\r\n",
    "# Train set target value counts\r\n",
    "sns.countplot(x ='depvar',data = y_train, palette = 'hls')\r\n",
    "for index, value in enumerate(y_train['depvar'].value_counts().sort_index()):\r\n",
    "    plt.text(index, value, str(value))\r\n",
    "plt.title('Train Set')"
   ]
  },
  {
   "cell_type": "code",
   "execution_count": 19,
   "metadata": {},
   "outputs": [
    {
     "data": {
      "text/plain": "Text(0.5, 1.0, 'Test Set')"
     },
     "execution_count": 19,
     "metadata": {},
     "output_type": "execute_result"
    },
    {
     "data": {
      "image/png": "[encoded data removed]",
      "text/plain": "<Figure size 432x288 with 1 Axes>"
     },
     "metadata": {
      "needs_background": "light"
     },
     "output_type": "display_data"
    }
   ],
   "source": [
    "# Test set target value counts\r\n",
    "sns.countplot(x ='depvar',data = y_test, palette = 'hls')\r\n",
    "for index, value in enumerate(y_test['depvar'].value_counts().sort_index()):\r\n",
    "    plt.text(index, value, str(value))\r\n",
    "plt.title('Test Set')"
   ]
  },
  {
   "cell_type": "code",
   "execution_count": 20,
   "metadata": {},
   "outputs": [],
   "source": [
    "from sklearn.tree import DecisionTreeClassifier # Import Decision Tree Classifier\r\n",
    "from sklearn.model_selection import train_test_split # Import train_test_split function\r\n",
    "from sklearn import metrics #Import scikit-learn metrics module for accuracy calculation\r\n",
    "\r\n",
    "# Create Decision Tree classifer object\r\n",
    "dtree = DecisionTreeClassifier(max_depth=4)\r\n",
    "\r\n",
    "# Train Decision Tree Classifer\r\n",
    "dtree = dtree.fit(X_train,y_train)\r\n",
    "\r\n",
    "#Predict the response for test dataset\r\n",
    "y_train_predicted = dtree.predict(X_train)\r\n",
    "y_test_predicted = dtree.predict(X_test)"
   ]
  },
  {
   "cell_type": "code",
   "execution_count": 21,
   "metadata": {},
   "outputs": [
    {
     "data": {
      "text/html": "<div>\n<style scoped>\n    .dataframe tbody tr th:only-of-type {\n        vertical-align: middle;\n    }\n\n    .dataframe tbody tr th {\n        vertical-align: top;\n    }\n\n    .dataframe thead th {\n        text-align: right;\n    }\n</style>\n<table border=\"1\" class=\"dataframe\">\n  <thead>\n    <tr style=\"text-align: right;\">\n      <th></th>\n      <th>10</th>\n      <th>334</th>\n      <th>244</th>\n      <th>678</th>\n      <th>306</th>\n      <th>591</th>\n      <th>118</th>\n      <th>290</th>\n      <th>316</th>\n    </tr>\n  </thead>\n  <tbody>\n    <tr>\n      <th>Actual</th>\n      <td>2</td>\n      <td>2</td>\n      <td>2</td>\n      <td>0</td>\n      <td>2</td>\n      <td>0</td>\n      <td>2</td>\n      <td>2</td>\n      <td>4</td>\n    </tr>\n    <tr>\n      <th>Predicted_train</th>\n      <td>2</td>\n      <td>2</td>\n      <td>2</td>\n      <td>2</td>\n      <td>2</td>\n      <td>2</td>\n      <td>2</td>\n      <td>2</td>\n      <td>2</td>\n    </tr>\n  </tbody>\n</table>\n</div>",
      "text/plain": "                 10   334  244  678  306  591  118  290  316\nActual             2    2    2    0    2    0    2    2    4\nPredicted_train    2    2    2    2    2    2    2    2    2"
     },
     "metadata": {},
     "output_type": "display_data"
    },
    {
     "name": "stdout",
     "output_type": "stream",
     "text": [
      "\n",
      "\n",
      "Train Set Accuracy: 0.6666666666666666\n",
      "Test Set Accuracy: 0.6\n"
     ]
    }
   ],
   "source": [
    "# Actual and Predicted values\r\n",
    "modelEvaluation = y_train.copy()\r\n",
    "modelEvaluation['Predicted_train'] = y_train_predicted\r\n",
    "modelEvaluation.columns = ['Actual','Predicted_train']\r\n",
    "display(modelEvaluation.head(9).transpose())\r\n",
    "\r\n",
    "print('\\n')\r\n",
    "\r\n",
    "# Accuracy on Train and Test set\r\n",
    "print(\"Train Set Accuracy:\",metrics.accuracy_score(y_train, y_train_predicted))\r\n",
    "print(\"Test Set Accuracy:\",metrics.accuracy_score(y_test, y_test_predicted))"
   ]
  },
  {
   "cell_type": "code",
   "execution_count": 22,
   "metadata": {},
   "outputs": [
    {
     "data": {
      "text/html": "<div>\n<style scoped>\n    .dataframe tbody tr th:only-of-type {\n        vertical-align: middle;\n    }\n\n    .dataframe tbody tr th {\n        vertical-align: top;\n    }\n\n    .dataframe thead th {\n        text-align: right;\n    }\n</style>\n<table border=\"1\" class=\"dataframe\">\n  <thead>\n    <tr style=\"text-align: right;\">\n      <th></th>\n      <th>ec: 0</th>\n      <th>er: 1</th>\n      <th>gc: 2</th>\n      <th>gr: 3</th>\n      <th>hp: 4</th>\n    </tr>\n  </thead>\n  <tbody>\n    <tr>\n      <th>Sensitivity Train</th>\n      <td>0.02</td>\n      <td>0.11</td>\n      <td>0.99</td>\n      <td>0.09</td>\n      <td>0.13</td>\n    </tr>\n    <tr>\n      <th>Sensitivity Test</th>\n      <td>0.00</td>\n      <td>0.00</td>\n      <td>0.98</td>\n      <td>0.00</td>\n      <td>0.00</td>\n    </tr>\n  </tbody>\n</table>\n</div>",
      "text/plain": "                    ec: 0  er: 1  gc: 2  gr: 3  hp: 4\n Sensitivity Train   0.02   0.11   0.99   0.09   0.13\nSensitivity Test     0.00   0.00   0.98   0.00   0.00"
     },
     "execution_count": 22,
     "metadata": {},
     "output_type": "execute_result"
    }
   ],
   "source": [
    "# Sensitivity: the proportion of actual positive cases which are correctly identified.\r\n",
    "sens_df = pd.DataFrame(metrics.recall_score(y_train,y_train_predicted,average=None),columns=[' Sensitivity Train'])\r\n",
    "sens_df2 = pd.DataFrame(metrics.recall_score(y_test,y_test_predicted,average=None),columns=['Sensitivity Test'])\r\n",
    "sens_df = sens_df.join(sens_df2)\r\n",
    "sens_df.index= ['ec: 0' ,'er: 1','gc: 2', 'gr: 3','hp: 4']\r\n",
    "sens_df.transpose()"
   ]
  },
  {
   "cell_type": "code",
   "execution_count": 23,
   "metadata": {},
   "outputs": [
    {
     "data": {
      "text/html": "<div>\n<style scoped>\n    .dataframe tbody tr th:only-of-type {\n        vertical-align: middle;\n    }\n\n    .dataframe tbody tr th {\n        vertical-align: top;\n    }\n\n    .dataframe thead th {\n        text-align: right;\n    }\n</style>\n<table border=\"1\" class=\"dataframe\">\n  <thead>\n    <tr style=\"text-align: right;\">\n      <th></th>\n      <th>ec: 0</th>\n      <th>er: 1</th>\n      <th>gc: 2</th>\n      <th>gr: 3</th>\n      <th>hp: 4</th>\n    </tr>\n  </thead>\n  <tbody>\n    <tr>\n      <th>Specificity Train</th>\n      <td>1.00</td>\n      <td>1.00</td>\n      <td>0.11</td>\n      <td>0.99</td>\n      <td>0.99</td>\n    </tr>\n    <tr>\n      <th>Specificity Test</th>\n      <td>1.00</td>\n      <td>0.98</td>\n      <td>0.09</td>\n      <td>0.99</td>\n      <td>0.98</td>\n    </tr>\n  </tbody>\n</table>\n</div>",
      "text/plain": "                   ec: 0  er: 1  gc: 2  gr: 3  hp: 4\nSpecificity Train   1.00   1.00   0.11   0.99   0.99\nSpecificity Test    1.00   0.98   0.09   0.99   0.98"
     },
     "execution_count": 23,
     "metadata": {},
     "output_type": "execute_result"
    }
   ],
   "source": [
    "from imblearn.metrics import specificity_score as spec_score\r\n",
    "# Specificity the proportion of actucal negative cases which are correctly identified\r\n",
    "spec_df = pd.DataFrame(spec_score(y_train, y_train_predicted,average = None),columns=['Specificity Train'])\r\n",
    "spec_df2 = pd.DataFrame(spec_score(y_test, y_test_predicted,average = None),columns=['Specificity Test'])\r\n",
    "spec_df = spec_df.join(spec_df2)\r\n",
    "spec_df.index= ['ec: 0' ,'er: 1','gc: 2', 'gr: 3','hp: 4']\r\n",
    "spec_df.transpose()\r\n"
   ]
  },
  {
   "cell_type": "code",
   "execution_count": 24,
   "metadata": {},
   "outputs": [
    {
     "data": {
      "text/plain": "Text(0.5, 257.44, 'Predicted label')"
     },
     "execution_count": 24,
     "metadata": {},
     "output_type": "execute_result"
    },
    {
     "data": {
      "image/png": "[encoded data removed]",
      "text/plain": "<Figure size 432x288 with 2 Axes>"
     },
     "metadata": {
      "needs_background": "light"
     },
     "output_type": "display_data"
    }
   ],
   "source": [
    "# Confusion Matrix\r\n",
    "cnf_matrix_train = metrics.confusion_matrix(y_train, y_train_predicted)\r\n",
    "cnf_matrix_test = metrics.confusion_matrix(y_test, y_test_predicted)\r\n",
    "class_names=[0,1,2,3,4]\r\n",
    "fig, ax = plt.subplots()\r\n",
    "tick_marks = np.arange(len(class_names))\r\n",
    "plt.xticks(tick_marks, class_names)\r\n",
    "plt.yticks(tick_marks, class_names)\r\n",
    "# create heatmap\r\n",
    "sns.heatmap(pd.DataFrame(cnf_matrix_train), annot=True,cmap=\"Blues\",fmt= \"g\")\r\n",
    "#sns.heatmap(pd.DataFrame(cnf_matrix_test), annot=True,cmap=\"Blues\",fmt= \"g\")\r\n",
    "ax.xaxis.set_label_position(\"top\")\r\n",
    "plt.tight_layout()\r\n",
    "plt.title('Train Confusion matrix', y=1.1)\r\n",
    "plt.ylabel('Actual label')\r\n",
    "plt.xlabel('Predicted label')"
   ]
  },
  {
   "cell_type": "code",
   "execution_count": null,
   "metadata": {},
   "outputs": [],
   "source": [
    "from sklearn.externals.six import StringIO  \r\n",
    "from IPython.display import Image  \r\n",
    "from sklearn.tree import export_graphviz\r\n",
    "import pydotplus\r\n",
    "dot_data = StringIO()\r\n",
    "\r\n",
    "feature_cols  = X.columns\r\n",
    "\r\n",
    "export_graphviz(dtree, out_file=dot_data,  \r\n",
    "                filled=True, rounded=True,\r\n",
    "                special_characters=True, feature_names = feature_cols,class_names=['Electric Central_0' ,'Electric Room_1','Gas Central_2', 'Gas Room_3','Heat Pump_4'])\r\n",
    "graph = pydotplus.graph_from_dot_data(dot_data.getvalue())  \r\n",
    "graph.write_png('heating Systems.png')\r\n",
    "Image(graph.create_png())"
   ]
  },
  {
   "cell_type": "code",
   "execution_count": 26,
   "metadata": {},
   "outputs": [
    {
     "name": "stderr",
     "output_type": "stream",
     "text": [
      "C:\\Users\\agust\\AppData\\Local\\Programs\\Python\\Python37-32\\lib\\site-packages\\sklearn\\utils\\validation.py:63: DataConversionWarning: A column-vector y was passed when a 1d array was expected. Please change the shape of y to (n_samples, ), for example using ravel().\n",
      "  return f(*args, **kwargs)\n"
     ]
    }
   ],
   "source": [
    "from sklearn.linear_model import LogisticRegression\r\n",
    "model_multi = LogisticRegression(multi_class='multinomial',solver=\"newton-cg\")\r\n",
    "model_multi.fit(X_train,y_train)\r\n",
    "\r\n",
    "y_train_predicted_multi = model_multi.predict(X_train)\r\n",
    "y_test_predicted_multi = model_multi.predict(X_test)"
   ]
  },
  {
   "cell_type": "code",
   "execution_count": 28,
   "metadata": {},
   "outputs": [
    {
     "name": "stdout",
     "output_type": "stream",
     "text": [
      "Decision Tree Accuracy: 0.6\n",
      "Multinominal Accuracy: 0.6111111111111112\n"
     ]
    },
    {
     "data": {
      "text/html": "<div>\n<style scoped>\n    .dataframe tbody tr th:only-of-type {\n        vertical-align: middle;\n    }\n\n    .dataframe tbody tr th {\n        vertical-align: top;\n    }\n\n    .dataframe thead th {\n        text-align: right;\n    }\n</style>\n<table border=\"1\" class=\"dataframe\">\n  <thead>\n    <tr style=\"text-align: right;\">\n      <th></th>\n      <th>ec: 0</th>\n      <th>er: 1</th>\n      <th>gc: 2</th>\n      <th>gr: 3</th>\n      <th>hp: 4</th>\n    </tr>\n  </thead>\n  <tbody>\n    <tr>\n      <th>Decision Tree Sensitivity</th>\n      <td>0.00</td>\n      <td>0.00</td>\n      <td>0.98</td>\n      <td>0.00</td>\n      <td>0.00</td>\n    </tr>\n    <tr>\n      <th>Multinominal Sensitivity</th>\n      <td>0.00</td>\n      <td>0.00</td>\n      <td>1.00</td>\n      <td>0.00</td>\n      <td>0.00</td>\n    </tr>\n    <tr>\n      <th>Decision Tree Specificity</th>\n      <td>1.00</td>\n      <td>0.98</td>\n      <td>0.09</td>\n      <td>0.99</td>\n      <td>0.98</td>\n    </tr>\n    <tr>\n      <th>Multinominal Specificity</th>\n      <td>1.00</td>\n      <td>1.00</td>\n      <td>0.00</td>\n      <td>1.00</td>\n      <td>1.00</td>\n    </tr>\n  </tbody>\n</table>\n</div>",
      "text/plain": "                           ec: 0  er: 1  gc: 2  gr: 3  hp: 4\nDecision Tree Sensitivity   0.00   0.00   0.98   0.00   0.00\nMultinominal Sensitivity    0.00   0.00   1.00   0.00   0.00\nDecision Tree Specificity   1.00   0.98   0.09   0.99   0.98\nMultinominal Specificity    1.00   1.00   0.00   1.00   1.00"
     },
     "execution_count": 28,
     "metadata": {},
     "output_type": "execute_result"
    }
   ],
   "source": [
    "# Accuracy \r\n",
    "acc_dtree =  metrics.accuracy_score(y_test, y_test_predicted)\r\n",
    "acc_multi = metrics.accuracy_score(y_test, y_test_predicted_multi)\r\n",
    "\r\n",
    "print(\"Decision Tree Accuracy:\",acc_dtree)\r\n",
    "print(\"Multinominal Accuracy:\",acc_multi)\r\n",
    "\r\n",
    "# Sensitivity\r\n",
    "sens_dtree = pd.DataFrame(metrics.recall_score(y_test, y_test_predicted,average = None),columns=['Decision Tree Sensitivity'])\r\n",
    "sens_multi = pd.DataFrame(metrics.recall_score(y_test,y_test_predicted_multi,average=None),columns=['Multinominal Sensitivity '])\r\n",
    "# Specificity\r\n",
    "spec_dtree = pd.DataFrame(spec_score(y_test, y_test_predicted,average = None),columns=['Decision Tree Specificity'])\r\n",
    "spec_multi = pd.DataFrame(spec_score(y_test, y_test_predicted_multi,average = None),columns=['Multinominal Specificity'])\r\n",
    "\r\n",
    "sens_dtree = sens_dtree.join(sens_multi)\r\n",
    "sens_dtree = sens_dtree.join(spec_dtree)\r\n",
    "sens_dtree = sens_dtree.join(spec_multi)\r\n",
    "\r\n",
    "sens_dtree.index= ['ec: 0' ,'er: 1','gc: 2', 'gr: 3','hp: 4']\r\n",
    "sens_dtree.transpose()"
   ]
  }
 ],
 "metadata": {
  "kernelspec": {
   "display_name": "Python 3.7.4 32-bit",
   "name": "python37432bit58b5c763c77246ecbadd24cca7642150"
  },
  "language_info": {
   "codemirror_mode": {
    "name": "ipython",
    "version": 3
   },
   "file_extension": ".py",
   "mimetype": "text/x-python",
   "name": "python",
   "nbconvert_exporter": "python",
   "pygments_lexer": "ipython3",
   "version": "3.7.4"
  },
  "metadata": {
   "interpreter": {
    "hash": "cefe87b5bed071fc0637cb28860c8900edf61906071c355912a149e2733f6ce7"
   }
  },
  "orig_nbformat": 2
 },
 "nbformat": 4,
 "nbformat_minor": 2
}