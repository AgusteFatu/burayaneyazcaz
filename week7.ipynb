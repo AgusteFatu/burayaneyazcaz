{
  "nbformat": 4,
  "nbformat_minor": 0,
  "metadata": {
    "colab": {
      "name": "Untitled2.ipynb",
      "provenance": [],
      "authorship_tag": "ABX9TyMqVhAhVUZJBxEXn9eiqVUL",
      "include_colab_link": true
    },
    "kernelspec": {
      "name": "python3",
      "display_name": "Python 3"
    },
    "language_info": {
      "name": "python"
    }
  },
  "cells": [
    {
      "cell_type": "markdown",
      "metadata": {
        "id": "view-in-github",
        "colab_type": "text"
      },
      "source": [
        "<a href=\"https://colab.research.google.com/github/AgusteFatu/burayaneyazcaz/blob/main/week7.ipynb\" target=\"_parent\"><img src=\"https://colab.research.google.com/assets/colab-badge.svg\" alt=\"Open In Colab\"/></a>"
      ]
    },
    {
      "cell_type": "code",
      "metadata": {
        "id": "Dvp3wRI4j_gz"
      },
      "source": [
        "import pandas as pd \n",
        "import numpy as np\n",
        "import matplotlib.pyplot as plt\n",
        "from sklearn.tree import DecisionTreeRegressor # Import Decision Tree Regression\n",
        "from sklearn.model_selection import train_test_split # Import train_test_split function\n",
        "from sklearn import metrics #Import scikit-learn metrics module for accuracy calculation"
      ],
      "execution_count": 160,
      "outputs": []
    },
    {
      "cell_type": "code",
      "metadata": {
        "id": "Lpo6pr6Pz9_F"
      },
      "source": [
        "data = pd.read_csv('https://raw.githubusercontent.com/AgusteFatu/burayaneyazcaz/main/data/epilepsy.csv')\n",
        "del data['Unnamed: 0']\n",
        "\n",
        "pd.options.display.float_format = '{:,.2f}'.format"
      ],
      "execution_count": 74,
      "outputs": []
    },
    {
      "cell_type": "code",
      "metadata": {
        "colab": {
          "base_uri": "https://localhost:8080/",
          "height": 238
        },
        "id": "bgb-Xo51pfcF",
        "outputId": "b7563fa2-cfaf-48a8-def7-01f20812e416"
      },
      "source": [
        "# Example of observations\n",
        "display(data.head(5))\n",
        "print(\"\\n{} Rows and {} columns.\".format(data.shape[0],data.shape[1]))"
      ],
      "execution_count": 59,
      "outputs": [
        {
          "output_type": "display_data",
          "data": {
            "text/html": [
              "<div>\n",
              "<style scoped>\n",
              "    .dataframe tbody tr th:only-of-type {\n",
              "        vertical-align: middle;\n",
              "    }\n",
              "\n",
              "    .dataframe tbody tr th {\n",
              "        vertical-align: top;\n",
              "    }\n",
              "\n",
              "    .dataframe thead th {\n",
              "        text-align: right;\n",
              "    }\n",
              "</style>\n",
              "<table border=\"1\" class=\"dataframe\">\n",
              "  <thead>\n",
              "    <tr style=\"text-align: right;\">\n",
              "      <th></th>\n",
              "      <th>ID</th>\n",
              "      <th>Y1</th>\n",
              "      <th>Y2</th>\n",
              "      <th>Y3</th>\n",
              "      <th>Y4</th>\n",
              "      <th>Base</th>\n",
              "      <th>Age</th>\n",
              "      <th>Trt</th>\n",
              "      <th>Ysum</th>\n",
              "      <th>Age10</th>\n",
              "      <th>Base4</th>\n",
              "    </tr>\n",
              "  </thead>\n",
              "  <tbody>\n",
              "    <tr>\n",
              "      <th>0</th>\n",
              "      <td>104</td>\n",
              "      <td>5</td>\n",
              "      <td>3</td>\n",
              "      <td>3</td>\n",
              "      <td>3</td>\n",
              "      <td>11</td>\n",
              "      <td>31</td>\n",
              "      <td>placebo</td>\n",
              "      <td>14</td>\n",
              "      <td>3.1</td>\n",
              "      <td>2.75</td>\n",
              "    </tr>\n",
              "    <tr>\n",
              "      <th>1</th>\n",
              "      <td>106</td>\n",
              "      <td>3</td>\n",
              "      <td>5</td>\n",
              "      <td>3</td>\n",
              "      <td>3</td>\n",
              "      <td>11</td>\n",
              "      <td>30</td>\n",
              "      <td>placebo</td>\n",
              "      <td>14</td>\n",
              "      <td>3.0</td>\n",
              "      <td>2.75</td>\n",
              "    </tr>\n",
              "    <tr>\n",
              "      <th>2</th>\n",
              "      <td>107</td>\n",
              "      <td>2</td>\n",
              "      <td>4</td>\n",
              "      <td>0</td>\n",
              "      <td>5</td>\n",
              "      <td>6</td>\n",
              "      <td>25</td>\n",
              "      <td>placebo</td>\n",
              "      <td>11</td>\n",
              "      <td>2.5</td>\n",
              "      <td>1.50</td>\n",
              "    </tr>\n",
              "    <tr>\n",
              "      <th>3</th>\n",
              "      <td>114</td>\n",
              "      <td>4</td>\n",
              "      <td>4</td>\n",
              "      <td>1</td>\n",
              "      <td>4</td>\n",
              "      <td>8</td>\n",
              "      <td>36</td>\n",
              "      <td>placebo</td>\n",
              "      <td>13</td>\n",
              "      <td>3.6</td>\n",
              "      <td>2.00</td>\n",
              "    </tr>\n",
              "    <tr>\n",
              "      <th>4</th>\n",
              "      <td>116</td>\n",
              "      <td>7</td>\n",
              "      <td>18</td>\n",
              "      <td>9</td>\n",
              "      <td>21</td>\n",
              "      <td>66</td>\n",
              "      <td>22</td>\n",
              "      <td>placebo</td>\n",
              "      <td>55</td>\n",
              "      <td>2.2</td>\n",
              "      <td>16.50</td>\n",
              "    </tr>\n",
              "  </tbody>\n",
              "</table>\n",
              "</div>"
            ],
            "text/plain": [
              "    ID  Y1  Y2  Y3  Y4  Base  Age      Trt  Ysum  Age10  Base4\n",
              "0  104   5   3   3   3    11   31  placebo    14    3.1   2.75\n",
              "1  106   3   5   3   3    11   30  placebo    14    3.0   2.75\n",
              "2  107   2   4   0   5     6   25  placebo    11    2.5   1.50\n",
              "3  114   4   4   1   4     8   36  placebo    13    3.6   2.00\n",
              "4  116   7  18   9  21    66   22  placebo    55    2.2  16.50"
            ]
          },
          "metadata": {
            "tags": []
          }
        },
        {
          "output_type": "stream",
          "text": [
            "\n",
            "59 Rows and 11 columns.\n"
          ],
          "name": "stdout"
        }
      ]
    },
    {
      "cell_type": "code",
      "metadata": {
        "colab": {
          "base_uri": "https://localhost:8080/"
        },
        "id": "9dXRpCYYIflm",
        "outputId": "a17643d7-1453-4236-97b9-8aeff37c81c1"
      },
      "source": [
        "# info about the index dtype and columns, non-null values\n",
        "data.info()"
      ],
      "execution_count": 133,
      "outputs": [
        {
          "output_type": "stream",
          "text": [
            "<class 'pandas.core.frame.DataFrame'>\n",
            "RangeIndex: 59 entries, 0 to 58\n",
            "Data columns (total 11 columns):\n",
            " #   Column  Non-Null Count  Dtype  \n",
            "---  ------  --------------  -----  \n",
            " 0   ID      59 non-null     int64  \n",
            " 1   Y1      59 non-null     int64  \n",
            " 2   Y2      59 non-null     int64  \n",
            " 3   Y3      59 non-null     int64  \n",
            " 4   Y4      59 non-null     int64  \n",
            " 5   Base    59 non-null     int64  \n",
            " 6   Age     59 non-null     int64  \n",
            " 7   Trt     59 non-null     object \n",
            " 8   Ysum    59 non-null     int64  \n",
            " 9   Age10   59 non-null     float64\n",
            " 10  Base4   59 non-null     float64\n",
            "dtypes: float64(2), int64(8), object(1)\n",
            "memory usage: 5.2+ KB\n"
          ],
          "name": "stdout"
        }
      ]
    },
    {
      "cell_type": "code",
      "metadata": {
        "colab": {
          "base_uri": "https://localhost:8080/",
          "height": 173
        },
        "id": "FJ31RyG1sGXZ",
        "outputId": "3bc31e2e-75ed-41f9-8f1e-95fe3c70885f"
      },
      "source": [
        "# Summary of Y1, Y2, Y3 and Y4\n",
        "data[['Y1','Y2','Y3','Y4']].describe().transpose()\n"
      ],
      "execution_count": 109,
      "outputs": [
        {
          "output_type": "execute_result",
          "data": {
            "text/html": [
              "<div>\n",
              "<style scoped>\n",
              "    .dataframe tbody tr th:only-of-type {\n",
              "        vertical-align: middle;\n",
              "    }\n",
              "\n",
              "    .dataframe tbody tr th {\n",
              "        vertical-align: top;\n",
              "    }\n",
              "\n",
              "    .dataframe thead th {\n",
              "        text-align: right;\n",
              "    }\n",
              "</style>\n",
              "<table border=\"1\" class=\"dataframe\">\n",
              "  <thead>\n",
              "    <tr style=\"text-align: right;\">\n",
              "      <th></th>\n",
              "      <th>count</th>\n",
              "      <th>mean</th>\n",
              "      <th>std</th>\n",
              "      <th>min</th>\n",
              "      <th>25%</th>\n",
              "      <th>50%</th>\n",
              "      <th>75%</th>\n",
              "      <th>max</th>\n",
              "    </tr>\n",
              "  </thead>\n",
              "  <tbody>\n",
              "    <tr>\n",
              "      <th>Y1</th>\n",
              "      <td>59.00</td>\n",
              "      <td>8.95</td>\n",
              "      <td>14.84</td>\n",
              "      <td>0.00</td>\n",
              "      <td>2.00</td>\n",
              "      <td>4.00</td>\n",
              "      <td>10.50</td>\n",
              "      <td>102.00</td>\n",
              "    </tr>\n",
              "    <tr>\n",
              "      <th>Y2</th>\n",
              "      <td>59.00</td>\n",
              "      <td>8.36</td>\n",
              "      <td>10.19</td>\n",
              "      <td>0.00</td>\n",
              "      <td>3.00</td>\n",
              "      <td>5.00</td>\n",
              "      <td>11.50</td>\n",
              "      <td>65.00</td>\n",
              "    </tr>\n",
              "    <tr>\n",
              "      <th>Y3</th>\n",
              "      <td>59.00</td>\n",
              "      <td>8.44</td>\n",
              "      <td>14.15</td>\n",
              "      <td>0.00</td>\n",
              "      <td>2.00</td>\n",
              "      <td>4.00</td>\n",
              "      <td>8.00</td>\n",
              "      <td>76.00</td>\n",
              "    </tr>\n",
              "    <tr>\n",
              "      <th>Y4</th>\n",
              "      <td>59.00</td>\n",
              "      <td>7.31</td>\n",
              "      <td>9.65</td>\n",
              "      <td>0.00</td>\n",
              "      <td>3.00</td>\n",
              "      <td>4.00</td>\n",
              "      <td>8.00</td>\n",
              "      <td>63.00</td>\n",
              "    </tr>\n",
              "  </tbody>\n",
              "</table>\n",
              "</div>"
            ],
            "text/plain": [
              "    count  mean   std  min  25%  50%   75%    max\n",
              "Y1  59.00  8.95 14.84 0.00 2.00 4.00 10.50 102.00\n",
              "Y2  59.00  8.36 10.19 0.00 3.00 5.00 11.50  65.00\n",
              "Y3  59.00  8.44 14.15 0.00 2.00 4.00  8.00  76.00\n",
              "Y4  59.00  7.31  9.65 0.00 3.00 4.00  8.00  63.00"
            ]
          },
          "metadata": {
            "tags": []
          },
          "execution_count": 109
        }
      ]
    },
    {
      "cell_type": "code",
      "metadata": {
        "colab": {
          "base_uri": "https://localhost:8080/"
        },
        "id": "z85R7qrK5Yv0",
        "outputId": "52164b8d-d2ab-4b49-f81a-83654d10360e"
      },
      "source": [
        "sum(data['Y1'] == 0) + sum(data['Y2'] == 0) + sum(data['Y3'] == 0) + sum(data['Y4'] == 0)"
      ],
      "execution_count": 111,
      "outputs": [
        {
          "output_type": "execute_result",
          "data": {
            "text/plain": [
              "23"
            ]
          },
          "metadata": {
            "tags": []
          },
          "execution_count": 111
        }
      ]
    },
    {
      "cell_type": "code",
      "metadata": {
        "colab": {
          "base_uri": "https://localhost:8080/",
          "height": 80
        },
        "id": "QsWiMQIBAR_H",
        "outputId": "28d567de-34c9-4bc4-862d-9c38aaaa617b"
      },
      "source": [
        "# Summary of Base variable\n",
        "data[['Base']].describe().transpose()"
      ],
      "execution_count": 115,
      "outputs": [
        {
          "output_type": "execute_result",
          "data": {
            "text/html": [
              "<div>\n",
              "<style scoped>\n",
              "    .dataframe tbody tr th:only-of-type {\n",
              "        vertical-align: middle;\n",
              "    }\n",
              "\n",
              "    .dataframe tbody tr th {\n",
              "        vertical-align: top;\n",
              "    }\n",
              "\n",
              "    .dataframe thead th {\n",
              "        text-align: right;\n",
              "    }\n",
              "</style>\n",
              "<table border=\"1\" class=\"dataframe\">\n",
              "  <thead>\n",
              "    <tr style=\"text-align: right;\">\n",
              "      <th></th>\n",
              "      <th>count</th>\n",
              "      <th>mean</th>\n",
              "      <th>std</th>\n",
              "      <th>min</th>\n",
              "      <th>25%</th>\n",
              "      <th>50%</th>\n",
              "      <th>75%</th>\n",
              "      <th>max</th>\n",
              "    </tr>\n",
              "  </thead>\n",
              "  <tbody>\n",
              "    <tr>\n",
              "      <th>Base</th>\n",
              "      <td>59.00</td>\n",
              "      <td>31.22</td>\n",
              "      <td>26.88</td>\n",
              "      <td>6.00</td>\n",
              "      <td>12.00</td>\n",
              "      <td>22.00</td>\n",
              "      <td>41.00</td>\n",
              "      <td>151.00</td>\n",
              "    </tr>\n",
              "  </tbody>\n",
              "</table>\n",
              "</div>"
            ],
            "text/plain": [
              "      count  mean   std  min   25%   50%   75%    max\n",
              "Base  59.00 31.22 26.88 6.00 12.00 22.00 41.00 151.00"
            ]
          },
          "metadata": {
            "tags": []
          },
          "execution_count": 115
        }
      ]
    },
    {
      "cell_type": "code",
      "metadata": {
        "colab": {
          "base_uri": "https://localhost:8080/",
          "height": 80
        },
        "id": "hENyA-MYCWjN",
        "outputId": "1aaa9f4d-cfa1-40c9-a2b8-2c1c6fb81ad2"
      },
      "source": [
        "# Summary of Age variable\n",
        "data[['Age']].describe().transpose()"
      ],
      "execution_count": 119,
      "outputs": [
        {
          "output_type": "execute_result",
          "data": {
            "text/html": [
              "<div>\n",
              "<style scoped>\n",
              "    .dataframe tbody tr th:only-of-type {\n",
              "        vertical-align: middle;\n",
              "    }\n",
              "\n",
              "    .dataframe tbody tr th {\n",
              "        vertical-align: top;\n",
              "    }\n",
              "\n",
              "    .dataframe thead th {\n",
              "        text-align: right;\n",
              "    }\n",
              "</style>\n",
              "<table border=\"1\" class=\"dataframe\">\n",
              "  <thead>\n",
              "    <tr style=\"text-align: right;\">\n",
              "      <th></th>\n",
              "      <th>count</th>\n",
              "      <th>mean</th>\n",
              "      <th>std</th>\n",
              "      <th>min</th>\n",
              "      <th>25%</th>\n",
              "      <th>50%</th>\n",
              "      <th>75%</th>\n",
              "      <th>max</th>\n",
              "    </tr>\n",
              "  </thead>\n",
              "  <tbody>\n",
              "    <tr>\n",
              "      <th>Age</th>\n",
              "      <td>59.00</td>\n",
              "      <td>28.34</td>\n",
              "      <td>6.30</td>\n",
              "      <td>18.00</td>\n",
              "      <td>23.00</td>\n",
              "      <td>28.00</td>\n",
              "      <td>32.00</td>\n",
              "      <td>42.00</td>\n",
              "    </tr>\n",
              "  </tbody>\n",
              "</table>\n",
              "</div>"
            ],
            "text/plain": [
              "     count  mean  std   min   25%   50%   75%   max\n",
              "Age  59.00 28.34 6.30 18.00 23.00 28.00 32.00 42.00"
            ]
          },
          "metadata": {
            "tags": []
          },
          "execution_count": 119
        }
      ]
    },
    {
      "cell_type": "code",
      "metadata": {
        "colab": {
          "base_uri": "https://localhost:8080/",
          "height": 80
        },
        "id": "M8ZCSdqBFwN2",
        "outputId": "53e7c7ea-a46a-4b85-c256-7488278a5af6"
      },
      "source": [
        "# Summary of Trt variable\n",
        "pd.DataFrame(data['Trt'].value_counts()).transpose()"
      ],
      "execution_count": 132,
      "outputs": [
        {
          "output_type": "execute_result",
          "data": {
            "text/html": [
              "<div>\n",
              "<style scoped>\n",
              "    .dataframe tbody tr th:only-of-type {\n",
              "        vertical-align: middle;\n",
              "    }\n",
              "\n",
              "    .dataframe tbody tr th {\n",
              "        vertical-align: top;\n",
              "    }\n",
              "\n",
              "    .dataframe thead th {\n",
              "        text-align: right;\n",
              "    }\n",
              "</style>\n",
              "<table border=\"1\" class=\"dataframe\">\n",
              "  <thead>\n",
              "    <tr style=\"text-align: right;\">\n",
              "      <th></th>\n",
              "      <th>progabide</th>\n",
              "      <th>placebo</th>\n",
              "    </tr>\n",
              "  </thead>\n",
              "  <tbody>\n",
              "    <tr>\n",
              "      <th>Trt</th>\n",
              "      <td>31</td>\n",
              "      <td>28</td>\n",
              "    </tr>\n",
              "  </tbody>\n",
              "</table>\n",
              "</div>"
            ],
            "text/plain": [
              "     progabide  placebo\n",
              "Trt         31       28"
            ]
          },
          "metadata": {
            "tags": []
          },
          "execution_count": 132
        }
      ]
    },
    {
      "cell_type": "code",
      "metadata": {
        "colab": {
          "base_uri": "https://localhost:8080/",
          "height": 80
        },
        "id": "Loah6h62JJyL",
        "outputId": "b6676fbf-459d-4937-abf9-9aa3587c4dd5"
      },
      "source": [
        "# Summary of Ysum variable\n",
        "data[['Ysum']].describe().transpose()"
      ],
      "execution_count": 134,
      "outputs": [
        {
          "output_type": "execute_result",
          "data": {
            "text/html": [
              "<div>\n",
              "<style scoped>\n",
              "    .dataframe tbody tr th:only-of-type {\n",
              "        vertical-align: middle;\n",
              "    }\n",
              "\n",
              "    .dataframe tbody tr th {\n",
              "        vertical-align: top;\n",
              "    }\n",
              "\n",
              "    .dataframe thead th {\n",
              "        text-align: right;\n",
              "    }\n",
              "</style>\n",
              "<table border=\"1\" class=\"dataframe\">\n",
              "  <thead>\n",
              "    <tr style=\"text-align: right;\">\n",
              "      <th></th>\n",
              "      <th>count</th>\n",
              "      <th>mean</th>\n",
              "      <th>std</th>\n",
              "      <th>min</th>\n",
              "      <th>25%</th>\n",
              "      <th>50%</th>\n",
              "      <th>75%</th>\n",
              "      <th>max</th>\n",
              "    </tr>\n",
              "  </thead>\n",
              "  <tbody>\n",
              "    <tr>\n",
              "      <th>Ysum</th>\n",
              "      <td>59.00</td>\n",
              "      <td>33.05</td>\n",
              "      <td>45.58</td>\n",
              "      <td>0.00</td>\n",
              "      <td>11.50</td>\n",
              "      <td>16.00</td>\n",
              "      <td>36.00</td>\n",
              "      <td>302.00</td>\n",
              "    </tr>\n",
              "  </tbody>\n",
              "</table>\n",
              "</div>"
            ],
            "text/plain": [
              "      count  mean   std  min   25%   50%   75%    max\n",
              "Ysum  59.00 33.05 45.58 0.00 11.50 16.00 36.00 302.00"
            ]
          },
          "metadata": {
            "tags": []
          },
          "execution_count": 134
        }
      ]
    },
    {
      "cell_type": "code",
      "metadata": {
        "id": "Dx7lfV-N0GGm"
      },
      "source": [
        "data.describe()"
      ],
      "execution_count": null,
      "outputs": []
    },
    {
      "cell_type": "code",
      "metadata": {
        "id": "VRTgcVAiOmVY"
      },
      "source": [
        "X"
      ],
      "execution_count": null,
      "outputs": []
    },
    {
      "cell_type": "code",
      "metadata": {
        "colab": {
          "base_uri": "https://localhost:8080/"
        },
        "id": "9M1QsnoXIizD",
        "outputId": "3fab4432-cdf7-4bef-fdc5-54cd19f0090a"
      },
      "source": [
        "# Select feature and target\n",
        "#X = data.drop(['Ysum','ID'],axis=1)\n",
        "X = data.drop(['Ysum','ID','Y1','Y2','Y3','Y4'],axis=1)\n",
        "y = data[['Ysum']]\n",
        "\n",
        "from sklearn import preprocessing\n",
        "# Encoding Categorical variables \n",
        "\n",
        "le = preprocessing.LabelEncoder()\n",
        "ycoppy = y.copy()\n",
        "X['Trt'] = le.fit_transform(X['Trt'])\n",
        "\n",
        "# Split dataset into training set and test set\n",
        "X_train, X_test, y_train, y_test = train_test_split(X, y,test_size=0.2, random_state=42)\n",
        "\n",
        "print('Train set length: {}'.format(len(y_train)))\n",
        "print('Test  set length: {}'.format(len(y_test)))"
      ],
      "execution_count": 232,
      "outputs": [
        {
          "output_type": "stream",
          "text": [
            "Train set length: 47\n",
            "Test  set length: 12\n"
          ],
          "name": "stdout"
        }
      ]
    },
    {
      "cell_type": "code",
      "metadata": {
        "id": "H2JrPxJ8JjFu"
      },
      "source": [
        "from sklearn.tree import DecisionTreeRegressor # Regression Tree\n",
        "\n",
        "# Regression Tree Model\n",
        "regTree = DecisionTreeRegressor(max_depth=4)\n",
        "regTree = regTree.fit(X, y)\n",
        "\n",
        "y_train_predicted = regTree.predict(X_train)\n",
        "y_test_predicted = regTree.predict(X_test)\n"
      ],
      "execution_count": 234,
      "outputs": []
    },
    {
      "cell_type": "code",
      "metadata": {
        "colab": {
          "base_uri": "https://localhost:8080/",
          "height": 111
        },
        "id": "Z396kV4ET6TG",
        "outputId": "07743ad8-4ee5-4782-b108-5eb8628ca701"
      },
      "source": [
        "# Actual and Predicted values\n",
        "modelEvaluation = y_train.copy()\n",
        "modelEvaluation['Predicted_train'] = y_train_predicted\n",
        "modelEvaluation.columns = ['Actual','Predicted_train']\n",
        "display(modelEvaluation.head(9).transpose())"
      ],
      "execution_count": 235,
      "outputs": [
        {
          "output_type": "display_data",
          "data": {
            "text/html": [
              "<div>\n",
              "<style scoped>\n",
              "    .dataframe tbody tr th:only-of-type {\n",
              "        vertical-align: middle;\n",
              "    }\n",
              "\n",
              "    .dataframe tbody tr th {\n",
              "        vertical-align: top;\n",
              "    }\n",
              "\n",
              "    .dataframe thead th {\n",
              "        text-align: right;\n",
              "    }\n",
              "</style>\n",
              "<table border=\"1\" class=\"dataframe\">\n",
              "  <thead>\n",
              "    <tr style=\"text-align: right;\">\n",
              "      <th></th>\n",
              "      <th>36</th>\n",
              "      <th>31</th>\n",
              "      <th>8</th>\n",
              "      <th>17</th>\n",
              "      <th>6</th>\n",
              "      <th>4</th>\n",
              "      <th>54</th>\n",
              "      <th>19</th>\n",
              "      <th>30</th>\n",
              "    </tr>\n",
              "  </thead>\n",
              "  <tbody>\n",
              "    <tr>\n",
              "      <th>Actual</th>\n",
              "      <td>10.00</td>\n",
              "      <td>13.00</td>\n",
              "      <td>22.00</td>\n",
              "      <td>123.00</td>\n",
              "      <td>12.00</td>\n",
              "      <td>55.00</td>\n",
              "      <td>15.00</td>\n",
              "      <td>16.00</td>\n",
              "      <td>7.00</td>\n",
              "    </tr>\n",
              "    <tr>\n",
              "      <th>Predicted_train</th>\n",
              "      <td>11.96</td>\n",
              "      <td>11.96</td>\n",
              "      <td>17.78</td>\n",
              "      <td>133.00</td>\n",
              "      <td>11.96</td>\n",
              "      <td>61.33</td>\n",
              "      <td>11.96</td>\n",
              "      <td>17.78</td>\n",
              "      <td>11.96</td>\n",
              "    </tr>\n",
              "  </tbody>\n",
              "</table>\n",
              "</div>"
            ],
            "text/plain": [
              "                   36    31    8      17    6     4     54    19    30\n",
              "Actual          10.00 13.00 22.00 123.00 12.00 55.00 15.00 16.00  7.00\n",
              "Predicted_train 11.96 11.96 17.78 133.00 11.96 61.33 11.96 17.78 11.96"
            ]
          },
          "metadata": {
            "tags": []
          }
        }
      ]
    },
    {
      "cell_type": "code",
      "metadata": {
        "colab": {
          "base_uri": "https://localhost:8080/"
        },
        "id": "fezQ6TadRlE_",
        "outputId": "9c3ee20f-cc50-43ed-8f85-10d04f539d3c"
      },
      "source": [
        "import sklearn.metrics as m\n",
        "\n",
        "# Something is worng \n",
        "# y_train_MSE =m.mean_squared_error(y_train,y_train_predicted)\n",
        "# y_test_MSE = m.mean_squared_error(y_test, y_test_predicted)  \n",
        "\n",
        "# Train and test set MSE\n",
        "y_train_MSE=  np.mean((np.array(y_train_predicted) - np.array(y_train)) ** 2)\n",
        "y_test_MSE =  np.mean((np.array(y_test_predicted) - np.array(y_test)) ** 2)\n",
        "\n",
        "\n",
        "print('Train MSE: {:,.5f}'.format(y_train_MSE))\n",
        "print('Test MSE: {:,.5f}'.format(y_test_MSE))"
      ],
      "execution_count": 244,
      "outputs": [
        {
          "output_type": "stream",
          "text": [
            "Train MSE: 4,712.97262\n",
            "Test MSE: 522.19287\n"
          ],
          "name": "stdout"
        }
      ]
    },
    {
      "cell_type": "code",
      "metadata": {
        "colab": {
          "base_uri": "https://localhost:8080/"
        },
        "id": "qiT61sMJnbN6",
        "outputId": "e8dd49ef-9ce8-4d22-bc36-cdbab42da23f"
      },
      "source": [
        "np.mean((np.array(y_test_predicted) - np.array(y_test)) ** 2)"
      ],
      "execution_count": 245,
      "outputs": [
        {
          "output_type": "execute_result",
          "data": {
            "text/plain": [
              "522.1928738403099"
            ]
          },
          "metadata": {
            "tags": []
          },
          "execution_count": 245
        }
      ]
    },
    {
      "cell_type": "code",
      "metadata": {
        "id": "vMYbDKxhTWAf"
      },
      "source": [
        "modelEvaluation  = y_train.copy()\n",
        "modelEvaluation['Predicted_train'] = y_train_predicted\n",
        "modelEvaluation.columns = ['Actual','Predicted_train']\n",
        "\n",
        "modelEvaluation2  = y_test.copy()\n",
        "modelEvaluation2['Predicted_train'] = y_test_predicted\n",
        "modelEvaluation2.columns = ['Actual','Predicted_test']\n",
        "\n",
        "\n",
        "modelEvaluation.head(15).plot(kind='bar',figsize=(7,5))\n",
        "modelEvaluation2.head(15).plot(kind='bar',figsize=(7,5))\n",
        "plt.show()\n",
        "\n",
        "display(modelEvaluation2.head(8))\n",
        "display(modelEvaluation.head(8))"
      ],
      "execution_count": null,
      "outputs": []
    },
    {
      "cell_type": "code",
      "metadata": {
        "colab": {
          "base_uri": "https://localhost:8080/",
          "height": 653
        },
        "id": "KbwHyvr3VhiW",
        "outputId": "0e04a7a3-d1b4-4040-f867-a54b7dddc425"
      },
      "source": [
        "from sklearn.externals.six import StringIO  \n",
        "from IPython.display import Image  \n",
        "from sklearn.tree import export_graphviz\n",
        "import pydotplus\n",
        "dot_data = StringIO()\n",
        "\n",
        "feature_cols  = X.columns\n",
        "\n",
        "export_graphviz(regTree, out_file=dot_data,  \n",
        "                filled=True, rounded=True,\n",
        "                special_characters=True, feature_names = feature_cols,class_names=('epilepsy'))\n",
        "graph = pydotplus.graph_from_dot_data(dot_data.getvalue())  \n",
        "graph.write_png('epilepsy.png')\n",
        "Image(graph.create_png())"
      ],
      "execution_count": 247,
      "outputs": [
        {
          "output_type": "execute_result",
          "data": {
            "image/png": "[encoded data removed]",
            "text/plain": [
              "<IPython.core.display.Image object>"
            ]
          },
          "metadata": {
            "tags": []
          },
          "execution_count": 247
        }
      ]
    },
    {
      "cell_type": "code",
      "metadata": {
        "colab": {
          "base_uri": "https://localhost:8080/"
        },
        "id": "CQDPjcQyWiXt",
        "outputId": "01f1ce1e-e05f-43ce-8f72-a75ac1ca9274"
      },
      "source": [
        "from sklearn.linear_model import LinearRegression\n",
        "# Linear Regression Model \n",
        "model = LinearRegression()\n",
        "model.fit(X_train, y_train)\n",
        "\n",
        "y_train_predicted_LRM = model.predict(X_train)\n",
        "y_test_predicted_LRM = model.predict(X_test)\n",
        "\n",
        "import sklearn.metrics as m\n",
        "y_train_MSE_LRM =m.mean_squared_error(y_train, y_train_predicted_LRM)\n",
        "y_test_MSE_LRM = m.mean_squared_error(y_test, y_test_predicted_LRM)\n",
        "\n",
        "# np.mean((np.array(y_train_predicted_LRM) - np.array(y_train)) ** 2)\n",
        "# np.mean((np.array(y_test_predicted_LRM) - np.array(y_test)) ** 2)\n",
        "\n",
        "print('Train RMSE: {:,.5f}' .format(np.sqrt(y_train_MSE_LRM)))\n",
        "print('Test RMSE: {:,.5f}' .format(np.sqrt(y_test_MSE_LRM)))\n"
      ],
      "execution_count": 254,
      "outputs": [
        {
          "output_type": "stream",
          "text": [
            "Train RMSE: 26.44706\n",
            "Test RMSE: 15.99195\n"
          ],
          "name": "stdout"
        }
      ]
    },
    {
      "cell_type": "code",
      "metadata": {
        "colab": {
          "base_uri": "https://localhost:8080/",
          "height": 111
        },
        "id": "LUJwz54LSly3",
        "outputId": "4c89d2ab-078c-49ce-e262-43302c342d33"
      },
      "source": [
        "# Tree and LRM RMSE values\n",
        "tableData = {'Tree RMSE' : [np.sqrt(y_train_MSE),np.sqrt(y_test_MSE)], 'LRM RMSE': [np.sqrt(y_train_MSE_LRM),np.sqrt(y_test_MSE_LRM)]}\n",
        "table = pd.DataFrame(tableData,index = {'Train set': '0','Test Set': '1'})\n",
        "table\n"
      ],
      "execution_count": 273,
      "outputs": [
        {
          "output_type": "execute_result",
          "data": {
            "text/html": [
              "<div>\n",
              "<style scoped>\n",
              "    .dataframe tbody tr th:only-of-type {\n",
              "        vertical-align: middle;\n",
              "    }\n",
              "\n",
              "    .dataframe tbody tr th {\n",
              "        vertical-align: top;\n",
              "    }\n",
              "\n",
              "    .dataframe thead th {\n",
              "        text-align: right;\n",
              "    }\n",
              "</style>\n",
              "<table border=\"1\" class=\"dataframe\">\n",
              "  <thead>\n",
              "    <tr style=\"text-align: right;\">\n",
              "      <th></th>\n",
              "      <th>Tree RMSE</th>\n",
              "      <th>LRM RMSE</th>\n",
              "    </tr>\n",
              "  </thead>\n",
              "  <tbody>\n",
              "    <tr>\n",
              "      <th>Train set</th>\n",
              "      <td>68.65</td>\n",
              "      <td>26.45</td>\n",
              "    </tr>\n",
              "    <tr>\n",
              "      <th>Test Set</th>\n",
              "      <td>22.85</td>\n",
              "      <td>15.99</td>\n",
              "    </tr>\n",
              "  </tbody>\n",
              "</table>\n",
              "</div>"
            ],
            "text/plain": [
              "           Tree RMSE  LRM RMSE\n",
              "Train set      68.65     26.45\n",
              "Test Set       22.85     15.99"
            ]
          },
          "metadata": {
            "tags": []
          },
          "execution_count": 273
        }
      ]
    }
  ]
}