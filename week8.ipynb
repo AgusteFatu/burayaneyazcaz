{
  "nbformat": 4,
  "nbformat_minor": 0,
  "metadata": {
    "colab": {
      "name": "Untitled3.ipynb",
      "provenance": [],
      "authorship_tag": "ABX9TyPOM7BOgrkY48XQd1aQOK2G",
      "include_colab_link": true
    },
    "kernelspec": {
      "name": "python3",
      "display_name": "Python 3"
    },
    "language_info": {
      "name": "python"
    }
  },
  "cells": [
    {
      "cell_type": "markdown",
      "metadata": {
        "id": "view-in-github",
        "colab_type": "text"
      },
      "source": [
        "<a href=\"https://colab.research.google.com/github/AgusteFatu/burayaneyazcaz/blob/main/week8.ipynb\" target=\"_parent\"><img src=\"https://colab.research.google.com/assets/colab-badge.svg\" alt=\"Open In Colab\"/></a>"
      ]
    },
    {
      "cell_type": "code",
      "metadata": {
        "id": "ZEnXuebtcG-K"
      },
      "source": [
        "import pandas as pd \n",
        "import numpy as np\n",
        "import matplotlib.pyplot as plt\n",
        "from sklearn.tree import DecisionTreeRegressor # Import Decision Tree Regression\n",
        "from sklearn.model_selection import train_test_split # Import train_test_split function\n",
        "from sklearn import metrics #Import scikit-learn metrics module for accuracy calculation"
      ],
      "execution_count": 2,
      "outputs": []
    },
    {
      "cell_type": "code",
      "metadata": {
        "id": "gNR_xrNfoW8a"
      },
      "source": [
        "data = pd.read_csv('https://raw.githubusercontent.com/AgusteFatu/burayaneyazcaz/main/data/cu.summary.csv')\n",
        "del data['Unnamed: 0']\n",
        "#data.rename(columns={'Unnamed: 0': 'Car'}, inplace=True)\n",
        "\n",
        "pd.options.display.float_format = '{:,.2f}'.format"
      ],
      "execution_count": 244,
      "outputs": []
    },
    {
      "cell_type": "code",
      "metadata": {
        "colab": {
          "base_uri": "https://localhost:8080/",
          "height": 238
        },
        "id": "lRKJzuspw5n9",
        "outputId": "7035e71a-7f8e-47d3-ac04-bad8a37e02d0"
      },
      "source": [
        "# Example observations\n",
        "display(data.head(5))\n",
        "print(\"\\n{} Rows and {} columns.\".format(data.shape[0],data.shape[1]))"
      ],
      "execution_count": 235,
      "outputs": [
        {
          "output_type": "display_data",
          "data": {
            "text/html": [
              "<div>\n",
              "<style scoped>\n",
              "    .dataframe tbody tr th:only-of-type {\n",
              "        vertical-align: middle;\n",
              "    }\n",
              "\n",
              "    .dataframe tbody tr th {\n",
              "        vertical-align: top;\n",
              "    }\n",
              "\n",
              "    .dataframe thead th {\n",
              "        text-align: right;\n",
              "    }\n",
              "</style>\n",
              "<table border=\"1\" class=\"dataframe\">\n",
              "  <thead>\n",
              "    <tr style=\"text-align: right;\">\n",
              "      <th></th>\n",
              "      <th>Price</th>\n",
              "      <th>Country</th>\n",
              "      <th>Reliability</th>\n",
              "      <th>Mileage</th>\n",
              "      <th>Type</th>\n",
              "    </tr>\n",
              "  </thead>\n",
              "  <tbody>\n",
              "    <tr>\n",
              "      <th>0</th>\n",
              "      <td>11950</td>\n",
              "      <td>Japan</td>\n",
              "      <td>Much better</td>\n",
              "      <td>nan</td>\n",
              "      <td>Small</td>\n",
              "    </tr>\n",
              "    <tr>\n",
              "      <th>1</th>\n",
              "      <td>6851</td>\n",
              "      <td>Japan</td>\n",
              "      <td>NaN</td>\n",
              "      <td>nan</td>\n",
              "      <td>Small</td>\n",
              "    </tr>\n",
              "    <tr>\n",
              "      <th>2</th>\n",
              "      <td>6995</td>\n",
              "      <td>USA</td>\n",
              "      <td>Much worse</td>\n",
              "      <td>nan</td>\n",
              "      <td>Small</td>\n",
              "    </tr>\n",
              "    <tr>\n",
              "      <th>3</th>\n",
              "      <td>8895</td>\n",
              "      <td>USA</td>\n",
              "      <td>better</td>\n",
              "      <td>33.00</td>\n",
              "      <td>Small</td>\n",
              "    </tr>\n",
              "    <tr>\n",
              "      <th>4</th>\n",
              "      <td>7402</td>\n",
              "      <td>USA</td>\n",
              "      <td>worse</td>\n",
              "      <td>33.00</td>\n",
              "      <td>Small</td>\n",
              "    </tr>\n",
              "  </tbody>\n",
              "</table>\n",
              "</div>"
            ],
            "text/plain": [
              "   Price Country  Reliability  Mileage   Type\n",
              "0  11950   Japan  Much better      nan  Small\n",
              "1   6851   Japan          NaN      nan  Small\n",
              "2   6995     USA   Much worse      nan  Small\n",
              "3   8895     USA       better    33.00  Small\n",
              "4   7402     USA        worse    33.00  Small"
            ]
          },
          "metadata": {
            "tags": []
          }
        },
        {
          "output_type": "stream",
          "text": [
            "\n",
            "117 Rows and 5 columns.\n"
          ],
          "name": "stdout"
        }
      ]
    },
    {
      "cell_type": "code",
      "metadata": {
        "id": "QKzlc6PmodhB",
        "colab": {
          "base_uri": "https://localhost:8080/"
        },
        "outputId": "ddc0c8cf-68a6-4990-ac1f-b45c7e8f68a2"
      },
      "source": [
        "# Information about the variables dtype and columns, non-null values\n",
        "data.info()"
      ],
      "execution_count": 218,
      "outputs": [
        {
          "output_type": "stream",
          "text": [
            "<class 'pandas.core.frame.DataFrame'>\n",
            "RangeIndex: 117 entries, 0 to 116\n",
            "Data columns (total 5 columns):\n",
            " #   Column       Non-Null Count  Dtype  \n",
            "---  ------       --------------  -----  \n",
            " 0   Price        117 non-null    int64  \n",
            " 1   Country      117 non-null    object \n",
            " 2   Reliability  85 non-null     object \n",
            " 3   Mileage      60 non-null     float64\n",
            " 4   Type         117 non-null    object \n",
            "dtypes: float64(1), int64(1), object(3)\n",
            "memory usage: 4.7+ KB\n"
          ],
          "name": "stdout"
        }
      ]
    },
    {
      "cell_type": "code",
      "metadata": {
        "colab": {
          "base_uri": "https://localhost:8080/"
        },
        "id": "5w2rYYfkoBva",
        "outputId": "4a89e851-ab6a-4cfb-a540-48f66a769582"
      },
      "source": [
        "# Dropping Null values\n",
        "data = data.dropna()\n",
        "data.info()"
      ],
      "execution_count": 245,
      "outputs": [
        {
          "output_type": "stream",
          "text": [
            "<class 'pandas.core.frame.DataFrame'>\n",
            "Int64Index: 49 entries, 3 to 112\n",
            "Data columns (total 5 columns):\n",
            " #   Column       Non-Null Count  Dtype  \n",
            "---  ------       --------------  -----  \n",
            " 0   Price        49 non-null     int64  \n",
            " 1   Country      49 non-null     object \n",
            " 2   Reliability  49 non-null     object \n",
            " 3   Mileage      49 non-null     float64\n",
            " 4   Type         49 non-null     object \n",
            "dtypes: float64(1), int64(1), object(3)\n",
            "memory usage: 2.3+ KB\n"
          ],
          "name": "stdout"
        }
      ]
    },
    {
      "cell_type": "code",
      "metadata": {
        "colab": {
          "base_uri": "https://localhost:8080/",
          "height": 80
        },
        "id": "rxQ-PhQRCjMJ",
        "outputId": "bce5c008-48ff-4726-93c7-c7d45d14fabf"
      },
      "source": [
        "# Summary Statistics\n",
        "pd.DataFrame(data['Price'].describe()).transpose()\n",
        "# Cheapest and most expensive one\n",
        "data [np.logical_or(data['Price'] < 6400, data['Price'] > 24000)]"
      ],
      "execution_count": 156,
      "outputs": [
        {
          "output_type": "execute_result",
          "data": {
            "text/html": [
              "<div>\n",
              "<style scoped>\n",
              "    .dataframe tbody tr th:only-of-type {\n",
              "        vertical-align: middle;\n",
              "    }\n",
              "\n",
              "    .dataframe tbody tr th {\n",
              "        vertical-align: top;\n",
              "    }\n",
              "\n",
              "    .dataframe thead th {\n",
              "        text-align: right;\n",
              "    }\n",
              "</style>\n",
              "<table border=\"1\" class=\"dataframe\">\n",
              "  <thead>\n",
              "    <tr style=\"text-align: right;\">\n",
              "      <th></th>\n",
              "      <th>count</th>\n",
              "      <th>mean</th>\n",
              "      <th>std</th>\n",
              "      <th>min</th>\n",
              "      <th>25%</th>\n",
              "      <th>50%</th>\n",
              "      <th>75%</th>\n",
              "      <th>max</th>\n",
              "    </tr>\n",
              "  </thead>\n",
              "  <tbody>\n",
              "    <tr>\n",
              "      <th>Price</th>\n",
              "      <td>49.00</td>\n",
              "      <td>12,452.08</td>\n",
              "      <td>4,229.66</td>\n",
              "      <td>6,319.00</td>\n",
              "      <td>9,599.00</td>\n",
              "      <td>11,650.00</td>\n",
              "      <td>14,944.00</td>\n",
              "      <td>24,760.00</td>\n",
              "    </tr>\n",
              "  </tbody>\n",
              "</table>\n",
              "</div>"
            ],
            "text/plain": [
              "       count      mean      std      min      25%       50%       75%       max\n",
              "Price  49.00 12,452.08 4,229.66 6,319.00 9,599.00 11,650.00 14,944.00 24,760.00"
            ]
          },
          "metadata": {
            "tags": []
          },
          "execution_count": 156
        }
      ]
    },
    {
      "cell_type": "code",
      "metadata": {
        "colab": {
          "base_uri": "https://localhost:8080/",
          "height": 80
        },
        "id": "QoRJks1vEf9m",
        "outputId": "df3586e2-0185-4354-f1bd-cf1ebd3a2a23"
      },
      "source": [
        "# Summary Statistics\n",
        "pd.DataFrame(data['Country'].value_counts()).transpose()"
      ],
      "execution_count": 158,
      "outputs": [
        {
          "output_type": "execute_result",
          "data": {
            "text/html": [
              "<div>\n",
              "<style scoped>\n",
              "    .dataframe tbody tr th:only-of-type {\n",
              "        vertical-align: middle;\n",
              "    }\n",
              "\n",
              "    .dataframe tbody tr th {\n",
              "        vertical-align: top;\n",
              "    }\n",
              "\n",
              "    .dataframe thead th {\n",
              "        text-align: right;\n",
              "    }\n",
              "</style>\n",
              "<table border=\"1\" class=\"dataframe\">\n",
              "  <thead>\n",
              "    <tr style=\"text-align: right;\">\n",
              "      <th></th>\n",
              "      <th>USA</th>\n",
              "      <th>Japan</th>\n",
              "      <th>Japan/USA</th>\n",
              "      <th>Korea</th>\n",
              "      <th>Mexico</th>\n",
              "      <th>Sweden</th>\n",
              "      <th>Germany</th>\n",
              "    </tr>\n",
              "  </thead>\n",
              "  <tbody>\n",
              "    <tr>\n",
              "      <th>Country</th>\n",
              "      <td>23</td>\n",
              "      <td>14</td>\n",
              "      <td>7</td>\n",
              "      <td>2</td>\n",
              "      <td>1</td>\n",
              "      <td>1</td>\n",
              "      <td>1</td>\n",
              "    </tr>\n",
              "  </tbody>\n",
              "</table>\n",
              "</div>"
            ],
            "text/plain": [
              "         USA  Japan  Japan/USA  Korea  Mexico  Sweden  Germany\n",
              "Country   23     14          7      2       1       1        1"
            ]
          },
          "metadata": {
            "tags": []
          },
          "execution_count": 158
        }
      ]
    },
    {
      "cell_type": "code",
      "metadata": {
        "colab": {
          "base_uri": "https://localhost:8080/",
          "height": 80
        },
        "id": "zK6Hp5gFFGFe",
        "outputId": "984b25fd-dd60-4d01-a35e-465e9ca4d79a"
      },
      "source": [
        "# Summary Statistics\n",
        "pd.DataFrame(data['Reliability'].value_counts()).transpose()"
      ],
      "execution_count": 169,
      "outputs": [
        {
          "output_type": "execute_result",
          "data": {
            "text/html": [
              "<div>\n",
              "<style scoped>\n",
              "    .dataframe tbody tr th:only-of-type {\n",
              "        vertical-align: middle;\n",
              "    }\n",
              "\n",
              "    .dataframe tbody tr th {\n",
              "        vertical-align: top;\n",
              "    }\n",
              "\n",
              "    .dataframe thead th {\n",
              "        text-align: right;\n",
              "    }\n",
              "</style>\n",
              "<table border=\"1\" class=\"dataframe\">\n",
              "  <thead>\n",
              "    <tr style=\"text-align: right;\">\n",
              "      <th></th>\n",
              "      <th>Much better</th>\n",
              "      <th>average</th>\n",
              "      <th>worse</th>\n",
              "      <th>Much worse</th>\n",
              "      <th>better</th>\n",
              "    </tr>\n",
              "  </thead>\n",
              "  <tbody>\n",
              "    <tr>\n",
              "      <th>Reliability</th>\n",
              "      <td>17</td>\n",
              "      <td>12</td>\n",
              "      <td>7</td>\n",
              "      <td>7</td>\n",
              "      <td>6</td>\n",
              "    </tr>\n",
              "  </tbody>\n",
              "</table>\n",
              "</div>"
            ],
            "text/plain": [
              "             Much better  average  worse  Much worse  better\n",
              "Reliability           17       12      7           7       6"
            ]
          },
          "metadata": {
            "tags": []
          },
          "execution_count": 169
        }
      ]
    },
    {
      "cell_type": "code",
      "metadata": {
        "colab": {
          "base_uri": "https://localhost:8080/",
          "height": 80
        },
        "id": "xwsvQ4pXLnAD",
        "outputId": "723fbf8f-3979-4ecc-a4e8-4712cdfd7433"
      },
      "source": [
        "# Summary Statistics\n",
        "pd.DataFrame(data['Mileage'].describe()).transpose()"
      ],
      "execution_count": 180,
      "outputs": [
        {
          "output_type": "execute_result",
          "data": {
            "text/html": [
              "<div>\n",
              "<style scoped>\n",
              "    .dataframe tbody tr th:only-of-type {\n",
              "        vertical-align: middle;\n",
              "    }\n",
              "\n",
              "    .dataframe tbody tr th {\n",
              "        vertical-align: top;\n",
              "    }\n",
              "\n",
              "    .dataframe thead th {\n",
              "        text-align: right;\n",
              "    }\n",
              "</style>\n",
              "<table border=\"1\" class=\"dataframe\">\n",
              "  <thead>\n",
              "    <tr style=\"text-align: right;\">\n",
              "      <th></th>\n",
              "      <th>count</th>\n",
              "      <th>mean</th>\n",
              "      <th>std</th>\n",
              "      <th>min</th>\n",
              "      <th>25%</th>\n",
              "      <th>50%</th>\n",
              "      <th>75%</th>\n",
              "      <th>max</th>\n",
              "    </tr>\n",
              "  </thead>\n",
              "  <tbody>\n",
              "    <tr>\n",
              "      <th>Mileage</th>\n",
              "      <td>49.00</td>\n",
              "      <td>24.80</td>\n",
              "      <td>4.81</td>\n",
              "      <td>18.00</td>\n",
              "      <td>21.00</td>\n",
              "      <td>23.00</td>\n",
              "      <td>27.00</td>\n",
              "      <td>37.00</td>\n",
              "    </tr>\n",
              "  </tbody>\n",
              "</table>\n",
              "</div>"
            ],
            "text/plain": [
              "         count  mean  std   min   25%   50%   75%   max\n",
              "Mileage  49.00 24.80 4.81 18.00 21.00 23.00 27.00 37.00"
            ]
          },
          "metadata": {
            "tags": []
          },
          "execution_count": 180
        }
      ]
    },
    {
      "cell_type": "code",
      "metadata": {
        "colab": {
          "base_uri": "https://localhost:8080/",
          "height": 80
        },
        "id": "l3GCGl6KJ51a",
        "outputId": "3a70efcc-ba1a-4c66-9fc5-195378de78f2"
      },
      "source": [
        "# Summary Statistics\n",
        "pd.DataFrame(data['Type'].value_counts()).transpose()"
      ],
      "execution_count": 181,
      "outputs": [
        {
          "output_type": "execute_result",
          "data": {
            "text/html": [
              "<div>\n",
              "<style scoped>\n",
              "    .dataframe tbody tr th:only-of-type {\n",
              "        vertical-align: middle;\n",
              "    }\n",
              "\n",
              "    .dataframe tbody tr th {\n",
              "        vertical-align: top;\n",
              "    }\n",
              "\n",
              "    .dataframe thead th {\n",
              "        text-align: right;\n",
              "    }\n",
              "</style>\n",
              "<table border=\"1\" class=\"dataframe\">\n",
              "  <thead>\n",
              "    <tr style=\"text-align: right;\">\n",
              "      <th></th>\n",
              "      <th>Compact</th>\n",
              "      <th>Small</th>\n",
              "      <th>Medium</th>\n",
              "      <th>Sporty</th>\n",
              "      <th>Van</th>\n",
              "      <th>Large</th>\n",
              "    </tr>\n",
              "  </thead>\n",
              "  <tbody>\n",
              "    <tr>\n",
              "      <th>Type</th>\n",
              "      <td>13</td>\n",
              "      <td>12</td>\n",
              "      <td>11</td>\n",
              "      <td>7</td>\n",
              "      <td>3</td>\n",
              "      <td>3</td>\n",
              "    </tr>\n",
              "  </tbody>\n",
              "</table>\n",
              "</div>"
            ],
            "text/plain": [
              "      Compact  Small  Medium  Sporty  Van  Large\n",
              "Type       13     12      11       7    3      3"
            ]
          },
          "metadata": {
            "tags": []
          },
          "execution_count": 181
        }
      ]
    },
    {
      "cell_type": "code",
      "metadata": {
        "colab": {
          "base_uri": "https://localhost:8080/"
        },
        "id": "-cgAZIhTyq7E",
        "outputId": "e7e47958-c74e-4df8-b666-ae419ff982ed"
      },
      "source": [
        "# Encoding Categorical variables \n",
        "data = pd.get_dummies(data, columns = ['Country'],prefix='C')\n",
        "data = pd.get_dummies(data, columns = ['Reliability'],prefix='R')\n",
        "data = pd.get_dummies(data, columns = ['Type'],prefix='T')\n",
        "\n",
        "# Select feature and target\n",
        "X = data.drop(['Price'],axis=1)\n",
        "y = data[['Price']]\n",
        "\n",
        "# Split dataset into training set and test set\n",
        "X_train, X_test, y_train, y_test = train_test_split(X, y,test_size=0.2, random_state=42)\n",
        "\n",
        "print('Train set length: {}'.format(len(y_train)))\n",
        "print('Test  set length: {}'.format(len(y_test)))"
      ],
      "execution_count": 246,
      "outputs": [
        {
          "output_type": "stream",
          "text": [
            "Train set length: 39\n",
            "Test  set length: 10\n"
          ],
          "name": "stdout"
        }
      ]
    },
    {
      "cell_type": "code",
      "metadata": {
        "colab": {
          "base_uri": "https://localhost:8080/",
          "height": 204
        },
        "id": "NjPM7Fbp-vYk",
        "outputId": "6697820b-1c6b-487c-da7c-db92c600f96b"
      },
      "source": [
        "# After Encoding and Splitting\n",
        "X_train.head(5)"
      ],
      "execution_count": 247,
      "outputs": [
        {
          "output_type": "execute_result",
          "data": {
            "text/html": [
              "<div>\n",
              "<style scoped>\n",
              "    .dataframe tbody tr th:only-of-type {\n",
              "        vertical-align: middle;\n",
              "    }\n",
              "\n",
              "    .dataframe tbody tr th {\n",
              "        vertical-align: top;\n",
              "    }\n",
              "\n",
              "    .dataframe thead th {\n",
              "        text-align: right;\n",
              "    }\n",
              "</style>\n",
              "<table border=\"1\" class=\"dataframe\">\n",
              "  <thead>\n",
              "    <tr style=\"text-align: right;\">\n",
              "      <th></th>\n",
              "      <th>Mileage</th>\n",
              "      <th>C_Germany</th>\n",
              "      <th>C_Japan</th>\n",
              "      <th>C_Japan/USA</th>\n",
              "      <th>C_Korea</th>\n",
              "      <th>C_Mexico</th>\n",
              "      <th>C_Sweden</th>\n",
              "      <th>C_USA</th>\n",
              "      <th>R_Much better</th>\n",
              "      <th>R_Much worse</th>\n",
              "      <th>R_average</th>\n",
              "      <th>R_better</th>\n",
              "      <th>R_worse</th>\n",
              "      <th>T_Compact</th>\n",
              "      <th>T_Large</th>\n",
              "      <th>T_Medium</th>\n",
              "      <th>T_Small</th>\n",
              "      <th>T_Sporty</th>\n",
              "      <th>T_Van</th>\n",
              "    </tr>\n",
              "  </thead>\n",
              "  <tbody>\n",
              "    <tr>\n",
              "      <th>23</th>\n",
              "      <td>20.00</td>\n",
              "      <td>0</td>\n",
              "      <td>0</td>\n",
              "      <td>0</td>\n",
              "      <td>0</td>\n",
              "      <td>0</td>\n",
              "      <td>0</td>\n",
              "      <td>1</td>\n",
              "      <td>0</td>\n",
              "      <td>1</td>\n",
              "      <td>0</td>\n",
              "      <td>0</td>\n",
              "      <td>0</td>\n",
              "      <td>0</td>\n",
              "      <td>0</td>\n",
              "      <td>0</td>\n",
              "      <td>0</td>\n",
              "      <td>1</td>\n",
              "      <td>0</td>\n",
              "    </tr>\n",
              "    <tr>\n",
              "      <th>10</th>\n",
              "      <td>32.00</td>\n",
              "      <td>0</td>\n",
              "      <td>1</td>\n",
              "      <td>0</td>\n",
              "      <td>0</td>\n",
              "      <td>0</td>\n",
              "      <td>0</td>\n",
              "      <td>0</td>\n",
              "      <td>1</td>\n",
              "      <td>0</td>\n",
              "      <td>0</td>\n",
              "      <td>0</td>\n",
              "      <td>0</td>\n",
              "      <td>0</td>\n",
              "      <td>0</td>\n",
              "      <td>0</td>\n",
              "      <td>1</td>\n",
              "      <td>0</td>\n",
              "      <td>0</td>\n",
              "    </tr>\n",
              "    <tr>\n",
              "      <th>78</th>\n",
              "      <td>22.00</td>\n",
              "      <td>0</td>\n",
              "      <td>0</td>\n",
              "      <td>0</td>\n",
              "      <td>0</td>\n",
              "      <td>0</td>\n",
              "      <td>0</td>\n",
              "      <td>1</td>\n",
              "      <td>0</td>\n",
              "      <td>0</td>\n",
              "      <td>0</td>\n",
              "      <td>0</td>\n",
              "      <td>1</td>\n",
              "      <td>0</td>\n",
              "      <td>0</td>\n",
              "      <td>1</td>\n",
              "      <td>0</td>\n",
              "      <td>0</td>\n",
              "      <td>0</td>\n",
              "    </tr>\n",
              "    <tr>\n",
              "      <th>15</th>\n",
              "      <td>25.00</td>\n",
              "      <td>0</td>\n",
              "      <td>1</td>\n",
              "      <td>0</td>\n",
              "      <td>0</td>\n",
              "      <td>0</td>\n",
              "      <td>0</td>\n",
              "      <td>0</td>\n",
              "      <td>1</td>\n",
              "      <td>0</td>\n",
              "      <td>0</td>\n",
              "      <td>0</td>\n",
              "      <td>0</td>\n",
              "      <td>0</td>\n",
              "      <td>0</td>\n",
              "      <td>0</td>\n",
              "      <td>1</td>\n",
              "      <td>0</td>\n",
              "      <td>0</td>\n",
              "    </tr>\n",
              "    <tr>\n",
              "      <th>8</th>\n",
              "      <td>32.00</td>\n",
              "      <td>0</td>\n",
              "      <td>0</td>\n",
              "      <td>1</td>\n",
              "      <td>0</td>\n",
              "      <td>0</td>\n",
              "      <td>0</td>\n",
              "      <td>0</td>\n",
              "      <td>1</td>\n",
              "      <td>0</td>\n",
              "      <td>0</td>\n",
              "      <td>0</td>\n",
              "      <td>0</td>\n",
              "      <td>0</td>\n",
              "      <td>0</td>\n",
              "      <td>0</td>\n",
              "      <td>1</td>\n",
              "      <td>0</td>\n",
              "      <td>0</td>\n",
              "    </tr>\n",
              "  </tbody>\n",
              "</table>\n",
              "</div>"
            ],
            "text/plain": [
              "    Mileage  C_Germany  C_Japan  ...  T_Small  T_Sporty  T_Van\n",
              "23    20.00          0        0  ...        0         1      0\n",
              "10    32.00          0        1  ...        1         0      0\n",
              "78    22.00          0        0  ...        0         0      0\n",
              "15    25.00          0        1  ...        1         0      0\n",
              "8     32.00          0        0  ...        1         0      0\n",
              "\n",
              "[5 rows x 19 columns]"
            ]
          },
          "metadata": {
            "tags": []
          },
          "execution_count": 247
        }
      ]
    },
    {
      "cell_type": "code",
      "metadata": {
        "colab": {
          "base_uri": "https://localhost:8080/"
        },
        "id": "EY_6TwLX0GAt",
        "outputId": "fb880248-2192-446b-d5ef-847fb0f85f55"
      },
      "source": [
        "from sklearn.linear_model import LinearRegression\n",
        "from sklearn import metrics\n",
        "# Linear Regression Model \n",
        "model_LRM = LinearRegression().fit(X_train,y_train).fit(X_train,y_train)\n",
        "\n",
        "# Predicting \n",
        "y_train_predicted_LRM = model_LRM.predict(X_train)\n",
        "y_test_predicted_LRM = model_LRM.predict(X_test)\n",
        "\n",
        "\n",
        "y_train_MSE_LRM =metrics.mean_squared_error(y_train, y_train_predicted_LRM)\n",
        "y_test_MSE_LRM = metrics.mean_squared_error(y_test, y_test_predicted_LRM)\n",
        "\n",
        "# or\n",
        "# y_train_MSE_LRM = np.mean((np.array(y_train) - np.array(y_train_predicted_LRM))  ** 2)\n",
        "# y_test_MSE_LRM  = np.mean((np.array(y_test) - np.array(y_test_predicted_LRM) ) ** 2)\n",
        "\n",
        "print('Train MSE: {:,.2f}' .format(y_train_MSE_LRM))\n",
        "print('Test MSE: {:,.2f}' .format(y_test_MSE_LRM))"
      ],
      "execution_count": 259,
      "outputs": [
        {
          "output_type": "stream",
          "text": [
            "Train MSE: 3,047,935.64\n",
            "Test MSE: 6,948,901.54\n"
          ],
          "name": "stdout"
        }
      ]
    },
    {
      "cell_type": "code",
      "metadata": {
        "colab": {
          "base_uri": "https://localhost:8080/"
        },
        "id": "EMU48y_oWfmo",
        "outputId": "a979107f-b207-40e6-dd92-1a875999c10d"
      },
      "source": [
        "6948901.54 - 3047935.64"
      ],
      "execution_count": 253,
      "outputs": [
        {
          "output_type": "execute_result",
          "data": {
            "text/plain": [
              "3900965.9"
            ]
          },
          "metadata": {
            "tags": []
          },
          "execution_count": 253
        }
      ]
    },
    {
      "cell_type": "code",
      "metadata": {
        "colab": {
          "base_uri": "https://localhost:8080/"
        },
        "id": "nZbblPEw0niw",
        "outputId": "bd00c277-f495-4541-bff9-56d1586e119d"
      },
      "source": [
        "from sklearn.tree import DecisionTreeRegressor # Regression Tree\n",
        "\n",
        "# Regression Tree Model\n",
        "regTree = DecisionTreeRegressor(max_depth = 4,random_state=42).fit(X_train,y_train)\n",
        "\n",
        "# Predicting values\n",
        "y_train_predicted_REGTREE = regTree.predict(X_train)\n",
        "y_test_predicted_REGTREE  = regTree.predict(X_test)\n",
        "\n",
        "y_train_MSE_REGTREE = metrics.mean_squared_error(y_train,y_train_predicted_REGTREE)\n",
        "y_test_MSE_REGTREE  = metrics.mean_squared_error(y_test, y_test_predicted_REGTREE)  \n",
        "\n",
        "print('Train MSE: {:,.2f}'.format(y_train_MSE_REGTREE))\n",
        "print('Test MSE: {:,.2f}'.format(y_test_MSE_REGTREE))\n"
      ],
      "execution_count": 283,
      "outputs": [
        {
          "output_type": "stream",
          "text": [
            "Train MSE: 866,431.94\n",
            "Test MSE: 10,895,124.34\n"
          ],
          "name": "stdout"
        }
      ]
    },
    {
      "cell_type": "code",
      "metadata": {
        "colab": {
          "base_uri": "https://localhost:8080/"
        },
        "id": "tZJTMNs60nr5",
        "outputId": "2c854f70-24f2-4106-f10f-1ad8ed193da9"
      },
      "source": [
        "from sklearn.ensemble import BaggingRegressor\n",
        "# Bagging Tree\n",
        "bagTree = BaggingRegressor(n_estimators = 500,max_features=18,random_state=42).fit(X_train,np.ravel(y_train))\n",
        "\n",
        "y_train_predicted_BAG = bagTree.predict(X_train)\n",
        "y_test_predicted_BAG = bagTree.predict(X_test)\n",
        "  \n",
        "\n",
        "y_train_MSE_BAG = metrics.mean_squared_error(y_train, y_train_predicted_BAG)\n",
        "y_test_MSE_BAG = metrics.mean_squared_error(y_test, y_test_predicted_BAG)\n",
        "\n",
        "print('Train MSE: {:,.2f}'.format(y_train_MSE_BAG))\n",
        "print('Test MSE: {:,.2f}'.format(y_test_MSE_BAG))"
      ],
      "execution_count": 298,
      "outputs": [
        {
          "output_type": "stream",
          "text": [
            "Train MSE: 748,965.78\n",
            "Test MSE: 7,697,955.30\n"
          ],
          "name": "stdout"
        }
      ]
    },
    {
      "cell_type": "code",
      "metadata": {
        "colab": {
          "base_uri": "https://localhost:8080/"
        },
        "id": "QllwFdipzcOA",
        "outputId": "40e1d409-4da1-47f0-8d63-57a4b61c869f"
      },
      "source": [
        "from sklearn.ensemble import RandomForestRegressor\n",
        "\n",
        "# Train the model on training data\n",
        "rforest = RandomForestRegressor(n_estimators = 500,random_state=42).fit(X_train,np.ravel(y_train))\n",
        "\n",
        "# Predicting \n",
        "y_train_predicted_FOREST = rforest.predict(X_train)\n",
        "y_test_predicted_FOREST  = rforest.predict(X_test)\n",
        "  \n",
        "y_train_MSE_FOREST = metrics.mean_squared_error(y_train, y_train_predicted_FOREST)\n",
        "y_test_MSE_FOREST = metrics.mean_squared_error(y_test, y_test_predicted_FOREST)\n",
        "\n",
        "print('Train MSE: {:,.2f}'.format(y_train_MSE_FOREST))\n",
        "print('Test MSE: {:,.2f}'.format(y_test_MSE_FOREST))"
      ],
      "execution_count": 313,
      "outputs": [
        {
          "output_type": "stream",
          "text": [
            "Train MSE: 668,040.07\n",
            "Test MSE: 7,788,728.11\n"
          ],
          "name": "stdout"
        }
      ]
    },
    {
      "cell_type": "code",
      "metadata": {
        "colab": {
          "base_uri": "https://localhost:8080/",
          "height": 111
        },
        "id": "MX_U3kStkB5s",
        "outputId": "e138e987-0bca-4586-a058-0a4c83e253b6"
      },
      "source": [
        "# Model RMSE values for Comparison\n",
        "tableData = {'Linear Reg. M. RMSE' : [np.sqrt(y_train_MSE_LRM),np.sqrt(y_test_MSE_LRM)], 'Reg Tree RMSE': [np.sqrt(y_train_MSE_REGTREE),np.sqrt(y_test_MSE_REGTREE)],'Bagging Tree RMSE': [np.sqrt(y_train_MSE_BAG),np.sqrt(y_test_MSE_BAG)],'Random Forest RMSE': [np.sqrt(y_train_MSE_FOREST),np.sqrt(y_test_MSE_FOREST)] }\n",
        "table = pd.DataFrame(tableData,index = {'Train set': '0','Test Set': '1'})\n",
        "table"
      ],
      "execution_count": 314,
      "outputs": [
        {
          "output_type": "execute_result",
          "data": {
            "text/html": [
              "<div>\n",
              "<style scoped>\n",
              "    .dataframe tbody tr th:only-of-type {\n",
              "        vertical-align: middle;\n",
              "    }\n",
              "\n",
              "    .dataframe tbody tr th {\n",
              "        vertical-align: top;\n",
              "    }\n",
              "\n",
              "    .dataframe thead th {\n",
              "        text-align: right;\n",
              "    }\n",
              "</style>\n",
              "<table border=\"1\" class=\"dataframe\">\n",
              "  <thead>\n",
              "    <tr style=\"text-align: right;\">\n",
              "      <th></th>\n",
              "      <th>Linear Reg. M. RMSE</th>\n",
              "      <th>Reg Tree RMSE</th>\n",
              "      <th>Bagging Tree RMSE</th>\n",
              "      <th>Random Forest RMSE</th>\n",
              "    </tr>\n",
              "  </thead>\n",
              "  <tbody>\n",
              "    <tr>\n",
              "      <th>Train set</th>\n",
              "      <td>1,745.83</td>\n",
              "      <td>930.82</td>\n",
              "      <td>865.43</td>\n",
              "      <td>817.34</td>\n",
              "    </tr>\n",
              "    <tr>\n",
              "      <th>Test Set</th>\n",
              "      <td>2,636.08</td>\n",
              "      <td>3,300.78</td>\n",
              "      <td>2,774.52</td>\n",
              "      <td>2,790.83</td>\n",
              "    </tr>\n",
              "  </tbody>\n",
              "</table>\n",
              "</div>"
            ],
            "text/plain": [
              "           Linear Reg. M. RMSE  ...  Random Forest RMSE\n",
              "Train set             1,745.83  ...              817.34\n",
              "Test Set              2,636.08  ...            2,790.83\n",
              "\n",
              "[2 rows x 4 columns]"
            ]
          },
          "metadata": {
            "tags": []
          },
          "execution_count": 314
        }
      ]
    },
    {
      "cell_type": "code",
      "metadata": {
        "colab": {
          "base_uri": "https://localhost:8080/"
        },
        "id": "zHZSPowHlfsj",
        "outputId": "d1f29178-57fb-4bc2-f9da-731b89daee21"
      },
      "source": [
        " 7769747.95 - 678269.32"
      ],
      "execution_count": 307,
      "outputs": [
        {
          "output_type": "execute_result",
          "data": {
            "text/plain": [
              "7091478.63"
            ]
          },
          "metadata": {
            "tags": []
          },
          "execution_count": 307
        }
      ]
    },
    {
      "cell_type": "code",
      "metadata": {
        "id": "83XmOGCwft00"
      },
      "source": [
        "modelEvaluation  = y_train.copy()\n",
        "modelEvaluation['Predicted_train'] = y_train_predicted_LRM\n",
        "modelEvaluation.columns = ['Actual','Predicted_train']\n",
        "\n",
        "modelEvaluation2  = y_test.copy()\n",
        "modelEvaluation2['Predicted_train'] = y_test_predicted_LRM\n",
        "modelEvaluation2.columns = ['Actual','Predicted_test']\n",
        "\n",
        "\n",
        "modelEvaluation.head(15).plot(kind='bar',figsize=(7,5))\n",
        "modelEvaluation2.head(15).plot(kind='bar',figsize=(7,5))\n",
        "plt.show()\n",
        "\n",
        "display(modelEvaluation2.head(8))\n",
        "display(modelEvaluation.head(8))"
      ],
      "execution_count": null,
      "outputs": []
    }
  ]
}