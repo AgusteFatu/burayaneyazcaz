{
 "cells": [
  {
   "cell_type": "code",
   "execution_count": 4,
   "metadata": {},
   "outputs": [
    {
     "name": "stderr",
     "output_type": "stream",
     "text": [
      "-- \u001b[1mAttaching packages\u001b[22m -------------------------------------- tidymodels 0.1.2 --\n",
      "\n",
      "\u001b[32m<U+221A>\u001b[39m \u001b[34mbroom    \u001b[39m 0.7.5      \u001b[32m<U+221A>\u001b[39m \u001b[34mrecipes  \u001b[39m 0.1.15\n",
      "\u001b[32m<U+221A>\u001b[39m \u001b[34mdials    \u001b[39m 0.0.9      \u001b[32m<U+221A>\u001b[39m \u001b[34mrsample  \u001b[39m 0.0.9 \n",
      "\u001b[32m<U+221A>\u001b[39m \u001b[34mdplyr    \u001b[39m 1.0.5      \u001b[32m<U+221A>\u001b[39m \u001b[34mtibble   \u001b[39m 3.1.0 \n",
      "\u001b[32m<U+221A>\u001b[39m \u001b[34mggplot2  \u001b[39m 3.3.3      \u001b[32m<U+221A>\u001b[39m \u001b[34mtidyr    \u001b[39m 1.1.3 \n",
      "\u001b[32m<U+221A>\u001b[39m \u001b[34minfer    \u001b[39m 0.5.4      \u001b[32m<U+221A>\u001b[39m \u001b[34mtune     \u001b[39m 0.1.3 \n",
      "\u001b[32m<U+221A>\u001b[39m \u001b[34mmodeldata\u001b[39m 0.1.0      \u001b[32m<U+221A>\u001b[39m \u001b[34mworkflows\u001b[39m 0.2.2 \n",
      "\u001b[32m<U+221A>\u001b[39m \u001b[34mparsnip  \u001b[39m 0.1.5      \u001b[32m<U+221A>\u001b[39m \u001b[34myardstick\u001b[39m 0.0.7 \n",
      "\u001b[32m<U+221A>\u001b[39m \u001b[34mpurrr    \u001b[39m 0.3.4      \n",
      "\n",
      "-- \u001b[1mConflicts\u001b[22m ----------------------------------------- tidymodels_conflicts() --\n",
      "\u001b[31mx\u001b[39m \u001b[34mpurrr\u001b[39m::\u001b[32mdiscard()\u001b[39m masks \u001b[34mscales\u001b[39m::discard()\n",
      "\u001b[31mx\u001b[39m \u001b[34mdplyr\u001b[39m::\u001b[32mfilter()\u001b[39m  masks \u001b[34mstats\u001b[39m::filter()\n",
      "\u001b[31mx\u001b[39m \u001b[34mdplyr\u001b[39m::\u001b[32mlag()\u001b[39m     masks \u001b[34mstats\u001b[39m::lag()\n",
      "\u001b[31mx\u001b[39m \u001b[34mrecipes\u001b[39m::\u001b[32mstep()\u001b[39m  masks \u001b[34mstats\u001b[39m::step()\n",
      "\n"
     ]
    }
   ],
   "source": [
    "library(tidymodels);library(ISLR);library(dplyr)"
   ]
  },
  {
   "cell_type": "code",
   "execution_count": 5,
   "metadata": {},
   "outputs": [],
   "source": [
    "data = ISLR::Default"
   ]
  },
  {
   "cell_type": "code",
   "execution_count": 6,
   "metadata": {},
   "outputs": [
    {
     "data": {
      "text/html": "<table class=\"dataframe\">\n<caption>A data.frame: 6 × 4</caption>\n<thead>\n\t<tr><th></th><th scope=col>default</th><th scope=col>student</th><th scope=col>balance</th><th scope=col>income</th></tr>\n\t<tr><th></th><th scope=col>&lt;fct&gt;</th><th scope=col>&lt;fct&gt;</th><th scope=col>&lt;dbl&gt;</th><th scope=col>&lt;dbl&gt;</th></tr>\n</thead>\n<tbody>\n\t<tr><th scope=row>1</th><td>No</td><td>No </td><td> 729.5265</td><td>44361.625</td></tr>\n\t<tr><th scope=row>2</th><td>No</td><td>Yes</td><td> 817.1804</td><td>12106.135</td></tr>\n\t<tr><th scope=row>3</th><td>No</td><td>No </td><td>1073.5492</td><td>31767.139</td></tr>\n\t<tr><th scope=row>4</th><td>No</td><td>No </td><td> 529.2506</td><td>35704.494</td></tr>\n\t<tr><th scope=row>5</th><td>No</td><td>No </td><td> 785.6559</td><td>38463.496</td></tr>\n\t<tr><th scope=row>6</th><td>No</td><td>Yes</td><td> 919.5885</td><td> 7491.559</td></tr>\n</tbody>\n</table>\n",
      "text/latex": "A data.frame: 6 × 4\n\\begin{tabular}{r|llll}\n  & default & student & balance & income\\\\\n  & <fct> & <fct> & <dbl> & <dbl>\\\\\n\\hline\n\t1 & No & No  &  729.5265 & 44361.625\\\\\n\t2 & No & Yes &  817.1804 & 12106.135\\\\\n\t3 & No & No  & 1073.5492 & 31767.139\\\\\n\t4 & No & No  &  529.2506 & 35704.494\\\\\n\t5 & No & No  &  785.6559 & 38463.496\\\\\n\t6 & No & Yes &  919.5885 &  7491.559\\\\\n\\end{tabular}\n",
      "text/markdown": "\nA data.frame: 6 × 4\n\n| <!--/--> | default &lt;fct&gt; | student &lt;fct&gt; | balance &lt;dbl&gt; | income &lt;dbl&gt; |\n|---|---|---|---|---|\n| 1 | No | No  |  729.5265 | 44361.625 |\n| 2 | No | Yes |  817.1804 | 12106.135 |\n| 3 | No | No  | 1073.5492 | 31767.139 |\n| 4 | No | No  |  529.2506 | 35704.494 |\n| 5 | No | No  |  785.6559 | 38463.496 |\n| 6 | No | Yes |  919.5885 |  7491.559 |\n\n",
      "text/plain": "  default student balance   income   \n1 No      No       729.5265 44361.625\n2 No      Yes      817.1804 12106.135\n3 No      No      1073.5492 31767.139\n4 No      No       529.2506 35704.494\n5 No      No       785.6559 38463.496\n6 No      Yes      919.5885  7491.559"
     },
     "metadata": {},
     "output_type": "display_data"
    }
   ],
   "source": [
    "(head(data))"
   ]
  },
  {
   "cell_type": "code",
   "execution_count": 7,
   "metadata": {},
   "outputs": [
    {
     "name": "stdout",
     "output_type": "stream",
     "text": [
      "Rows :  10000\n",
      "Columns :  4"
     ]
    }
   ],
   "source": [
    "cat('Rows : ',nrow(data));cat('\\nColumns : ',length(data))"
   ]
  },
  {
   "cell_type": "code",
   "execution_count": 8,
   "metadata": {},
   "outputs": [
    {
     "name": "stdout",
     "output_type": "stream",
     "text": [
      "'data.frame':\t10000 obs. of  4 variables:\n",
      " $ default: Factor w/ 2 levels \"No\",\"Yes\": 1 1 1 1 1 1 1 1 1 1 ...\n",
      " $ student: Factor w/ 2 levels \"No\",\"Yes\": 1 2 1 1 1 2 1 2 1 1 ...\n",
      " $ balance: num  730 817 1074 529 786 ...\n",
      " $ income : num  44362 12106 31767 35704 38463 ...\n"
     ]
    }
   ],
   "source": [
    "str(data)"
   ]
  },
  {
   "cell_type": "code",
   "execution_count": 9,
   "metadata": {},
   "outputs": [
    {
     "data": {
      "text/plain": "\n  No  Yes \n9667  333 "
     },
     "metadata": {},
     "output_type": "display_data"
    }
   ],
   "source": [
    "table(data$default)"
   ]
  },
  {
   "cell_type": "code",
   "execution_count": 10,
   "metadata": {},
   "outputs": [
    {
     "data": {
      "text/plain": "\n  No  Yes \n7056 2944 "
     },
     "metadata": {},
     "output_type": "display_data"
    }
   ],
   "source": [
    "table(data$student)"
   ]
  },
  {
   "cell_type": "code",
   "execution_count": 12,
   "metadata": {},
   "outputs": [
    {
     "data": {
      "text/plain": "   Min. 1st Qu.  Median    Mean 3rd Qu.    Max. \n    0.0   481.7   823.6   835.4  1166.3  2654.3 "
     },
     "metadata": {},
     "output_type": "display_data"
    }
   ],
   "source": [
    "summary(data$balance)"
   ]
  },
  {
   "cell_type": "code",
   "execution_count": 14,
   "metadata": {},
   "outputs": [
    {
     "data": {
      "text/plain": "   Min. 1st Qu.  Median    Mean 3rd Qu.    Max. \n    772   21340   34553   33517   43808   73554 "
     },
     "metadata": {},
     "output_type": "display_data"
    }
   ],
   "source": [
    "summary(data$income)"
   ]
  },
  {
   "cell_type": "code",
   "execution_count": 17,
   "metadata": {},
   "outputs": [
    {
     "ename": "ERROR",
     "evalue": "Error in parse(text = x, srcfile = src): <text>:2:426: unexpected input\n2: e(c(nrow(data_train),nrow(data_test)),c(sum(data_train$default == 'No'),sum(data_test$default == 'No')),c(sum(data_train$default == 'Yes'),sum(data_test$default == 'Yes')));colnames(table) = c\n                                                                                                                                                                                                                                                                                                                                                                                                                                             ^\n",
     "output_type": "error",
     "traceback": [
      "Error in parse(text = x, srcfile = src): <text>:2:426: unexpected input\n2: e(c(nrow(data_train),nrow(data_test)),c(sum(data_train$default == 'No'),sum(data_test$default == 'No')),c(sum(data_train$default == 'Yes'),sum(data_test$default == 'Yes')));colnames(table) = c\n                                                                                                                                                                                                                                                                                                                                                                                                                                             ^\nTraceback:\n"
     ]
    }
   ],
   "source": [
    "# Splitting Data\r\n",
    "set.seed(42);data_split = initial_split(data,prop = 0.80,strata = default);data_train <- data_split %>% training();data_test <- data_split %>% testing();table = data.frame(c(nrow(data_train),nrow(data_test)),c(sum(data_train$default == 'No'),sum(data_test$default == 'No')),c(sum(data_train$default == 'Yes'),sum(data_test$default == 'Yes')));colnames(table) = c('Rows','No','Yes');rownames(table) = c('Train','Test');table  \r\n"
   ]
  },
  {
   "cell_type": "code",
   "execution_count": 25,
   "metadata": {},
   "outputs": [
    {
     "data": {
      "text/html": "<table class=\"dataframe\">\n<caption>A data.frame: 2 × 3</caption>\n<thead>\n\t<tr><th></th><th scope=col>Rows</th><th scope=col>No</th><th scope=col>Yes</th></tr>\n\t<tr><th></th><th scope=col>&lt;int&gt;</th><th scope=col>&lt;int&gt;</th><th scope=col>&lt;int&gt;</th></tr>\n</thead>\n<tbody>\n\t<tr><th scope=row>Train</th><td>8001</td><td>7736</td><td>265</td></tr>\n\t<tr><th scope=row>Test</th><td>1999</td><td>1931</td><td> 68</td></tr>\n</tbody>\n</table>\n",
      "text/latex": "A data.frame: 2 × 3\n\\begin{tabular}{r|lll}\n  & Rows & No & Yes\\\\\n  & <int> & <int> & <int>\\\\\n\\hline\n\tTrain & 8001 & 7736 & 265\\\\\n\tTest & 1999 & 1931 &  68\\\\\n\\end{tabular}\n",
      "text/markdown": "\nA data.frame: 2 × 3\n\n| <!--/--> | Rows &lt;int&gt; | No &lt;int&gt; | Yes &lt;int&gt; |\n|---|---|---|---|\n| Train | 8001 | 7736 | 265 |\n| Test | 1999 | 1931 |  68 |\n\n",
      "text/plain": "      Rows No   Yes\nTrain 8001 7736 265\nTest  1999 1931  68"
     },
     "metadata": {},
     "output_type": "display_data"
    }
   ],
   "source": [
    "table"
   ]
  },
  {
   "cell_type": "code",
   "execution_count": 34,
   "metadata": {},
   "outputs": [
    {
     "data": {
      "text/html": "<table class=\"dataframe\">\n<caption>A matrix: 2 × 10 of type chr</caption>\n<thead>\n\t<tr><th></th><th scope=col>1</th><th scope=col>2</th><th scope=col>3</th><th scope=col>4</th><th scope=col>5</th><th scope=col>6</th><th scope=col>7</th><th scope=col>8</th><th scope=col>9</th><th scope=col>10</th></tr>\n</thead>\n<tbody>\n\t<tr><th scope=row>Predicted_Train</th><td>No</td><td>No</td><td>No</td><td>No</td><td>No</td><td>No</td><td>No</td><td>No</td><td>No</td><td>No</td></tr>\n\t<tr><th scope=row>Actual</th><td>No</td><td>No</td><td>No</td><td>No</td><td>No</td><td>No</td><td>No</td><td>No</td><td>No</td><td>No</td></tr>\n</tbody>\n</table>\n",
      "text/latex": "A matrix: 2 × 10 of type chr\n\\begin{tabular}{r|llllllllll}\n  & 1 & 2 & 3 & 4 & 5 & 6 & 7 & 8 & 9 & 10\\\\\n\\hline\n\tPredicted\\_Train & No & No & No & No & No & No & No & No & No & No\\\\\n\tActual & No & No & No & No & No & No & No & No & No & No\\\\\n\\end{tabular}\n",
      "text/markdown": "\nA matrix: 2 × 10 of type chr\n\n| <!--/--> | 1 | 2 | 3 | 4 | 5 | 6 | 7 | 8 | 9 | 10 |\n|---|---|---|---|---|---|---|---|---|---|---|\n| Predicted_Train | No | No | No | No | No | No | No | No | No | No |\n| Actual | No | No | No | No | No | No | No | No | No | No |\n\n",
      "text/plain": "                1  2  3  4  5  6  7  8  9  10\nPredicted_Train No No No No No No No No No No\nActual          No No No No No No No No No No"
     },
     "metadata": {},
     "output_type": "display_data"
    }
   ],
   "source": [
    "df_labels;colnames(df_labels) = c('1','2','3','4','5','6','7','8','9','10')"
   ]
  },
  {
   "cell_type": "code",
   "execution_count": 60,
   "metadata": {},
   "outputs": [
    {
     "name": "stdout",
     "output_type": "stream",
     "text": [
      "Accuracy for Train :  0.9733783\n",
      "Accuracy for Test :  0.9734867"
     ]
    }
   ],
   "source": [
    "cat(\"Accuracy for Train : \", acc_train$.estimate);cat(\"\\nAccuracy for Test : \",acc_test$.estimate)"
   ]
  },
  {
   "cell_type": "code",
   "execution_count": 67,
   "metadata": {},
   "outputs": [
    {
     "name": "stdout",
     "output_type": "stream",
     "text": [
      "Sensitivity for Train :  0.9957342\n",
      "Sensitivity for Test :  0.9989643"
     ]
    }
   ],
   "source": [
    "cat(\"Sensitivity for Train : \", sens_train$.estimate);cat(\"\\nSensitivity for Test : \",sens_test$.estimate)"
   ]
  },
  {
   "cell_type": "code",
   "execution_count": 72,
   "metadata": {},
   "outputs": [
    {
     "name": "stdout",
     "output_type": "stream",
     "text": [
      "Specificity for Train :  0.3207547\n",
      "Specificity for Test :  0.25"
     ]
    }
   ],
   "source": [
    "cat(\"Specificity for Train : \", spec_train$.estimate);cat(\"\\nSpecificity for Test : \",spec_test$.estimate)"
   ]
  },
  {
   "cell_type": "code",
   "execution_count": 94,
   "metadata": {},
   "outputs": [
    {
     "name": "stdout",
     "output_type": "stream",
     "text": [
      "Accuracy for Train :  0.9733783\n",
      "Accuracy for Test :  0.9734867"
     ]
    }
   ],
   "source": [
    "cat(\"Accuracy for Train : \", acc_train_recipe$.estimate);cat(\"\\nAccuracy for Test : \",acc_test_recipe$.estimate)"
   ]
  },
  {
   "cell_type": "code",
   "execution_count": 95,
   "metadata": {},
   "outputs": [
    {
     "name": "stdout",
     "output_type": "stream",
     "text": [
      "Sensitivity for Train :  0.9957342\n",
      "Sensitivity for Test :  0.9963749"
     ]
    }
   ],
   "source": [
    "cat(\"Sensitivity for Train : \", sens_train_recipe$.estimate);cat(\"\\nSensitivity for Test : \",sens_test_recipe$.estimate)"
   ]
  },
  {
   "cell_type": "code",
   "execution_count": 96,
   "metadata": {},
   "outputs": [
    {
     "name": "stdout",
     "output_type": "stream",
     "text": [
      "Specificity for Train :  0.3207547\n",
      "Specificity for Test :  0.3235294"
     ]
    }
   ],
   "source": [
    "cat(\"Specificity for Train : \", spec_train_recipe$.estimate);cat(\"\\nSpecificity for Test : \",spec_test_recipe$.estimate)"
   ]
  },
  {
   "cell_type": "code",
   "execution_count": 102,
   "metadata": {},
   "outputs": [
    {
     "data": {
      "text/html": "<table class=\"dataframe\">\n<caption>A matrix: 4 × 3 of type dbl</caption>\n<thead>\n\t<tr><th></th><th scope=col>Accuracy</th><th scope=col>Sensitivity</th><th scope=col>Specificity</th></tr>\n</thead>\n<tbody>\n\t<tr><th scope=row>Train without F.</th><td>0.9733783</td><td>0.9957342</td><td>0.3207547</td></tr>\n\t<tr><th scope=row>Test without F.</th><td>0.9734867</td><td>0.9989643</td><td>0.2500000</td></tr>\n\t<tr><th scope=row>Train w/ Feature E.</th><td>0.9733783</td><td>0.9957342</td><td>0.3207547</td></tr>\n\t<tr><th scope=row>Test w/ Feature E.</th><td>0.9734867</td><td>0.9963749</td><td>0.3235294</td></tr>\n</tbody>\n</table>\n",
      "text/latex": "A matrix: 4 × 3 of type dbl\n\\begin{tabular}{r|lll}\n  & Accuracy & Sensitivity & Specificity\\\\\n\\hline\n\tTrain without F. & 0.9733783 & 0.9957342 & 0.3207547\\\\\n\tTest without F. & 0.9734867 & 0.9989643 & 0.2500000\\\\\n\tTrain w/ Feature E. & 0.9733783 & 0.9957342 & 0.3207547\\\\\n\tTest w/ Feature E. & 0.9734867 & 0.9963749 & 0.3235294\\\\\n\\end{tabular}\n",
      "text/markdown": "\nA matrix: 4 × 3 of type dbl\n\n| <!--/--> | Accuracy | Sensitivity | Specificity |\n|---|---|---|---|\n| Train without F. | 0.9733783 | 0.9957342 | 0.3207547 |\n| Test without F. | 0.9734867 | 0.9989643 | 0.2500000 |\n| Train w/ Feature E. | 0.9733783 | 0.9957342 | 0.3207547 |\n| Test w/ Feature E. | 0.9734867 | 0.9963749 | 0.3235294 |\n\n",
      "text/plain": "                    Accuracy  Sensitivity Specificity\nTrain without F.    0.9733783 0.9957342   0.3207547  \nTest without F.     0.9734867 0.9989643   0.2500000  \nTrain w/ Feature E. 0.9733783 0.9957342   0.3207547  \nTest w/ Feature E.  0.9734867 0.9963749   0.3235294  "
     },
     "metadata": {},
     "output_type": "display_data"
    }
   ],
   "source": [
    "table3"
   ]
  }
 ],
 "metadata": {
  "kernelspec": {
   "display_name": "R",
   "language": "R",
   "name": "ir"
  },
  "language_info": {
   "codemirror_mode": "r",
   "file_extension": ".r",
   "mimetype": "text/x-r-source",
   "name": "R",
   "pygments_lexer": "r",
   "version": "4.0.4"
  },
  "orig_nbformat": 2
 },
 "nbformat": 4,
 "nbformat_minor": 2
}