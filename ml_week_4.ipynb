{
  "nbformat": 4,
  "nbformat_minor": 0,
  "metadata": {
    "colab": {
      "name": "ml_week_4",
      "provenance": [],
      "authorship_tag": "ABX9TyMLXLEQnpUvDIR7AMRra3+7",
      "include_colab_link": true
    },
    "kernelspec": {
      "name": "python3",
      "display_name": "Python 3"
    },
    "language_info": {
      "name": "python"
    }
  },
  "cells": [
    {
      "cell_type": "markdown",
      "metadata": {
        "id": "view-in-github",
        "colab_type": "text"
      },
      "source": [
        "<a href=\"https://colab.research.google.com/github/AgusteFatu/burayaneyazcaz/blob/main/ml_week_4.ipynb\" target=\"_parent\"><img src=\"https://colab.research.google.com/assets/colab-badge.svg\" alt=\"Open In Colab\"/></a>"
      ]
    },
    {
      "cell_type": "code",
      "metadata": {
        "id": "f8zNMoTLTgPB"
      },
      "source": [
        "import pandas as pd\n",
        "import numpy as np\n",
        "import matplotlib.pyplot as plt\n",
        "from sklearn import preprocessing\n",
        "from sklearn.model_selection import train_test_split\n",
        "from sklearn.linear_model import LogisticRegression\n",
        "from sklearn import metrics as M\n",
        "import seaborn as sns\n",
        "import statsmodels.api as sm"
      ],
      "execution_count": 229,
      "outputs": []
    },
    {
      "cell_type": "code",
      "metadata": {
        "id": "LoMO5NAi5wON"
      },
      "source": [
        "import warnings\n",
        "from sklearn.exceptions import DataConversionWarning\n",
        "warnings.simplefilter(action='ignore', category=FutureWarning)\n",
        "warnings.simplefilter(action='ignore', category=DataConversionWarning)\n",
        "pd.options.mode.chained_assignment = None  # default='warn'\n",
        "pd.options.display.float_format = '{:,.2f}'.format"
      ],
      "execution_count": 230,
      "outputs": []
    },
    {
      "cell_type": "code",
      "metadata": {
        "id": "Kt3OmK1yTiOt"
      },
      "source": [
        "data = pd.read_csv('https://raw.githubusercontent.com/AgusteFatu/burayaneyazcaz/main/data/drug200.csv')"
      ],
      "execution_count": 231,
      "outputs": []
    },
    {
      "cell_type": "code",
      "metadata": {
        "id": "CN5Gy88OXSyd",
        "colab": {
          "base_uri": "https://localhost:8080/",
          "height": 233
        },
        "outputId": "65408c6c-f5ef-49a9-9273-bca771cf4f10"
      },
      "source": [
        "# To show a few observations of data and data length  \n",
        "display(data.head())\n",
        "print(\"\\n{} Rows and {} columns.\".format(data.shape[0],data.shape[1]))"
      ],
      "execution_count": 232,
      "outputs": [
        {
          "output_type": "display_data",
          "data": {
            "text/html": [
              "<div>\n",
              "<style scoped>\n",
              "    .dataframe tbody tr th:only-of-type {\n",
              "        vertical-align: middle;\n",
              "    }\n",
              "\n",
              "    .dataframe tbody tr th {\n",
              "        vertical-align: top;\n",
              "    }\n",
              "\n",
              "    .dataframe thead th {\n",
              "        text-align: right;\n",
              "    }\n",
              "</style>\n",
              "<table border=\"1\" class=\"dataframe\">\n",
              "  <thead>\n",
              "    <tr style=\"text-align: right;\">\n",
              "      <th></th>\n",
              "      <th>Age</th>\n",
              "      <th>Sex</th>\n",
              "      <th>BP</th>\n",
              "      <th>Cholesterol</th>\n",
              "      <th>Na_to_K</th>\n",
              "      <th>Drug</th>\n",
              "    </tr>\n",
              "  </thead>\n",
              "  <tbody>\n",
              "    <tr>\n",
              "      <th>0</th>\n",
              "      <td>23</td>\n",
              "      <td>F</td>\n",
              "      <td>HIGH</td>\n",
              "      <td>HIGH</td>\n",
              "      <td>25.36</td>\n",
              "      <td>DrugY</td>\n",
              "    </tr>\n",
              "    <tr>\n",
              "      <th>1</th>\n",
              "      <td>47</td>\n",
              "      <td>M</td>\n",
              "      <td>LOW</td>\n",
              "      <td>HIGH</td>\n",
              "      <td>13.09</td>\n",
              "      <td>drugC</td>\n",
              "    </tr>\n",
              "    <tr>\n",
              "      <th>2</th>\n",
              "      <td>47</td>\n",
              "      <td>M</td>\n",
              "      <td>LOW</td>\n",
              "      <td>HIGH</td>\n",
              "      <td>10.11</td>\n",
              "      <td>drugC</td>\n",
              "    </tr>\n",
              "    <tr>\n",
              "      <th>3</th>\n",
              "      <td>28</td>\n",
              "      <td>F</td>\n",
              "      <td>NORMAL</td>\n",
              "      <td>HIGH</td>\n",
              "      <td>7.80</td>\n",
              "      <td>drugX</td>\n",
              "    </tr>\n",
              "    <tr>\n",
              "      <th>4</th>\n",
              "      <td>61</td>\n",
              "      <td>F</td>\n",
              "      <td>LOW</td>\n",
              "      <td>HIGH</td>\n",
              "      <td>18.04</td>\n",
              "      <td>DrugY</td>\n",
              "    </tr>\n",
              "  </tbody>\n",
              "</table>\n",
              "</div>"
            ],
            "text/plain": [
              "   Age Sex      BP Cholesterol  Na_to_K   Drug\n",
              "0   23   F    HIGH        HIGH    25.36  DrugY\n",
              "1   47   M     LOW        HIGH    13.09  drugC\n",
              "2   47   M     LOW        HIGH    10.11  drugC\n",
              "3   28   F  NORMAL        HIGH     7.80  drugX\n",
              "4   61   F     LOW        HIGH    18.04  DrugY"
            ]
          },
          "metadata": {
            "tags": []
          }
        },
        {
          "output_type": "stream",
          "text": [
            "\n",
            "200 Rows and 6 columns.\n"
          ],
          "name": "stdout"
        }
      ]
    },
    {
      "cell_type": "code",
      "metadata": {
        "id": "ab3R1lqC44wh",
        "colab": {
          "base_uri": "https://localhost:8080/",
          "height": 107
        },
        "outputId": "5f263c05-0f29-47ad-8e83-ce3ba103695c"
      },
      "source": [
        "# Data Summary\n",
        "data.describe().transpose()"
      ],
      "execution_count": 233,
      "outputs": [
        {
          "output_type": "execute_result",
          "data": {
            "text/html": [
              "<div>\n",
              "<style scoped>\n",
              "    .dataframe tbody tr th:only-of-type {\n",
              "        vertical-align: middle;\n",
              "    }\n",
              "\n",
              "    .dataframe tbody tr th {\n",
              "        vertical-align: top;\n",
              "    }\n",
              "\n",
              "    .dataframe thead th {\n",
              "        text-align: right;\n",
              "    }\n",
              "</style>\n",
              "<table border=\"1\" class=\"dataframe\">\n",
              "  <thead>\n",
              "    <tr style=\"text-align: right;\">\n",
              "      <th></th>\n",
              "      <th>count</th>\n",
              "      <th>mean</th>\n",
              "      <th>std</th>\n",
              "      <th>min</th>\n",
              "      <th>25%</th>\n",
              "      <th>50%</th>\n",
              "      <th>75%</th>\n",
              "      <th>max</th>\n",
              "    </tr>\n",
              "  </thead>\n",
              "  <tbody>\n",
              "    <tr>\n",
              "      <th>Age</th>\n",
              "      <td>200.00</td>\n",
              "      <td>44.31</td>\n",
              "      <td>16.54</td>\n",
              "      <td>15.00</td>\n",
              "      <td>31.00</td>\n",
              "      <td>45.00</td>\n",
              "      <td>58.00</td>\n",
              "      <td>74.00</td>\n",
              "    </tr>\n",
              "    <tr>\n",
              "      <th>Na_to_K</th>\n",
              "      <td>200.00</td>\n",
              "      <td>16.08</td>\n",
              "      <td>7.22</td>\n",
              "      <td>6.27</td>\n",
              "      <td>10.45</td>\n",
              "      <td>13.94</td>\n",
              "      <td>19.38</td>\n",
              "      <td>38.25</td>\n",
              "    </tr>\n",
              "  </tbody>\n",
              "</table>\n",
              "</div>"
            ],
            "text/plain": [
              "         count  mean   std   min   25%   50%   75%   max\n",
              "Age     200.00 44.31 16.54 15.00 31.00 45.00 58.00 74.00\n",
              "Na_to_K 200.00 16.08  7.22  6.27 10.45 13.94 19.38 38.25"
            ]
          },
          "metadata": {
            "tags": []
          },
          "execution_count": 233
        }
      ]
    },
    {
      "cell_type": "code",
      "metadata": {
        "id": "FdokcnLzdP60"
      },
      "source": [
        "# Type of variables\n",
        "data.info()"
      ],
      "execution_count": null,
      "outputs": []
    },
    {
      "cell_type": "code",
      "metadata": {
        "id": "rg6vOPnx3--6",
        "colab": {
          "base_uri": "https://localhost:8080/",
          "height": 314
        },
        "outputId": "de190b72-4d2b-4c69-e38a-c0a17212e921"
      },
      "source": [
        "# .value_counts() To show levels of a factor \n",
        "display(pd.DataFrame(data['Sex'].value_counts()).transpose())\n",
        "print(\"\")\n",
        "display(pd.DataFrame(data['BP'].value_counts()).transpose())\n",
        "print(\"\")\n",
        "display(pd.DataFrame(data['Cholesterol'].value_counts()).transpose())\n",
        "print(\"\")\n",
        "display(pd.DataFrame(data['Drug'].value_counts()).transpose())\n"
      ],
      "execution_count": 234,
      "outputs": [
        {
          "output_type": "display_data",
          "data": {
            "text/html": [
              "<div>\n",
              "<style scoped>\n",
              "    .dataframe tbody tr th:only-of-type {\n",
              "        vertical-align: middle;\n",
              "    }\n",
              "\n",
              "    .dataframe tbody tr th {\n",
              "        vertical-align: top;\n",
              "    }\n",
              "\n",
              "    .dataframe thead th {\n",
              "        text-align: right;\n",
              "    }\n",
              "</style>\n",
              "<table border=\"1\" class=\"dataframe\">\n",
              "  <thead>\n",
              "    <tr style=\"text-align: right;\">\n",
              "      <th></th>\n",
              "      <th>M</th>\n",
              "      <th>F</th>\n",
              "    </tr>\n",
              "  </thead>\n",
              "  <tbody>\n",
              "    <tr>\n",
              "      <th>Sex</th>\n",
              "      <td>104</td>\n",
              "      <td>96</td>\n",
              "    </tr>\n",
              "  </tbody>\n",
              "</table>\n",
              "</div>"
            ],
            "text/plain": [
              "       M   F\n",
              "Sex  104  96"
            ]
          },
          "metadata": {
            "tags": []
          }
        },
        {
          "output_type": "stream",
          "text": [
            "\n"
          ],
          "name": "stdout"
        },
        {
          "output_type": "display_data",
          "data": {
            "text/html": [
              "<div>\n",
              "<style scoped>\n",
              "    .dataframe tbody tr th:only-of-type {\n",
              "        vertical-align: middle;\n",
              "    }\n",
              "\n",
              "    .dataframe tbody tr th {\n",
              "        vertical-align: top;\n",
              "    }\n",
              "\n",
              "    .dataframe thead th {\n",
              "        text-align: right;\n",
              "    }\n",
              "</style>\n",
              "<table border=\"1\" class=\"dataframe\">\n",
              "  <thead>\n",
              "    <tr style=\"text-align: right;\">\n",
              "      <th></th>\n",
              "      <th>HIGH</th>\n",
              "      <th>LOW</th>\n",
              "      <th>NORMAL</th>\n",
              "    </tr>\n",
              "  </thead>\n",
              "  <tbody>\n",
              "    <tr>\n",
              "      <th>BP</th>\n",
              "      <td>77</td>\n",
              "      <td>64</td>\n",
              "      <td>59</td>\n",
              "    </tr>\n",
              "  </tbody>\n",
              "</table>\n",
              "</div>"
            ],
            "text/plain": [
              "    HIGH  LOW  NORMAL\n",
              "BP    77   64      59"
            ]
          },
          "metadata": {
            "tags": []
          }
        },
        {
          "output_type": "stream",
          "text": [
            "\n"
          ],
          "name": "stdout"
        },
        {
          "output_type": "display_data",
          "data": {
            "text/html": [
              "<div>\n",
              "<style scoped>\n",
              "    .dataframe tbody tr th:only-of-type {\n",
              "        vertical-align: middle;\n",
              "    }\n",
              "\n",
              "    .dataframe tbody tr th {\n",
              "        vertical-align: top;\n",
              "    }\n",
              "\n",
              "    .dataframe thead th {\n",
              "        text-align: right;\n",
              "    }\n",
              "</style>\n",
              "<table border=\"1\" class=\"dataframe\">\n",
              "  <thead>\n",
              "    <tr style=\"text-align: right;\">\n",
              "      <th></th>\n",
              "      <th>HIGH</th>\n",
              "      <th>NORMAL</th>\n",
              "    </tr>\n",
              "  </thead>\n",
              "  <tbody>\n",
              "    <tr>\n",
              "      <th>Cholesterol</th>\n",
              "      <td>103</td>\n",
              "      <td>97</td>\n",
              "    </tr>\n",
              "  </tbody>\n",
              "</table>\n",
              "</div>"
            ],
            "text/plain": [
              "             HIGH  NORMAL\n",
              "Cholesterol   103      97"
            ]
          },
          "metadata": {
            "tags": []
          }
        },
        {
          "output_type": "stream",
          "text": [
            "\n"
          ],
          "name": "stdout"
        },
        {
          "output_type": "display_data",
          "data": {
            "text/html": [
              "<div>\n",
              "<style scoped>\n",
              "    .dataframe tbody tr th:only-of-type {\n",
              "        vertical-align: middle;\n",
              "    }\n",
              "\n",
              "    .dataframe tbody tr th {\n",
              "        vertical-align: top;\n",
              "    }\n",
              "\n",
              "    .dataframe thead th {\n",
              "        text-align: right;\n",
              "    }\n",
              "</style>\n",
              "<table border=\"1\" class=\"dataframe\">\n",
              "  <thead>\n",
              "    <tr style=\"text-align: right;\">\n",
              "      <th></th>\n",
              "      <th>DrugY</th>\n",
              "      <th>drugX</th>\n",
              "      <th>drugA</th>\n",
              "      <th>drugC</th>\n",
              "      <th>drugB</th>\n",
              "    </tr>\n",
              "  </thead>\n",
              "  <tbody>\n",
              "    <tr>\n",
              "      <th>Drug</th>\n",
              "      <td>91</td>\n",
              "      <td>54</td>\n",
              "      <td>23</td>\n",
              "      <td>16</td>\n",
              "      <td>16</td>\n",
              "    </tr>\n",
              "  </tbody>\n",
              "</table>\n",
              "</div>"
            ],
            "text/plain": [
              "      DrugY  drugX  drugA  drugC  drugB\n",
              "Drug     91     54     23     16     16"
            ]
          },
          "metadata": {
            "tags": []
          }
        }
      ]
    },
    {
      "cell_type": "code",
      "metadata": {
        "id": "qdpt22p8my2s"
      },
      "source": [
        "# Select feature and target\n",
        "X = data.drop(['Drug'],axis=1)\n",
        "y = data[['Drug']]"
      ],
      "execution_count": 235,
      "outputs": []
    },
    {
      "cell_type": "code",
      "metadata": {
        "id": "Cuklqdk_SBzT"
      },
      "source": [
        "from sklearn.preprocessing import OneHotEncoder\n",
        "\n",
        "# Can not use OneHotEncoder for Target \n",
        "le = preprocessing.LabelEncoder()\n",
        "ycoppy = y.copy()\n",
        "y['Drug'] = le.fit_transform(y['Drug'])\n",
        "\n",
        "# creating instance of one-hot-encoder\n",
        "enc = OneHotEncoder(handle_unknown='ignore')\n",
        "\n",
        "# Encode column in a different dataframe and then add new dataframe to the old one \n",
        "enc_df = pd.DataFrame(enc.fit_transform(X[['Sex']]).toarray())\n",
        "X = X.join(enc_df)\n",
        "X.rename(columns={0: 'Sex_F', 1: 'Sex_M'},inplace=True)\n",
        "\n",
        "enc_df = pd.DataFrame(enc.fit_transform(X[['BP']]).toarray())\n",
        "X = X.join(enc_df)\n",
        "X.rename(columns={0: 'BP_HIGH', 1: 'BP_LOW', 2:'NORMAL'},inplace=True)\n",
        "\n",
        "enc_df = pd.DataFrame(enc.fit_transform(X[['Cholesterol']]).toarray())\n",
        "X = X.join(enc_df)\n",
        "X.rename(columns={0: 'Cholesterol_HIGH', 1: 'Cholesterol_NORMAL'},inplace=True)\n",
        "\n",
        "X = X.drop(['Sex','BP','Cholesterol'],axis=1)"
      ],
      "execution_count": 236,
      "outputs": []
    },
    {
      "cell_type": "code",
      "metadata": {
        "colab": {
          "base_uri": "https://localhost:8080/",
          "height": 320
        },
        "id": "Kl0o8P46K511",
        "outputId": "9b3d2336-c5b7-43d0-f129-f8222316bd66"
      },
      "source": [
        "# Values after encoding \n",
        "display(X.head())\n",
        "display(y.head().transpose())\n",
        "display(ycoppy.head().transpose())"
      ],
      "execution_count": 237,
      "outputs": [
        {
          "output_type": "display_data",
          "data": {
            "text/html": [
              "<div>\n",
              "<style scoped>\n",
              "    .dataframe tbody tr th:only-of-type {\n",
              "        vertical-align: middle;\n",
              "    }\n",
              "\n",
              "    .dataframe tbody tr th {\n",
              "        vertical-align: top;\n",
              "    }\n",
              "\n",
              "    .dataframe thead th {\n",
              "        text-align: right;\n",
              "    }\n",
              "</style>\n",
              "<table border=\"1\" class=\"dataframe\">\n",
              "  <thead>\n",
              "    <tr style=\"text-align: right;\">\n",
              "      <th></th>\n",
              "      <th>Age</th>\n",
              "      <th>Na_to_K</th>\n",
              "      <th>Sex_F</th>\n",
              "      <th>Sex_M</th>\n",
              "      <th>BP_HIGH</th>\n",
              "      <th>BP_LOW</th>\n",
              "      <th>NORMAL</th>\n",
              "      <th>Cholesterol_HIGH</th>\n",
              "      <th>Cholesterol_NORMAL</th>\n",
              "    </tr>\n",
              "  </thead>\n",
              "  <tbody>\n",
              "    <tr>\n",
              "      <th>0</th>\n",
              "      <td>23</td>\n",
              "      <td>25.36</td>\n",
              "      <td>1.00</td>\n",
              "      <td>0.00</td>\n",
              "      <td>1.00</td>\n",
              "      <td>0.00</td>\n",
              "      <td>0.00</td>\n",
              "      <td>1.00</td>\n",
              "      <td>0.00</td>\n",
              "    </tr>\n",
              "    <tr>\n",
              "      <th>1</th>\n",
              "      <td>47</td>\n",
              "      <td>13.09</td>\n",
              "      <td>0.00</td>\n",
              "      <td>1.00</td>\n",
              "      <td>0.00</td>\n",
              "      <td>1.00</td>\n",
              "      <td>0.00</td>\n",
              "      <td>1.00</td>\n",
              "      <td>0.00</td>\n",
              "    </tr>\n",
              "    <tr>\n",
              "      <th>2</th>\n",
              "      <td>47</td>\n",
              "      <td>10.11</td>\n",
              "      <td>0.00</td>\n",
              "      <td>1.00</td>\n",
              "      <td>0.00</td>\n",
              "      <td>1.00</td>\n",
              "      <td>0.00</td>\n",
              "      <td>1.00</td>\n",
              "      <td>0.00</td>\n",
              "    </tr>\n",
              "    <tr>\n",
              "      <th>3</th>\n",
              "      <td>28</td>\n",
              "      <td>7.80</td>\n",
              "      <td>1.00</td>\n",
              "      <td>0.00</td>\n",
              "      <td>0.00</td>\n",
              "      <td>0.00</td>\n",
              "      <td>1.00</td>\n",
              "      <td>1.00</td>\n",
              "      <td>0.00</td>\n",
              "    </tr>\n",
              "    <tr>\n",
              "      <th>4</th>\n",
              "      <td>61</td>\n",
              "      <td>18.04</td>\n",
              "      <td>1.00</td>\n",
              "      <td>0.00</td>\n",
              "      <td>0.00</td>\n",
              "      <td>1.00</td>\n",
              "      <td>0.00</td>\n",
              "      <td>1.00</td>\n",
              "      <td>0.00</td>\n",
              "    </tr>\n",
              "  </tbody>\n",
              "</table>\n",
              "</div>"
            ],
            "text/plain": [
              "   Age  Na_to_K  Sex_F  ...  NORMAL  Cholesterol_HIGH  Cholesterol_NORMAL\n",
              "0   23    25.36   1.00  ...    0.00              1.00                0.00\n",
              "1   47    13.09   0.00  ...    0.00              1.00                0.00\n",
              "2   47    10.11   0.00  ...    0.00              1.00                0.00\n",
              "3   28     7.80   1.00  ...    1.00              1.00                0.00\n",
              "4   61    18.04   1.00  ...    0.00              1.00                0.00\n",
              "\n",
              "[5 rows x 9 columns]"
            ]
          },
          "metadata": {
            "tags": []
          }
        },
        {
          "output_type": "display_data",
          "data": {
            "text/html": [
              "<div>\n",
              "<style scoped>\n",
              "    .dataframe tbody tr th:only-of-type {\n",
              "        vertical-align: middle;\n",
              "    }\n",
              "\n",
              "    .dataframe tbody tr th {\n",
              "        vertical-align: top;\n",
              "    }\n",
              "\n",
              "    .dataframe thead th {\n",
              "        text-align: right;\n",
              "    }\n",
              "</style>\n",
              "<table border=\"1\" class=\"dataframe\">\n",
              "  <thead>\n",
              "    <tr style=\"text-align: right;\">\n",
              "      <th></th>\n",
              "      <th>0</th>\n",
              "      <th>1</th>\n",
              "      <th>2</th>\n",
              "      <th>3</th>\n",
              "      <th>4</th>\n",
              "    </tr>\n",
              "  </thead>\n",
              "  <tbody>\n",
              "    <tr>\n",
              "      <th>Drug</th>\n",
              "      <td>0</td>\n",
              "      <td>3</td>\n",
              "      <td>3</td>\n",
              "      <td>4</td>\n",
              "      <td>0</td>\n",
              "    </tr>\n",
              "  </tbody>\n",
              "</table>\n",
              "</div>"
            ],
            "text/plain": [
              "      0  1  2  3  4\n",
              "Drug  0  3  3  4  0"
            ]
          },
          "metadata": {
            "tags": []
          }
        },
        {
          "output_type": "display_data",
          "data": {
            "text/html": [
              "<div>\n",
              "<style scoped>\n",
              "    .dataframe tbody tr th:only-of-type {\n",
              "        vertical-align: middle;\n",
              "    }\n",
              "\n",
              "    .dataframe tbody tr th {\n",
              "        vertical-align: top;\n",
              "    }\n",
              "\n",
              "    .dataframe thead th {\n",
              "        text-align: right;\n",
              "    }\n",
              "</style>\n",
              "<table border=\"1\" class=\"dataframe\">\n",
              "  <thead>\n",
              "    <tr style=\"text-align: right;\">\n",
              "      <th></th>\n",
              "      <th>0</th>\n",
              "      <th>1</th>\n",
              "      <th>2</th>\n",
              "      <th>3</th>\n",
              "      <th>4</th>\n",
              "    </tr>\n",
              "  </thead>\n",
              "  <tbody>\n",
              "    <tr>\n",
              "      <th>Drug</th>\n",
              "      <td>DrugY</td>\n",
              "      <td>drugC</td>\n",
              "      <td>drugC</td>\n",
              "      <td>drugX</td>\n",
              "      <td>DrugY</td>\n",
              "    </tr>\n",
              "  </tbody>\n",
              "</table>\n",
              "</div>"
            ],
            "text/plain": [
              "          0      1      2      3      4\n",
              "Drug  DrugY  drugC  drugC  drugX  DrugY"
            ]
          },
          "metadata": {
            "tags": []
          }
        }
      ]
    },
    {
      "cell_type": "code",
      "metadata": {
        "id": "tjSy93UbqNIx",
        "colab": {
          "base_uri": "https://localhost:8080/",
          "height": 107
        },
        "outputId": "8b8d7856-9a48-4200-c2d9-6825b3e95eeb"
      },
      "source": [
        "#Splitting data\n",
        "X_train,X_test,y_train,y_test=train_test_split(X,y,test_size=0.2,random_state = 266)\n",
        "\n",
        "# Train and Test data after splitting for target variable\n",
        "sData = {'Train ' : y_train['Drug'].value_counts(), 'Test ' : y_test['Drug'].value_counts()}\n",
        "df_2 = pd.DataFrame(sData)\n",
        "df_2.index = ['DrugY:0' ,'DrugX:4','DrugA:1', 'DrugC:3','DrugB:2']\n",
        "df_2.transpose()\n"
      ],
      "execution_count": 238,
      "outputs": [
        {
          "output_type": "execute_result",
          "data": {
            "text/html": [
              "<div>\n",
              "<style scoped>\n",
              "    .dataframe tbody tr th:only-of-type {\n",
              "        vertical-align: middle;\n",
              "    }\n",
              "\n",
              "    .dataframe tbody tr th {\n",
              "        vertical-align: top;\n",
              "    }\n",
              "\n",
              "    .dataframe thead th {\n",
              "        text-align: right;\n",
              "    }\n",
              "</style>\n",
              "<table border=\"1\" class=\"dataframe\">\n",
              "  <thead>\n",
              "    <tr style=\"text-align: right;\">\n",
              "      <th></th>\n",
              "      <th>DrugY:0</th>\n",
              "      <th>DrugX:4</th>\n",
              "      <th>DrugA:1</th>\n",
              "      <th>DrugC:3</th>\n",
              "      <th>DrugB:2</th>\n",
              "    </tr>\n",
              "  </thead>\n",
              "  <tbody>\n",
              "    <tr>\n",
              "      <th>Train</th>\n",
              "      <td>71</td>\n",
              "      <td>42</td>\n",
              "      <td>19</td>\n",
              "      <td>14</td>\n",
              "      <td>14</td>\n",
              "    </tr>\n",
              "    <tr>\n",
              "      <th>Test</th>\n",
              "      <td>20</td>\n",
              "      <td>12</td>\n",
              "      <td>4</td>\n",
              "      <td>2</td>\n",
              "      <td>2</td>\n",
              "    </tr>\n",
              "  </tbody>\n",
              "</table>\n",
              "</div>"
            ],
            "text/plain": [
              "        DrugY:0  DrugX:4  DrugA:1  DrugC:3  DrugB:2\n",
              "Train        71       42       19       14       14\n",
              "Test         20       12        4        2        2"
            ]
          },
          "metadata": {
            "tags": []
          },
          "execution_count": 238
        }
      ]
    },
    {
      "cell_type": "code",
      "metadata": {
        "colab": {
          "base_uri": "https://localhost:8080/",
          "height": 278
        },
        "id": "WGIbGK6Yv0rX",
        "outputId": "5cc72b8a-54f9-44fc-f3ed-49fbfbd10fe7"
      },
      "source": [
        "# To Show % of target value counts in Train set\n",
        "labels = 'DrugY','DrugX','drugA','DrugC','DrugB'\n",
        "explode = (0.05, 0, 0, 0,0)\n",
        " \n",
        "fig1, ax1 = plt.subplots()\n",
        "ax1.pie(y_train.value_counts(),explode=explode,labels=labels, autopct='%1.1f%%',\n",
        "        shadow=True, startangle=0)\n",
        "ax1.axis('equal')  # Equal aspect ratio ensures that pie is drawn as a circle.\n",
        "plt.title('Train set', y=1.05)\n",
        "plt.show()\n"
      ],
      "execution_count": 239,
      "outputs": [
        {
          "output_type": "display_data",
          "data": {
            "image/png": "[encoded data removed]",
            "text/plain": [
              "<Figure size 432x288 with 1 Axes>"
            ]
          },
          "metadata": {
            "tags": []
          }
        }
      ]
    },
    {
      "cell_type": "code",
      "metadata": {
        "colab": {
          "base_uri": "https://localhost:8080/",
          "height": 274
        },
        "id": "Ftrc4fN_zxUp",
        "outputId": "460e1ecb-1d1a-4802-83fd-1df20bc2c0e8"
      },
      "source": [
        "# To Show % of target value count in Test set\n",
        "labels = 'DrugY','DrugX','drugA','DrugC','DrugB'\n",
        "explode = (0.05, 0, 0, 0,0)\n",
        " \n",
        "fig1, ax1 = plt.subplots()\n",
        "ax1.pie(y_test.value_counts(),explode=explode,labels=labels, autopct='%1.1f%%',\n",
        "        shadow=True, startangle=0)\n",
        "ax1.axis('equal')  # Equal aspect ratio ensures that pie is drawn as a circle.\n",
        "plt.title('Test set', y=1.05)\n",
        "plt.show()"
      ],
      "execution_count": 240,
      "outputs": [
        {
          "output_type": "display_data",
          "data": {
            "image/png": "[encoded data removed]",
            "text/plain": [
              "<Figure size 432x288 with 1 Axes>"
            ]
          },
          "metadata": {
            "tags": []
          }
        }
      ]
    },
    {
      "cell_type": "code",
      "metadata": {
        "id": "HO177qSaqQKD",
        "colab": {
          "base_uri": "https://localhost:8080/",
          "height": 107
        },
        "outputId": "41a86083-d599-45cc-c46d-e2e8a829f936"
      },
      "source": [
        "# Train Model with the same fucntion LogisticRegression with multi_class='multinomial' parameter\n",
        "model = LogisticRegression(multi_class='multinomial',solver=\"newton-cg\")\n",
        "model.fit(X_train,y_train)\n",
        "\n",
        "y_train_predicted = model.predict(X_train)\n",
        "y_test_predicted = model.predict(X_test)\n",
        "\n",
        "modelEvaluation  = y_train.copy()\n",
        "modelEvaluation['Predicted_train'] = y_train_predicted\n",
        "modelEvaluation.columns = ['Actual','Predicted_train']\n",
        "modelEvaluation.head(9).transpose()"
      ],
      "execution_count": 241,
      "outputs": [
        {
          "output_type": "execute_result",
          "data": {
            "text/html": [
              "<div>\n",
              "<style scoped>\n",
              "    .dataframe tbody tr th:only-of-type {\n",
              "        vertical-align: middle;\n",
              "    }\n",
              "\n",
              "    .dataframe tbody tr th {\n",
              "        vertical-align: top;\n",
              "    }\n",
              "\n",
              "    .dataframe thead th {\n",
              "        text-align: right;\n",
              "    }\n",
              "</style>\n",
              "<table border=\"1\" class=\"dataframe\">\n",
              "  <thead>\n",
              "    <tr style=\"text-align: right;\">\n",
              "      <th></th>\n",
              "      <th>118</th>\n",
              "      <th>92</th>\n",
              "      <th>161</th>\n",
              "      <th>197</th>\n",
              "      <th>180</th>\n",
              "      <th>158</th>\n",
              "      <th>72</th>\n",
              "      <th>8</th>\n",
              "      <th>41</th>\n",
              "    </tr>\n",
              "  </thead>\n",
              "  <tbody>\n",
              "    <tr>\n",
              "      <th>Actual</th>\n",
              "      <td>1</td>\n",
              "      <td>0</td>\n",
              "      <td>2</td>\n",
              "      <td>4</td>\n",
              "      <td>0</td>\n",
              "      <td>3</td>\n",
              "      <td>4</td>\n",
              "      <td>0</td>\n",
              "      <td>2</td>\n",
              "    </tr>\n",
              "    <tr>\n",
              "      <th>Predicted_train</th>\n",
              "      <td>1</td>\n",
              "      <td>0</td>\n",
              "      <td>2</td>\n",
              "      <td>4</td>\n",
              "      <td>0</td>\n",
              "      <td>3</td>\n",
              "      <td>4</td>\n",
              "      <td>0</td>\n",
              "      <td>2</td>\n",
              "    </tr>\n",
              "  </tbody>\n",
              "</table>\n",
              "</div>"
            ],
            "text/plain": [
              "                 118  92   161  197  180  158  72   8    41 \n",
              "Actual             1    0    2    4    0    3    4    0    2\n",
              "Predicted_train    1    0    2    4    0    3    4    0    2"
            ]
          },
          "metadata": {
            "tags": []
          },
          "execution_count": 241
        }
      ]
    },
    {
      "cell_type": "code",
      "metadata": {
        "colab": {
          "base_uri": "https://localhost:8080/"
        },
        "id": "WMegwW4aqZcv",
        "outputId": "408100dc-a1f8-48b7-b118-6fcbab49f422"
      },
      "source": [
        "# Accuary: the proportion of the total number of predictions that were correct.\n",
        "print('From graph above: {}'.format(sum(np.diag(cnf_matrix_train)) / np.sum(cnf_matrix_train)) )\n",
        "print(\"Train Accuracy :\",M.accuracy_score(y_train, y_train_predicted))\n",
        "print(\"Test Accuracy:\",M.accuracy_score(y_test, y_test_predicted))"
      ],
      "execution_count": 242,
      "outputs": [
        {
          "output_type": "stream",
          "text": [
            "From graph above: 1.0\n",
            "Train Accuracy : 1.0\n",
            "Test Accuracy: 0.95\n"
          ],
          "name": "stdout"
        }
      ]
    },
    {
      "cell_type": "code",
      "metadata": {
        "colab": {
          "base_uri": "https://localhost:8080/",
          "height": 107
        },
        "id": "v9w9yZ8cNVQo",
        "outputId": "b92455b2-2780-4dce-d2f2-0e9bdf447f75"
      },
      "source": [
        "# sensivity: the proportion of actual positive cases which are correctly identified. \n",
        "sens_df = pd.DataFrame(M.recall_score(y_train,y_train_predicted,average=None),columns=['Sensivity Train'])\n",
        "sens_df2 = pd.DataFrame(M.recall_score(y_test,y_test_predicted,average=None),columns=['Sensivity Test'])\n",
        "sens_df = sens_df.join(sens_df2)\n",
        "sens_df.index= ['DrugY:0' ,'DrugA:1', 'DrugB:2','DrugC:3','DrugX:4']\n",
        "sens_df.transpose()"
      ],
      "execution_count": 243,
      "outputs": [
        {
          "output_type": "execute_result",
          "data": {
            "text/html": [
              "<div>\n",
              "<style scoped>\n",
              "    .dataframe tbody tr th:only-of-type {\n",
              "        vertical-align: middle;\n",
              "    }\n",
              "\n",
              "    .dataframe tbody tr th {\n",
              "        vertical-align: top;\n",
              "    }\n",
              "\n",
              "    .dataframe thead th {\n",
              "        text-align: right;\n",
              "    }\n",
              "</style>\n",
              "<table border=\"1\" class=\"dataframe\">\n",
              "  <thead>\n",
              "    <tr style=\"text-align: right;\">\n",
              "      <th></th>\n",
              "      <th>DrugY:0</th>\n",
              "      <th>DrugA:1</th>\n",
              "      <th>DrugB:2</th>\n",
              "      <th>DrugC:3</th>\n",
              "      <th>DrugX:4</th>\n",
              "    </tr>\n",
              "  </thead>\n",
              "  <tbody>\n",
              "    <tr>\n",
              "      <th>Sensivity Train</th>\n",
              "      <td>1.00</td>\n",
              "      <td>1.00</td>\n",
              "      <td>1.00</td>\n",
              "      <td>1.00</td>\n",
              "      <td>1.00</td>\n",
              "    </tr>\n",
              "    <tr>\n",
              "      <th>Sensivity Test</th>\n",
              "      <td>0.95</td>\n",
              "      <td>1.00</td>\n",
              "      <td>0.50</td>\n",
              "      <td>1.00</td>\n",
              "      <td>1.00</td>\n",
              "    </tr>\n",
              "  </tbody>\n",
              "</table>\n",
              "</div>"
            ],
            "text/plain": [
              "                 DrugY:0  DrugA:1  DrugB:2  DrugC:3  DrugX:4\n",
              "Sensivity Train     1.00     1.00     1.00     1.00     1.00\n",
              "Sensivity Test      0.95     1.00     0.50     1.00     1.00"
            ]
          },
          "metadata": {
            "tags": []
          },
          "execution_count": 243
        }
      ]
    },
    {
      "cell_type": "code",
      "metadata": {
        "colab": {
          "base_uri": "https://localhost:8080/",
          "height": 107
        },
        "id": "5YgEfNUWp3f9",
        "outputId": "7ed7e537-566f-4929-9855-6460280ae2f6"
      },
      "source": [
        "from imblearn.metrics import specificity_score as spec_score\n",
        "# Specificity the proportion of actucal negative cases which are correctly identified\n",
        "spec_df = pd.DataFrame(spec_score(y_train, y_train_predicted,average = None),columns=['Specificity Train'])\n",
        "spec_df2 = pd.DataFrame(spec_score(y_test, y_test_predicted,average = None),columns=['Specificity Test'])\n",
        "spec_df = spec_df.join(spec_df2)\n",
        "spec_df.index= ['DrugY:0' ,'DrugA:1', 'DrugB:2','DrugC:3','DrugX:4']\n",
        "spec_df.transpose()\n",
        "\n"
      ],
      "execution_count": 244,
      "outputs": [
        {
          "output_type": "execute_result",
          "data": {
            "text/html": [
              "<div>\n",
              "<style scoped>\n",
              "    .dataframe tbody tr th:only-of-type {\n",
              "        vertical-align: middle;\n",
              "    }\n",
              "\n",
              "    .dataframe tbody tr th {\n",
              "        vertical-align: top;\n",
              "    }\n",
              "\n",
              "    .dataframe thead th {\n",
              "        text-align: right;\n",
              "    }\n",
              "</style>\n",
              "<table border=\"1\" class=\"dataframe\">\n",
              "  <thead>\n",
              "    <tr style=\"text-align: right;\">\n",
              "      <th></th>\n",
              "      <th>DrugY:0</th>\n",
              "      <th>DrugA:1</th>\n",
              "      <th>DrugB:2</th>\n",
              "      <th>DrugC:3</th>\n",
              "      <th>DrugX:4</th>\n",
              "    </tr>\n",
              "  </thead>\n",
              "  <tbody>\n",
              "    <tr>\n",
              "      <th>Specificity Train</th>\n",
              "      <td>1.00</td>\n",
              "      <td>1.00</td>\n",
              "      <td>1.00</td>\n",
              "      <td>1.00</td>\n",
              "      <td>1.00</td>\n",
              "    </tr>\n",
              "    <tr>\n",
              "      <th>Specificity Test</th>\n",
              "      <td>1.00</td>\n",
              "      <td>0.97</td>\n",
              "      <td>0.97</td>\n",
              "      <td>1.00</td>\n",
              "      <td>1.00</td>\n",
              "    </tr>\n",
              "  </tbody>\n",
              "</table>\n",
              "</div>"
            ],
            "text/plain": [
              "                   DrugY:0  DrugA:1  DrugB:2  DrugC:3  DrugX:4\n",
              "Specificity Train     1.00     1.00     1.00     1.00     1.00\n",
              "Specificity Test      1.00     0.97     0.97     1.00     1.00"
            ]
          },
          "metadata": {
            "tags": []
          },
          "execution_count": 244
        }
      ]
    },
    {
      "cell_type": "code",
      "metadata": {
        "colab": {
          "base_uri": "https://localhost:8080/",
          "height": 342
        },
        "id": "lRCIoIWyABvE",
        "outputId": "f27ef104-749e-4514-c2e1-ea8decc7f79f"
      },
      "source": [
        "# Confusion Matrix\n",
        "cnf_matrix_train = metrics.confusion_matrix(y_train, y_train_predicted)\n",
        "cnf_matrix_test = metrics.confusion_matrix(y_test, y_test_predicted)\n",
        "\n",
        "class_names=[0,1] # name  of classes\n",
        "fig, ax = plt.subplots()\n",
        "tick_marks = np.arange(len(class_names))\n",
        "plt.xticks(tick_marks, class_names)\n",
        "plt.yticks(tick_marks, class_names)\n",
        "# create heatmap \n",
        "\n",
        "#sns.heatmap(pd.DataFrame(cnf_matrix_train), annot=True,cmap=\"Blues\",fmt = \"g\")\n",
        "sns.heatmap(pd.DataFrame(cnf_matrix_test), annot=True,cmap=\"Blues\",fmt = \"g\")\n",
        "ax.xaxis.set_label_position(\"top\")\n",
        "plt.tight_layout()\n",
        "plt.title('Test Confusion matrix', y=1.1)\n",
        "plt.ylabel('Actual label')\n",
        "plt.xlabel('Predicted label')\n"
      ],
      "execution_count": 245,
      "outputs": [
        {
          "output_type": "execute_result",
          "data": {
            "text/plain": [
              "Text(0.5, 257.44, 'Predicted label')"
            ]
          },
          "metadata": {
            "tags": []
          },
          "execution_count": 245
        },
        {
          "output_type": "display_data",
          "data": {
            "image/png": "[encoded data removed]",
            "text/plain": [
              "<Figure size 432x288 with 2 Axes>"
            ]
          },
          "metadata": {
            "tags": [],
            "needs_background": "light"
          }
        }
      ]
    },
    {
      "cell_type": "code",
      "metadata": {
        "id": "lYBqbCCoApH0"
      },
      "source": [
        "# coefficients\n",
        "coef = pd.DataFrame(np.exp(model.coef_))\n",
        "coef.index =['DrugY:0' ,'DrugA:1', 'DrugB:2','DrugC:3','DrugX:4']\n",
        "coef.columns = X.columns\n",
        "coef"
      ],
      "execution_count": null,
      "outputs": []
    },
    {
      "cell_type": "code",
      "metadata": {
        "id": "GGUB1bFV3kTO"
      },
      "source": [
        "# Model Sumamry\n",
        "logit_model=sm.MNLogit(y_train,sm.add_constant(X_train))\n",
        "result=logit_model.fit()\n",
        "stats1=result.summary()\n",
        "print(stats1)\n"
      ],
      "execution_count": null,
      "outputs": []
    },
    {
      "cell_type": "code",
      "metadata": {
        "id": "rHCW9aEKrbgp",
        "colab": {
          "base_uri": "https://localhost:8080/"
        },
        "outputId": "af8e8c87-09c1-4581-96cf-ddd1407b5688"
      },
      "source": [
        "# Model with LabelEncoder\n",
        "data = pd.read_csv('https://raw.githubusercontent.com/AgusteFatu/burayaneyazcaz/main/data/drug200.csv')\n",
        "\n",
        "X = data.drop(['Drug'],axis=1)\n",
        "y = data[['Drug']]\n",
        "\n",
        "le = preprocessing.LabelEncoder()\n",
        "\n",
        "y['Drug'] = le.fit_transform(y['Drug'])\n",
        "for feature in cols:\n",
        "  if X[feature].dtypes == ('O'):\n",
        "    X[feature] = le.fit_transform(X[feature])\n",
        "    print('\"{}\"  data type is Object, \"{}\" encoded.'.format(feature,feature))\n",
        "\n",
        "X_train,X_test,y_train,y_test=train_test_split(X,y,test_size=0.20,random_state = 42)\n",
        "\n",
        "model = LogisticRegression(multi_class='multinomial',solver=\"newton-cg\")\n",
        "model.fit(X_train,y_train)\n",
        "\n",
        "y_train_predicted = model.predict(X_train)\n",
        "y_test_predicted = model.predict(X_test)\n",
        "\n",
        "print(\"Train Accuracy :\",metrics.accuracy_score(y_train, y_train_predicted))\n",
        "print(\"Test Accuracy:\",metrics.accuracy_score(y_test, y_test_predicted))"
      ],
      "execution_count": 250,
      "outputs": [
        {
          "output_type": "stream",
          "text": [
            "\"Sex\"  data type is Object, \"Sex\" encoded.\n",
            "\"BP\"  data type is Object, \"BP\" encoded.\n",
            "\"Cholesterol\"  data type is Object, \"Cholesterol\" encoded.\n",
            "Train Accuracy : 0.96875\n",
            "Test Accuracy: 0.9\n"
          ],
          "name": "stdout"
        }
      ]
    },
    {
      "cell_type": "code",
      "metadata": {
        "id": "Ldvz801idr3F"
      },
      "source": [
        "list(X_test.index)"
      ],
      "execution_count": null,
      "outputs": []
    }
  ]
}