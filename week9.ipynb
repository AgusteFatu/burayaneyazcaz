{
  "nbformat": 4,
  "nbformat_minor": 0,
  "metadata": {
    "colab": {
      "name": "week9",
      "provenance": [],
      "authorship_tag": "ABX9TyNnQcLLFCpRVd3rArVE2D3d",
      "include_colab_link": true
    },
    "kernelspec": {
      "name": "python3",
      "display_name": "Python 3"
    },
    "language_info": {
      "name": "python"
    }
  },
  "cells": [
    {
      "cell_type": "markdown",
      "metadata": {
        "id": "view-in-github",
        "colab_type": "text"
      },
      "source": [
        "<a href=\"https://colab.research.google.com/github/AgusteFatu/burayaneyazcaz/blob/main/week9.ipynb\" target=\"_parent\"><img src=\"https://colab.research.google.com/assets/colab-badge.svg\" alt=\"Open In Colab\"/></a>"
      ]
    },
    {
      "cell_type": "code",
      "metadata": {
        "id": "n9U_ipzHVY2f"
      },
      "source": [
        "import pandas as pd \n",
        "import numpy as np\n",
        "import matplotlib.pyplot as plt\n",
        "from sklearn.tree import DecisionTreeRegressor # Import Decision Tree Regression\n",
        "from sklearn.model_selection import train_test_split # Import train_test_split function\n",
        "from sklearn import metrics #Import scikit-learn metrics module for accuracy calculation"
      ],
      "execution_count": 2,
      "outputs": []
    },
    {
      "cell_type": "markdown",
      "metadata": {
        "id": "DTDpQhB6BN1w"
      },
      "source": [
        "# Data & Summary"
      ]
    },
    {
      "cell_type": "code",
      "metadata": {
        "id": "ixcXfk_oVapH"
      },
      "source": [
        "data = pd.read_csv('https://raw.githubusercontent.com/AgusteFatu/burayaneyazcaz/main/data/mtcars.csv')\n",
        "del data['Unnamed: 0']\n",
        "del data['carb']\n",
        "#data.rename(columns={'Unnamed: 0': 'Car'}, inplace=True)\n",
        "\n",
        "pd.options.display.float_format = '{:,.2f}'.format\n",
        "\n"
      ],
      "execution_count": 196,
      "outputs": []
    },
    {
      "cell_type": "code",
      "metadata": {
        "colab": {
          "base_uri": "https://localhost:8080/",
          "height": 238
        },
        "id": "IHYaISp43YK6",
        "outputId": "e4f9c948-8359-45b2-d290-f7fd0b04c200"
      },
      "source": [
        "# Example observations\n",
        "display(data.sample(5,random_state=42))\n",
        "print(\"\\n{} Rows and {} columns.\".format(data.shape[0],data.shape[1]))"
      ],
      "execution_count": 197,
      "outputs": [
        {
          "output_type": "display_data",
          "data": {
            "text/html": [
              "<div>\n",
              "<style scoped>\n",
              "    .dataframe tbody tr th:only-of-type {\n",
              "        vertical-align: middle;\n",
              "    }\n",
              "\n",
              "    .dataframe tbody tr th {\n",
              "        vertical-align: top;\n",
              "    }\n",
              "\n",
              "    .dataframe thead th {\n",
              "        text-align: right;\n",
              "    }\n",
              "</style>\n",
              "<table border=\"1\" class=\"dataframe\">\n",
              "  <thead>\n",
              "    <tr style=\"text-align: right;\">\n",
              "      <th></th>\n",
              "      <th>mpg</th>\n",
              "      <th>cyl</th>\n",
              "      <th>disp</th>\n",
              "      <th>hp</th>\n",
              "      <th>drat</th>\n",
              "      <th>wt</th>\n",
              "      <th>qsec</th>\n",
              "      <th>vs</th>\n",
              "      <th>am</th>\n",
              "      <th>gear</th>\n",
              "    </tr>\n",
              "  </thead>\n",
              "  <tbody>\n",
              "    <tr>\n",
              "      <th>29</th>\n",
              "      <td>19.70</td>\n",
              "      <td>6</td>\n",
              "      <td>145.00</td>\n",
              "      <td>175</td>\n",
              "      <td>3.62</td>\n",
              "      <td>2.77</td>\n",
              "      <td>15.50</td>\n",
              "      <td>0</td>\n",
              "      <td>1</td>\n",
              "      <td>5</td>\n",
              "    </tr>\n",
              "    <tr>\n",
              "      <th>15</th>\n",
              "      <td>10.40</td>\n",
              "      <td>8</td>\n",
              "      <td>460.00</td>\n",
              "      <td>215</td>\n",
              "      <td>3.00</td>\n",
              "      <td>5.42</td>\n",
              "      <td>17.82</td>\n",
              "      <td>0</td>\n",
              "      <td>0</td>\n",
              "      <td>3</td>\n",
              "    </tr>\n",
              "    <tr>\n",
              "      <th>24</th>\n",
              "      <td>19.20</td>\n",
              "      <td>8</td>\n",
              "      <td>400.00</td>\n",
              "      <td>175</td>\n",
              "      <td>3.08</td>\n",
              "      <td>3.85</td>\n",
              "      <td>17.05</td>\n",
              "      <td>0</td>\n",
              "      <td>0</td>\n",
              "      <td>3</td>\n",
              "    </tr>\n",
              "    <tr>\n",
              "      <th>17</th>\n",
              "      <td>32.40</td>\n",
              "      <td>4</td>\n",
              "      <td>78.70</td>\n",
              "      <td>66</td>\n",
              "      <td>4.08</td>\n",
              "      <td>2.20</td>\n",
              "      <td>19.47</td>\n",
              "      <td>1</td>\n",
              "      <td>1</td>\n",
              "      <td>4</td>\n",
              "    </tr>\n",
              "    <tr>\n",
              "      <th>8</th>\n",
              "      <td>22.80</td>\n",
              "      <td>4</td>\n",
              "      <td>140.80</td>\n",
              "      <td>95</td>\n",
              "      <td>3.92</td>\n",
              "      <td>3.15</td>\n",
              "      <td>22.90</td>\n",
              "      <td>1</td>\n",
              "      <td>0</td>\n",
              "      <td>4</td>\n",
              "    </tr>\n",
              "  </tbody>\n",
              "</table>\n",
              "</div>"
            ],
            "text/plain": [
              "     mpg  cyl   disp   hp  drat   wt  qsec  vs  am  gear\n",
              "29 19.70    6 145.00  175  3.62 2.77 15.50   0   1     5\n",
              "15 10.40    8 460.00  215  3.00 5.42 17.82   0   0     3\n",
              "24 19.20    8 400.00  175  3.08 3.85 17.05   0   0     3\n",
              "17 32.40    4  78.70   66  4.08 2.20 19.47   1   1     4\n",
              "8  22.80    4 140.80   95  3.92 3.15 22.90   1   0     4"
            ]
          },
          "metadata": {
            "tags": []
          }
        },
        {
          "output_type": "stream",
          "text": [
            "\n",
            "32 Rows and 10 columns.\n"
          ],
          "name": "stdout"
        }
      ]
    },
    {
      "cell_type": "code",
      "metadata": {
        "colab": {
          "base_uri": "https://localhost:8080/"
        },
        "id": "_WWrSjk6V2MV",
        "outputId": "10e269c5-15d5-4943-cef8-87c842632620"
      },
      "source": [
        "# Information about the variables dtype and columns, non-null values\n",
        "data.info()"
      ],
      "execution_count": 198,
      "outputs": [
        {
          "output_type": "stream",
          "text": [
            "<class 'pandas.core.frame.DataFrame'>\n",
            "RangeIndex: 32 entries, 0 to 31\n",
            "Data columns (total 10 columns):\n",
            " #   Column  Non-Null Count  Dtype  \n",
            "---  ------  --------------  -----  \n",
            " 0   mpg     32 non-null     float64\n",
            " 1   cyl     32 non-null     int64  \n",
            " 2   disp    32 non-null     float64\n",
            " 3   hp      32 non-null     int64  \n",
            " 4   drat    32 non-null     float64\n",
            " 5   wt      32 non-null     float64\n",
            " 6   qsec    32 non-null     float64\n",
            " 7   vs      32 non-null     int64  \n",
            " 8   am      32 non-null     int64  \n",
            " 9   gear    32 non-null     int64  \n",
            "dtypes: float64(5), int64(5)\n",
            "memory usage: 2.6 KB\n"
          ],
          "name": "stdout"
        }
      ]
    },
    {
      "cell_type": "code",
      "metadata": {
        "colab": {
          "base_uri": "https://localhost:8080/",
          "height": 80
        },
        "id": "ZwKfSeTRBVc3",
        "outputId": "64779c77-a596-4319-9327-49d4c4c504aa"
      },
      "source": [
        "# Summary Statistics \n",
        "pd.DataFrame(data['mpg'].describe()).transpose()"
      ],
      "execution_count": 199,
      "outputs": [
        {
          "output_type": "execute_result",
          "data": {
            "text/html": [
              "<div>\n",
              "<style scoped>\n",
              "    .dataframe tbody tr th:only-of-type {\n",
              "        vertical-align: middle;\n",
              "    }\n",
              "\n",
              "    .dataframe tbody tr th {\n",
              "        vertical-align: top;\n",
              "    }\n",
              "\n",
              "    .dataframe thead th {\n",
              "        text-align: right;\n",
              "    }\n",
              "</style>\n",
              "<table border=\"1\" class=\"dataframe\">\n",
              "  <thead>\n",
              "    <tr style=\"text-align: right;\">\n",
              "      <th></th>\n",
              "      <th>count</th>\n",
              "      <th>mean</th>\n",
              "      <th>std</th>\n",
              "      <th>min</th>\n",
              "      <th>25%</th>\n",
              "      <th>50%</th>\n",
              "      <th>75%</th>\n",
              "      <th>max</th>\n",
              "    </tr>\n",
              "  </thead>\n",
              "  <tbody>\n",
              "    <tr>\n",
              "      <th>mpg</th>\n",
              "      <td>32.00</td>\n",
              "      <td>20.09</td>\n",
              "      <td>6.03</td>\n",
              "      <td>10.40</td>\n",
              "      <td>15.43</td>\n",
              "      <td>19.20</td>\n",
              "      <td>22.80</td>\n",
              "      <td>33.90</td>\n",
              "    </tr>\n",
              "  </tbody>\n",
              "</table>\n",
              "</div>"
            ],
            "text/plain": [
              "     count  mean  std   min   25%   50%   75%   max\n",
              "mpg  32.00 20.09 6.03 10.40 15.43 19.20 22.80 33.90"
            ]
          },
          "metadata": {
            "tags": []
          },
          "execution_count": 199
        }
      ]
    },
    {
      "cell_type": "code",
      "metadata": {
        "colab": {
          "base_uri": "https://localhost:8080/",
          "height": 80
        },
        "id": "ylHg09ixCo9o",
        "outputId": "43d85e10-c703-44c8-9a50-3e89be76a572"
      },
      "source": [
        "# Summary Statistics \n",
        "pd.DataFrame(data['cyl'].describe()).transpose()"
      ],
      "execution_count": 200,
      "outputs": [
        {
          "output_type": "execute_result",
          "data": {
            "text/html": [
              "<div>\n",
              "<style scoped>\n",
              "    .dataframe tbody tr th:only-of-type {\n",
              "        vertical-align: middle;\n",
              "    }\n",
              "\n",
              "    .dataframe tbody tr th {\n",
              "        vertical-align: top;\n",
              "    }\n",
              "\n",
              "    .dataframe thead th {\n",
              "        text-align: right;\n",
              "    }\n",
              "</style>\n",
              "<table border=\"1\" class=\"dataframe\">\n",
              "  <thead>\n",
              "    <tr style=\"text-align: right;\">\n",
              "      <th></th>\n",
              "      <th>count</th>\n",
              "      <th>mean</th>\n",
              "      <th>std</th>\n",
              "      <th>min</th>\n",
              "      <th>25%</th>\n",
              "      <th>50%</th>\n",
              "      <th>75%</th>\n",
              "      <th>max</th>\n",
              "    </tr>\n",
              "  </thead>\n",
              "  <tbody>\n",
              "    <tr>\n",
              "      <th>cyl</th>\n",
              "      <td>32.00</td>\n",
              "      <td>6.19</td>\n",
              "      <td>1.79</td>\n",
              "      <td>4.00</td>\n",
              "      <td>4.00</td>\n",
              "      <td>6.00</td>\n",
              "      <td>8.00</td>\n",
              "      <td>8.00</td>\n",
              "    </tr>\n",
              "  </tbody>\n",
              "</table>\n",
              "</div>"
            ],
            "text/plain": [
              "     count  mean  std  min  25%  50%  75%  max\n",
              "cyl  32.00  6.19 1.79 4.00 4.00 6.00 8.00 8.00"
            ]
          },
          "metadata": {
            "tags": []
          },
          "execution_count": 200
        }
      ]
    },
    {
      "cell_type": "code",
      "metadata": {
        "colab": {
          "base_uri": "https://localhost:8080/",
          "height": 80
        },
        "id": "pI9zrarkFOCd",
        "outputId": "0134daa1-f609-4451-fc26-9260acf8bc7b"
      },
      "source": [
        "# Summary Statistics \n",
        "pd.DataFrame(data['disp'].describe()).transpose()"
      ],
      "execution_count": 201,
      "outputs": [
        {
          "output_type": "execute_result",
          "data": {
            "text/html": [
              "<div>\n",
              "<style scoped>\n",
              "    .dataframe tbody tr th:only-of-type {\n",
              "        vertical-align: middle;\n",
              "    }\n",
              "\n",
              "    .dataframe tbody tr th {\n",
              "        vertical-align: top;\n",
              "    }\n",
              "\n",
              "    .dataframe thead th {\n",
              "        text-align: right;\n",
              "    }\n",
              "</style>\n",
              "<table border=\"1\" class=\"dataframe\">\n",
              "  <thead>\n",
              "    <tr style=\"text-align: right;\">\n",
              "      <th></th>\n",
              "      <th>count</th>\n",
              "      <th>mean</th>\n",
              "      <th>std</th>\n",
              "      <th>min</th>\n",
              "      <th>25%</th>\n",
              "      <th>50%</th>\n",
              "      <th>75%</th>\n",
              "      <th>max</th>\n",
              "    </tr>\n",
              "  </thead>\n",
              "  <tbody>\n",
              "    <tr>\n",
              "      <th>disp</th>\n",
              "      <td>32.00</td>\n",
              "      <td>230.72</td>\n",
              "      <td>123.94</td>\n",
              "      <td>71.10</td>\n",
              "      <td>120.83</td>\n",
              "      <td>196.30</td>\n",
              "      <td>326.00</td>\n",
              "      <td>472.00</td>\n",
              "    </tr>\n",
              "  </tbody>\n",
              "</table>\n",
              "</div>"
            ],
            "text/plain": [
              "      count   mean    std   min    25%    50%    75%    max\n",
              "disp  32.00 230.72 123.94 71.10 120.83 196.30 326.00 472.00"
            ]
          },
          "metadata": {
            "tags": []
          },
          "execution_count": 201
        }
      ]
    },
    {
      "cell_type": "code",
      "metadata": {
        "colab": {
          "base_uri": "https://localhost:8080/",
          "height": 80
        },
        "id": "OEgWjzyjGiDs",
        "outputId": "edded908-ecda-4d59-c653-4cbcc0b9d50b"
      },
      "source": [
        "# Summary Statistics \n",
        "pd.DataFrame(data['hp'].describe()).transpose()"
      ],
      "execution_count": 202,
      "outputs": [
        {
          "output_type": "execute_result",
          "data": {
            "text/html": [
              "<div>\n",
              "<style scoped>\n",
              "    .dataframe tbody tr th:only-of-type {\n",
              "        vertical-align: middle;\n",
              "    }\n",
              "\n",
              "    .dataframe tbody tr th {\n",
              "        vertical-align: top;\n",
              "    }\n",
              "\n",
              "    .dataframe thead th {\n",
              "        text-align: right;\n",
              "    }\n",
              "</style>\n",
              "<table border=\"1\" class=\"dataframe\">\n",
              "  <thead>\n",
              "    <tr style=\"text-align: right;\">\n",
              "      <th></th>\n",
              "      <th>count</th>\n",
              "      <th>mean</th>\n",
              "      <th>std</th>\n",
              "      <th>min</th>\n",
              "      <th>25%</th>\n",
              "      <th>50%</th>\n",
              "      <th>75%</th>\n",
              "      <th>max</th>\n",
              "    </tr>\n",
              "  </thead>\n",
              "  <tbody>\n",
              "    <tr>\n",
              "      <th>hp</th>\n",
              "      <td>32.00</td>\n",
              "      <td>146.69</td>\n",
              "      <td>68.56</td>\n",
              "      <td>52.00</td>\n",
              "      <td>96.50</td>\n",
              "      <td>123.00</td>\n",
              "      <td>180.00</td>\n",
              "      <td>335.00</td>\n",
              "    </tr>\n",
              "  </tbody>\n",
              "</table>\n",
              "</div>"
            ],
            "text/plain": [
              "    count   mean   std   min   25%    50%    75%    max\n",
              "hp  32.00 146.69 68.56 52.00 96.50 123.00 180.00 335.00"
            ]
          },
          "metadata": {
            "tags": []
          },
          "execution_count": 202
        }
      ]
    },
    {
      "cell_type": "code",
      "metadata": {
        "colab": {
          "base_uri": "https://localhost:8080/",
          "height": 80
        },
        "id": "WJ5lEUzSIAPJ",
        "outputId": "444718ba-8285-4e53-96b2-a5051fa2f76a"
      },
      "source": [
        "# Summary Statistics \n",
        "pd.DataFrame(data['drat'].describe()).transpose()"
      ],
      "execution_count": 203,
      "outputs": [
        {
          "output_type": "execute_result",
          "data": {
            "text/html": [
              "<div>\n",
              "<style scoped>\n",
              "    .dataframe tbody tr th:only-of-type {\n",
              "        vertical-align: middle;\n",
              "    }\n",
              "\n",
              "    .dataframe tbody tr th {\n",
              "        vertical-align: top;\n",
              "    }\n",
              "\n",
              "    .dataframe thead th {\n",
              "        text-align: right;\n",
              "    }\n",
              "</style>\n",
              "<table border=\"1\" class=\"dataframe\">\n",
              "  <thead>\n",
              "    <tr style=\"text-align: right;\">\n",
              "      <th></th>\n",
              "      <th>count</th>\n",
              "      <th>mean</th>\n",
              "      <th>std</th>\n",
              "      <th>min</th>\n",
              "      <th>25%</th>\n",
              "      <th>50%</th>\n",
              "      <th>75%</th>\n",
              "      <th>max</th>\n",
              "    </tr>\n",
              "  </thead>\n",
              "  <tbody>\n",
              "    <tr>\n",
              "      <th>drat</th>\n",
              "      <td>32.00</td>\n",
              "      <td>3.60</td>\n",
              "      <td>0.53</td>\n",
              "      <td>2.76</td>\n",
              "      <td>3.08</td>\n",
              "      <td>3.70</td>\n",
              "      <td>3.92</td>\n",
              "      <td>4.93</td>\n",
              "    </tr>\n",
              "  </tbody>\n",
              "</table>\n",
              "</div>"
            ],
            "text/plain": [
              "      count  mean  std  min  25%  50%  75%  max\n",
              "drat  32.00  3.60 0.53 2.76 3.08 3.70 3.92 4.93"
            ]
          },
          "metadata": {
            "tags": []
          },
          "execution_count": 203
        }
      ]
    },
    {
      "cell_type": "code",
      "metadata": {
        "colab": {
          "base_uri": "https://localhost:8080/",
          "height": 80
        },
        "id": "8X3rl3kTIWDG",
        "outputId": "c8e75d79-fe68-4120-e554-52e5e2601eb8"
      },
      "source": [
        "# Summary Statistics \n",
        "pd.DataFrame(data['wt'].describe()).transpose()"
      ],
      "execution_count": 204,
      "outputs": [
        {
          "output_type": "execute_result",
          "data": {
            "text/html": [
              "<div>\n",
              "<style scoped>\n",
              "    .dataframe tbody tr th:only-of-type {\n",
              "        vertical-align: middle;\n",
              "    }\n",
              "\n",
              "    .dataframe tbody tr th {\n",
              "        vertical-align: top;\n",
              "    }\n",
              "\n",
              "    .dataframe thead th {\n",
              "        text-align: right;\n",
              "    }\n",
              "</style>\n",
              "<table border=\"1\" class=\"dataframe\">\n",
              "  <thead>\n",
              "    <tr style=\"text-align: right;\">\n",
              "      <th></th>\n",
              "      <th>count</th>\n",
              "      <th>mean</th>\n",
              "      <th>std</th>\n",
              "      <th>min</th>\n",
              "      <th>25%</th>\n",
              "      <th>50%</th>\n",
              "      <th>75%</th>\n",
              "      <th>max</th>\n",
              "    </tr>\n",
              "  </thead>\n",
              "  <tbody>\n",
              "    <tr>\n",
              "      <th>wt</th>\n",
              "      <td>32.00</td>\n",
              "      <td>3.22</td>\n",
              "      <td>0.98</td>\n",
              "      <td>1.51</td>\n",
              "      <td>2.58</td>\n",
              "      <td>3.33</td>\n",
              "      <td>3.61</td>\n",
              "      <td>5.42</td>\n",
              "    </tr>\n",
              "  </tbody>\n",
              "</table>\n",
              "</div>"
            ],
            "text/plain": [
              "    count  mean  std  min  25%  50%  75%  max\n",
              "wt  32.00  3.22 0.98 1.51 2.58 3.33 3.61 5.42"
            ]
          },
          "metadata": {
            "tags": []
          },
          "execution_count": 204
        }
      ]
    },
    {
      "cell_type": "code",
      "metadata": {
        "colab": {
          "base_uri": "https://localhost:8080/",
          "height": 80
        },
        "id": "lKvus7bKJU90",
        "outputId": "c0c68e9c-c0e3-4120-fd2e-296cfa781aaf"
      },
      "source": [
        "# Summary Statistics \n",
        "pd.DataFrame(data['qsec'].describe()).transpose()"
      ],
      "execution_count": 205,
      "outputs": [
        {
          "output_type": "execute_result",
          "data": {
            "text/html": [
              "<div>\n",
              "<style scoped>\n",
              "    .dataframe tbody tr th:only-of-type {\n",
              "        vertical-align: middle;\n",
              "    }\n",
              "\n",
              "    .dataframe tbody tr th {\n",
              "        vertical-align: top;\n",
              "    }\n",
              "\n",
              "    .dataframe thead th {\n",
              "        text-align: right;\n",
              "    }\n",
              "</style>\n",
              "<table border=\"1\" class=\"dataframe\">\n",
              "  <thead>\n",
              "    <tr style=\"text-align: right;\">\n",
              "      <th></th>\n",
              "      <th>count</th>\n",
              "      <th>mean</th>\n",
              "      <th>std</th>\n",
              "      <th>min</th>\n",
              "      <th>25%</th>\n",
              "      <th>50%</th>\n",
              "      <th>75%</th>\n",
              "      <th>max</th>\n",
              "    </tr>\n",
              "  </thead>\n",
              "  <tbody>\n",
              "    <tr>\n",
              "      <th>qsec</th>\n",
              "      <td>32.00</td>\n",
              "      <td>17.85</td>\n",
              "      <td>1.79</td>\n",
              "      <td>14.50</td>\n",
              "      <td>16.89</td>\n",
              "      <td>17.71</td>\n",
              "      <td>18.90</td>\n",
              "      <td>22.90</td>\n",
              "    </tr>\n",
              "  </tbody>\n",
              "</table>\n",
              "</div>"
            ],
            "text/plain": [
              "      count  mean  std   min   25%   50%   75%   max\n",
              "qsec  32.00 17.85 1.79 14.50 16.89 17.71 18.90 22.90"
            ]
          },
          "metadata": {
            "tags": []
          },
          "execution_count": 205
        }
      ]
    },
    {
      "cell_type": "code",
      "metadata": {
        "colab": {
          "base_uri": "https://localhost:8080/",
          "height": 80
        },
        "id": "MTwI8MkzLZqf",
        "outputId": "e646823c-ad93-44c4-9e09-63fba6ae1572"
      },
      "source": [
        "# Summary Statistics \n",
        "pd.DataFrame(data['vs'].value_counts()).transpose()"
      ],
      "execution_count": 206,
      "outputs": [
        {
          "output_type": "execute_result",
          "data": {
            "text/html": [
              "<div>\n",
              "<style scoped>\n",
              "    .dataframe tbody tr th:only-of-type {\n",
              "        vertical-align: middle;\n",
              "    }\n",
              "\n",
              "    .dataframe tbody tr th {\n",
              "        vertical-align: top;\n",
              "    }\n",
              "\n",
              "    .dataframe thead th {\n",
              "        text-align: right;\n",
              "    }\n",
              "</style>\n",
              "<table border=\"1\" class=\"dataframe\">\n",
              "  <thead>\n",
              "    <tr style=\"text-align: right;\">\n",
              "      <th></th>\n",
              "      <th>0</th>\n",
              "      <th>1</th>\n",
              "    </tr>\n",
              "  </thead>\n",
              "  <tbody>\n",
              "    <tr>\n",
              "      <th>vs</th>\n",
              "      <td>18</td>\n",
              "      <td>14</td>\n",
              "    </tr>\n",
              "  </tbody>\n",
              "</table>\n",
              "</div>"
            ],
            "text/plain": [
              "     0   1\n",
              "vs  18  14"
            ]
          },
          "metadata": {
            "tags": []
          },
          "execution_count": 206
        }
      ]
    },
    {
      "cell_type": "code",
      "metadata": {
        "colab": {
          "base_uri": "https://localhost:8080/",
          "height": 80
        },
        "id": "pXCWSMJMMDRl",
        "outputId": "23c4ccff-f652-40cd-8e34-ff73cf2dc81b"
      },
      "source": [
        "# Summary Statistics \n",
        "pd.DataFrame(data['am'].value_counts()).transpose()"
      ],
      "execution_count": 207,
      "outputs": [
        {
          "output_type": "execute_result",
          "data": {
            "text/html": [
              "<div>\n",
              "<style scoped>\n",
              "    .dataframe tbody tr th:only-of-type {\n",
              "        vertical-align: middle;\n",
              "    }\n",
              "\n",
              "    .dataframe tbody tr th {\n",
              "        vertical-align: top;\n",
              "    }\n",
              "\n",
              "    .dataframe thead th {\n",
              "        text-align: right;\n",
              "    }\n",
              "</style>\n",
              "<table border=\"1\" class=\"dataframe\">\n",
              "  <thead>\n",
              "    <tr style=\"text-align: right;\">\n",
              "      <th></th>\n",
              "      <th>0</th>\n",
              "      <th>1</th>\n",
              "    </tr>\n",
              "  </thead>\n",
              "  <tbody>\n",
              "    <tr>\n",
              "      <th>am</th>\n",
              "      <td>19</td>\n",
              "      <td>13</td>\n",
              "    </tr>\n",
              "  </tbody>\n",
              "</table>\n",
              "</div>"
            ],
            "text/plain": [
              "     0   1\n",
              "am  19  13"
            ]
          },
          "metadata": {
            "tags": []
          },
          "execution_count": 207
        }
      ]
    },
    {
      "cell_type": "code",
      "metadata": {
        "colab": {
          "base_uri": "https://localhost:8080/",
          "height": 80
        },
        "id": "goFtOnXrMjmg",
        "outputId": "61f72b9a-6d74-438c-8761-8803ae070f77"
      },
      "source": [
        "# Summary Statistics \n",
        "pd.DataFrame(data['gear'].describe()).transpose()"
      ],
      "execution_count": 208,
      "outputs": [
        {
          "output_type": "execute_result",
          "data": {
            "text/html": [
              "<div>\n",
              "<style scoped>\n",
              "    .dataframe tbody tr th:only-of-type {\n",
              "        vertical-align: middle;\n",
              "    }\n",
              "\n",
              "    .dataframe tbody tr th {\n",
              "        vertical-align: top;\n",
              "    }\n",
              "\n",
              "    .dataframe thead th {\n",
              "        text-align: right;\n",
              "    }\n",
              "</style>\n",
              "<table border=\"1\" class=\"dataframe\">\n",
              "  <thead>\n",
              "    <tr style=\"text-align: right;\">\n",
              "      <th></th>\n",
              "      <th>count</th>\n",
              "      <th>mean</th>\n",
              "      <th>std</th>\n",
              "      <th>min</th>\n",
              "      <th>25%</th>\n",
              "      <th>50%</th>\n",
              "      <th>75%</th>\n",
              "      <th>max</th>\n",
              "    </tr>\n",
              "  </thead>\n",
              "  <tbody>\n",
              "    <tr>\n",
              "      <th>gear</th>\n",
              "      <td>32.00</td>\n",
              "      <td>3.69</td>\n",
              "      <td>0.74</td>\n",
              "      <td>3.00</td>\n",
              "      <td>3.00</td>\n",
              "      <td>4.00</td>\n",
              "      <td>4.00</td>\n",
              "      <td>5.00</td>\n",
              "    </tr>\n",
              "  </tbody>\n",
              "</table>\n",
              "</div>"
            ],
            "text/plain": [
              "      count  mean  std  min  25%  50%  75%  max\n",
              "gear  32.00  3.69 0.74 3.00 3.00 4.00 4.00 5.00"
            ]
          },
          "metadata": {
            "tags": []
          },
          "execution_count": 208
        }
      ]
    },
    {
      "cell_type": "code",
      "metadata": {
        "colab": {
          "base_uri": "https://localhost:8080/"
        },
        "id": "UDDuyEvLVjJM",
        "outputId": "9b325f4c-df6d-411d-ad05-e8bf76022518"
      },
      "source": [
        "# Select feature and target\n",
        "X = data.drop(['mpg'],axis=1)\n",
        "y = data[['mpg']]\n",
        "\n",
        "# Split dataset into training set and test set\n",
        "X_train, X_test, y_train, y_test = train_test_split(X, y,test_size=0.2, random_state=42)\n",
        "\n",
        "print('Train set length: {}'.format(len(y_train)))\n",
        "print('Test  set length: {}'.format(len(y_test)))"
      ],
      "execution_count": 209,
      "outputs": [
        {
          "output_type": "stream",
          "text": [
            "Train set length: 25\n",
            "Test  set length: 7\n"
          ],
          "name": "stdout"
        }
      ]
    },
    {
      "cell_type": "markdown",
      "metadata": {
        "id": "46fY2I_5OdBp"
      },
      "source": [
        "# LRM & Regression Tree \n"
      ]
    },
    {
      "cell_type": "code",
      "metadata": {
        "colab": {
          "base_uri": "https://localhost:8080/"
        },
        "id": "3QzigYcTej5i",
        "outputId": "e8242d23-852e-4730-f1ee-37fcb8be150c"
      },
      "source": [
        "from sklearn.linear_model import LinearRegression\n",
        "from sklearn import metrics\n",
        "# Linear Regression Model \n",
        "model_LRM = LinearRegression().fit(X_train,y_train).fit(X_train,y_train)\n",
        "\n",
        "train_MSE_LRM =metrics.mean_squared_error(y_train, model_LRM.predict(X_train))\n",
        "test_MSE_LRM = metrics.mean_squared_error(y_test, model_LRM.predict(X_test))\n",
        "\n",
        "print('Train MSE: {:,.2f}' .format(train_MSE_LRM))\n",
        "print('Test MSE: {:,.2f}' .format(test_MSE_LRM))"
      ],
      "execution_count": 212,
      "outputs": [
        {
          "output_type": "stream",
          "text": [
            "Train MSE: 4.23\n",
            "Test MSE: 9.68\n"
          ],
          "name": "stdout"
        }
      ]
    },
    {
      "cell_type": "code",
      "metadata": {
        "colab": {
          "base_uri": "https://localhost:8080/"
        },
        "id": "g8k8TYsTfs-t",
        "outputId": "0ca321fc-326d-4541-a4c5-0d50652465db"
      },
      "source": [
        "from sklearn.tree import DecisionTreeRegressor # Regression Tree\n",
        "\n",
        "# Regression Tree Model\n",
        "regTree = DecisionTreeRegressor(random_state=42).fit(X_train,y_train)\n",
        "\n",
        "train_MSE_REGTREE = metrics.mean_squared_error(y_train,regTree.predict(X_train))\n",
        "test_MSE_REGTREE  = metrics.mean_squared_error(y_test, regTree.predict(X_test))  \n",
        "\n",
        "print('Train MSE: {:,.2f}'.format(train_MSE_REGTREE))\n",
        "print('Test MSE: {:,.2f}'.format(test_MSE_REGTREE))"
      ],
      "execution_count": 213,
      "outputs": [
        {
          "output_type": "stream",
          "text": [
            "Train MSE: 0.00\n",
            "Test MSE: 5.33\n"
          ],
          "name": "stdout"
        }
      ]
    },
    {
      "cell_type": "markdown",
      "metadata": {
        "id": "bVVMTlTigObu"
      },
      "source": [
        "# Bagging Tree , Random Forest and gradient Boosted Model"
      ]
    },
    {
      "cell_type": "code",
      "metadata": {
        "colab": {
          "base_uri": "https://localhost:8080/",
          "height": 316
        },
        "id": "IykAzMdNXHvW",
        "outputId": "7cc099a4-5931-4e40-d84c-82e44b4bd304"
      },
      "source": [
        "from sklearn.ensemble import BaggingRegressor\n",
        "# Starting Parameters for bagging Tree \n",
        "params_B = {'n_estimators': 100,\n",
        "            'max_features': 9,\n",
        "           'random_state' : 42\n",
        "           }\n",
        "df_BAGGING = {\n",
        "    'numberOfTrees' : [],\n",
        "    'rmse' : []\n",
        "    }\n",
        "\n",
        "# Empty list for the X and Y values for plotting\n",
        "plotX_B = []\n",
        "plotY_B = []\n",
        "\n",
        "# loop for the training bagging tree with different number of trees\n",
        "for n_estimators in ([100, 200,300,400,500,600,700,800,900,1000,1250,1500]):\n",
        "  params_B['n_estimators'] = n_estimators\n",
        "  plotX_B.append(n_estimators)\n",
        "\n",
        "  # Bagging Tree\n",
        "  bagTree = BaggingRegressor(**params_B).fit(X_train,np.ravel(y_train))\n",
        "  rmse_B = np.sqrt(mean_squared_error(y_test, bagTree.predict(X_test)))\n",
        "  plotY_B.append(rmse_B)\n",
        "  \n",
        "  # Plotting \n",
        "  plt.scatter(plotX_B,plotY_B)\n",
        "  plt.plot(plotX_B,plotY_B)\n",
        "\n",
        "  # Storing number of trees and RMSE values \n",
        "  df_BAGGING['numberOfTrees'].append(n_estimators)\n",
        "  df_BAGGING['rmse'].append(rmse_B)\n",
        "\n",
        "  #print('{} : Rmse {:,.3f}'.format(params_B,rmse_B)) # Debug\n",
        "plt.show()\n",
        "\n",
        "# Finding lowest rmse and number of trees\n",
        "df_BAGGING_pd = pd.DataFrame(df_BAGGING)\n",
        "minRMSE_BAG = df_BAGGING_pd['rmse'].min()\n",
        "nofTree_BAG = df_BAGGING_pd.loc[df_BAGGING_pd['rmse'].idxmin()].numberOfTrees\n",
        "print('Minimum RMSE at {:,.4} with {} trees.'.format(minRMSE_BAG,nofTree_BAG))\n",
        "\n",
        "# Training bagging tree with the best performed tree size\n",
        "bagTree = BaggingRegressor(n_estimators = int(nofTree_BAG),random_state=42).fit(X_train,np.ravel(y_train))\n",
        "train_MSE_BAG = mean_squared_error(y_train, bagTree.predict(X_train))\n",
        "test_MSE_BAG = mean_squared_error(y_test, bagTree.predict(X_test))\n",
        "\n",
        "print('Train MSE: {:,.3f}'.format(train_MSE_BAG))\n",
        "print('Test MSE: {:,.3f}'.format(test_MSE_BAG))\n"
      ],
      "execution_count": 215,
      "outputs": [
        {
          "output_type": "display_data",
          "data": {
            "image/png": "[encoded data removed]",
            "text/plain": [
              "<Figure size 432x288 with 1 Axes>"
            ]
          },
          "metadata": {
            "tags": [],
            "needs_background": "light"
          }
        },
        {
          "output_type": "stream",
          "text": [
            "Minimum RMSE at 2.265 with 600.0 trees.\n",
            "Train MSE: 1.005\n",
            "Test MSE: 5.130\n"
          ],
          "name": "stdout"
        }
      ]
    },
    {
      "cell_type": "code",
      "metadata": {
        "colab": {
          "base_uri": "https://localhost:8080/",
          "height": 333
        },
        "id": "WN2_L6Qphl6o",
        "outputId": "a7496e0b-1dcf-4827-f0aa-83214d2f1a9d"
      },
      "source": [
        "from sklearn.ensemble import RandomForestRegressor\n",
        "\n",
        "# Starting parameters for Random Forest\n",
        "params_F = {'n_estimators': 100,\n",
        "           'random_state' : 42\n",
        "           }\n",
        "# Empty Dictionary for storing Number of trees and RMSE \n",
        "df_FOREST = {\n",
        "    'numberOfTrees' : [],\n",
        "    'rmse' : []\n",
        "    }\n",
        "\n",
        "#  Empty list for the X and Y values for plotting\n",
        "plotX_F = []\n",
        "plotY_F = []\n",
        "for n_estimators in ([100, 200,300,400,500,600,700,800,900,1000,1250,1500]):\n",
        "  params_F['n_estimators'] = n_estimators\n",
        "  plotX_F.append(n_estimators)\n",
        "\n",
        "  # Random Forest\n",
        "  rforest = RandomForestRegressor(**params_F).fit(X_train,np.ravel(y_train))\n",
        "  rmse_F = np.sqrt(mean_squared_error(y_test, rforest.predict(X_test)))\n",
        "  \n",
        "  # Plotting \n",
        "  plotY_F.append(rmse_F)\n",
        "  plt.scatter(plotX_F,plotY_F)\n",
        "  plt.plot(plotX_F,plotY_F)\n",
        "\n",
        "  # Storing Number of Trees and RMSE \n",
        "  df_FOREST['numberOfTrees'].append(n_estimators)\n",
        "  df_FOREST['rmse'].append(rmse_F)\n",
        "  # print('{} : Rmse {:,.3f}'.format(params_F,rmse_F)) # Debug\n",
        "\n",
        "plt.xlabel('Number of Trees')\n",
        "plt.ylabel('RMSE')\n",
        "plt.show()\n",
        "\n",
        "\n",
        "# Finding lowest rmse and number of trees\n",
        "df_FOREST_pd = pd.DataFrame(df_FOREST)\n",
        "minRMSE_F = df_FOREST_pd['rmse'].min()\n",
        "nofTree_F = df_FOREST_pd.loc[df_FOREST_pd['rmse'].idxmin()].numberOfTrees\n",
        "print('Minimum RMSE at {:,.4} with {} trees.'.format(minRMSE_F,nofTree_F))\n",
        "\n",
        "\n",
        "# Training Random Forest with the best performed number of trees \n",
        "rforest = RandomForestRegressor(n_estimators = int(nofTree_F),random_state=42).fit(X_train,np.ravel(y_train))\n",
        "train_MSE_FOREST = mean_squared_error(y_train, rforest.predict(X_train))\n",
        "test_MSE_FOREST = mean_squared_error(y_test, rforest.predict(X_test))\n",
        "\n",
        "print('Train MSE: {:,.2f}'.format(train_MSE_FOREST))\n",
        "print('Test MSE: {:,.2f}'.format(test_MSE_FOREST))\n"
      ],
      "execution_count": 217,
      "outputs": [
        {
          "output_type": "display_data",
          "data": {
            "image/png": "[encoded data removed]",
            "text/plain": [
              "<Figure size 432x288 with 1 Axes>"
            ]
          },
          "metadata": {
            "tags": [],
            "needs_background": "light"
          }
        },
        {
          "output_type": "stream",
          "text": [
            "Minimum RMSE at 2.262 with 1500.0 trees.\n",
            "Train MSE: 1.03\n",
            "Test MSE: 5.12\n"
          ],
          "name": "stdout"
        }
      ]
    },
    {
      "cell_type": "code",
      "metadata": {
        "colab": {
          "base_uri": "https://localhost:8080/",
          "height": 527
        },
        "id": "UwQ_V2f2V9kR",
        "outputId": "51d327f2-cf4e-4ac0-b6f7-964fd4ad3857"
      },
      "source": [
        "from sklearn import datasets, ensemble\n",
        "from sklearn.metrics import mean_squared_error\n",
        "\n",
        "# Starting Parameters for GBM Model\n",
        "params2 = {'n_estimators': 100,\n",
        "          'learning_rate': 0.01,\n",
        "           'max_depth': 1,\n",
        "           'random_state' : 42\n",
        "           }\n",
        "\n",
        "# Figure size for plotting \n",
        "f, ax = plt.subplots(1,3, figsize=(15, 7),squeeze=False)\n",
        "\n",
        "# First loop for the learning rate parameter\n",
        "for index, lRate in enumerate([0.01,0.05,0.1]):\n",
        "  params2['learning_rate'] = lRate\n",
        "  \n",
        "  # Second loop for the max_depth Parameter\n",
        "  for maxD in ([1,3,5,9]):\n",
        "    plotX = []\n",
        "    plotY = []\n",
        "    params2['max_depth'] = maxD\n",
        "    \n",
        "    # Loop for the number of trees \n",
        "    for n_estimators in ([100, 200, 300,400,500,600,700,800,900,1000]):\n",
        "      params2['n_estimators'] = n_estimators\n",
        "      plotX.append(n_estimators)\n",
        "\n",
        "      # Gradient Boosted Model \n",
        "      gbm = ensemble.GradientBoostingRegressor(**params2)\n",
        "      gbm.fit(X_train, np.ravel(y_train))\n",
        "\n",
        "      rmse = np.sqrt(mean_squared_error(y_test, gbm.predict(X_test)))\n",
        "      plotY.append(rmse)\n",
        "      \n",
        "      \n",
        "      #print('{} : Rmse {:,.3f}'.format(params2,rmse)) # Debug\n",
        "\n",
        "    # Plotting\n",
        "    plt.suptitle(\"Gradient Boosting Model\")\n",
        "    subplot = ax[0][index]\n",
        "    subplot.set_title('(Shrinkage) Learning Rate {}'.format(lRate))\n",
        "\n",
        "    subplot.scatter(plotX, plotY)   \n",
        "    subplot.plot(plotX,plotY,label = 'Max Tree Depth {}'.format(maxD))\n",
        "    \n",
        "    subplot.legend(loc='upper right',fontsize = 'medium')\n",
        "    subplot.set_xlabel('Number of Trees')\n",
        "    subplot.set_ylabel('RMSE')\n",
        "\n",
        "\n",
        "gbm = ensemble.GradientBoostingRegressor(max_depth= 5,n_estimators=400,learning_rate=0.1,random_state=42)\n",
        "gbm.fit(X_train, np.ravel(y_train))\n",
        "\n",
        "train_MSE_GMB = mean_squared_error(y_train, gbm.predict(X_train))\n",
        "test_MSE_GBM = mean_squared_error(y_test, gbm.predict(X_test))\n",
        "\n",
        "print('Train MSE: {:,.2f}'.format(train_MSE_GMB))\n",
        "print('Test MSE: {:,.2f}'.format(test_MSE_GBM))"
      ],
      "execution_count": 225,
      "outputs": [
        {
          "output_type": "stream",
          "text": [
            "Train MSE: 0.00\n",
            "Test MSE: 2.99\n"
          ],
          "name": "stdout"
        },
        {
          "output_type": "display_data",
          "data": {
            "image/png": "[encoded data removed]",
            "text/plain": [
              "<Figure size 1080x504 with 3 Axes>"
            ]
          },
          "metadata": {
            "tags": [],
            "needs_background": "light"
          }
        }
      ]
    },
    {
      "cell_type": "code",
      "metadata": {
        "colab": {
          "base_uri": "https://localhost:8080/",
          "height": 111
        },
        "id": "afFpGeM4taE3",
        "outputId": "e61e54bd-f7ce-407a-a987-e7f0f6077384"
      },
      "source": [
        "# Model RMSE values for Comparison\n",
        "tableData = {'Linear Reg. M. RMSE' : [np.sqrt(train_MSE_LRM),np.sqrt(test_MSE_LRM)], 'Reg Tree RMSE': [np.sqrt(train_MSE_REGTREE),np.sqrt(test_MSE_REGTREE)],'Bagging Tree RMSE': [np.sqrt(train_MSE_BAG),np.sqrt(test_MSE_BAG)],'Random Forest RMSE': [np.sqrt(train_MSE_FOREST),np.sqrt(test_MSE_FOREST)],'GBM RMSE': [np.sqrt(train_MSE_GMB),np.sqrt(test_MSE_GBM)] }\n",
        "table = pd.DataFrame(tableData,index = {'Train set': '0','Test Set': '1'})\n",
        "table"
      ],
      "execution_count": 227,
      "outputs": [
        {
          "output_type": "execute_result",
          "data": {
            "text/html": [
              "<div>\n",
              "<style scoped>\n",
              "    .dataframe tbody tr th:only-of-type {\n",
              "        vertical-align: middle;\n",
              "    }\n",
              "\n",
              "    .dataframe tbody tr th {\n",
              "        vertical-align: top;\n",
              "    }\n",
              "\n",
              "    .dataframe thead th {\n",
              "        text-align: right;\n",
              "    }\n",
              "</style>\n",
              "<table border=\"1\" class=\"dataframe\">\n",
              "  <thead>\n",
              "    <tr style=\"text-align: right;\">\n",
              "      <th></th>\n",
              "      <th>Linear Reg. M. RMSE</th>\n",
              "      <th>Reg Tree RMSE</th>\n",
              "      <th>Bagging Tree RMSE</th>\n",
              "      <th>Random Forest RMSE</th>\n",
              "      <th>GBM RMSE</th>\n",
              "    </tr>\n",
              "  </thead>\n",
              "  <tbody>\n",
              "    <tr>\n",
              "      <th>Train set</th>\n",
              "      <td>2.06</td>\n",
              "      <td>0.00</td>\n",
              "      <td>1.00</td>\n",
              "      <td>1.01</td>\n",
              "      <td>0.00</td>\n",
              "    </tr>\n",
              "    <tr>\n",
              "      <th>Test Set</th>\n",
              "      <td>3.11</td>\n",
              "      <td>2.31</td>\n",
              "      <td>2.26</td>\n",
              "      <td>2.26</td>\n",
              "      <td>1.73</td>\n",
              "    </tr>\n",
              "  </tbody>\n",
              "</table>\n",
              "</div>"
            ],
            "text/plain": [
              "           Linear Reg. M. RMSE  Reg Tree RMSE  ...  Random Forest RMSE  GBM RMSE\n",
              "Train set                 2.06           0.00  ...                1.01      0.00\n",
              "Test Set                  3.11           2.31  ...                2.26      1.73\n",
              "\n",
              "[2 rows x 5 columns]"
            ]
          },
          "metadata": {
            "tags": []
          },
          "execution_count": 227
        }
      ]
    }
  ]
}