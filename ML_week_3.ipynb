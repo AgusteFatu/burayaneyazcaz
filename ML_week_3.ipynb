{
  "nbformat": 4,
  "nbformat_minor": 0,
  "metadata": {
    "colab": {
      "name": "ML_week_3",
      "provenance": [],
      "collapsed_sections": [],
      "authorship_tag": "ABX9TyNniTJcRqW19o2mHCOJPeWD"
    },
    "kernelspec": {
      "name": "python3",
      "display_name": "Python 3"
    }
  },
  "cells": [
    {
      "cell_type": "code",
      "metadata": {
        "id": "ndYAQDrHicsK",
        "colab": {
          "base_uri": "https://localhost:8080/"
        },
        "outputId": "c30e874b-623c-4075-acad-576a0d362928"
      },
      "source": [
        "import pandas as pd\n",
        "import numpy as np\n",
        "import matplotlib.pyplot as plt\n",
        "from sklearn import preprocessing\n",
        "from sklearn.model_selection import train_test_split\n",
        "from sklearn.linear_model import LogisticRegression\n",
        "from sklearn import metrics\n",
        "import seaborn as sns\n",
        "import statsmodels.api as sm"
      ],
      "execution_count": null,
      "outputs": [
        {
          "output_type": "stream",
          "text": [
            "/usr/local/lib/python3.7/dist-packages/statsmodels/tools/_testing.py:19: FutureWarning: pandas.util.testing is deprecated. Use the functions in the public API at pandas.testing instead.\n",
            "  import pandas.util.testing as tm\n"
          ],
          "name": "stderr"
        }
      ]
    },
    {
      "cell_type": "code",
      "metadata": {
        "id": "8a3M6GCCCczE"
      },
      "source": [
        "import warnings\n",
        "#warnings.simplefilter(action='ignore', category=FutureWarning)\n",
        "pd.options.mode.chained_assignment = None  # default='warn'\n",
        "pd.options.display.float_format = '{:,.2f}'.format"
      ],
      "execution_count": null,
      "outputs": []
    },
    {
      "cell_type": "code",
      "metadata": {
        "id": "Jm50MxpRnQmb"
      },
      "source": [
        "# Read Data\n",
        "data = pd.read_csv('https://raw.githubusercontent.com/AgusteFatu/burayaneyazcaz/main/datas/GSOEP9402.csv')\n",
        "del data['Unnamed: 0']"
      ],
      "execution_count": null,
      "outputs": []
    },
    {
      "cell_type": "code",
      "metadata": {
        "id": "QK0vmADboHQw",
        "colab": {
          "base_uri": "https://localhost:8080/",
          "height": 253
        },
        "outputId": "36493cf1-2863-42bd-e74c-67ccd5c0f2a7"
      },
      "source": [
        "# To show a few observations of data and data length  \n",
        "display(data.head())\n",
        "print(\"\\n{} Rows and {} columns.\".format(data.shape[0],data.shape[1]))"
      ],
      "execution_count": null,
      "outputs": [
        {
          "output_type": "display_data",
          "data": {
            "text/html": [
              "<div>\n",
              "<style scoped>\n",
              "    .dataframe tbody tr th:only-of-type {\n",
              "        vertical-align: middle;\n",
              "    }\n",
              "\n",
              "    .dataframe tbody tr th {\n",
              "        vertical-align: top;\n",
              "    }\n",
              "\n",
              "    .dataframe thead th {\n",
              "        text-align: right;\n",
              "    }\n",
              "</style>\n",
              "<table border=\"1\" class=\"dataframe\">\n",
              "  <thead>\n",
              "    <tr style=\"text-align: right;\">\n",
              "      <th></th>\n",
              "      <th>school</th>\n",
              "      <th>birthyear</th>\n",
              "      <th>gender</th>\n",
              "      <th>kids</th>\n",
              "      <th>parity</th>\n",
              "      <th>income</th>\n",
              "      <th>size</th>\n",
              "      <th>state</th>\n",
              "      <th>marital</th>\n",
              "      <th>meducation</th>\n",
              "      <th>memployment</th>\n",
              "      <th>year</th>\n",
              "    </tr>\n",
              "  </thead>\n",
              "  <tbody>\n",
              "    <tr>\n",
              "      <th>0</th>\n",
              "      <td>Gymnasium</td>\n",
              "      <td>1981</td>\n",
              "      <td>female</td>\n",
              "      <td>2</td>\n",
              "      <td>2</td>\n",
              "      <td>35,160.11</td>\n",
              "      <td>4</td>\n",
              "      <td>Berlin</td>\n",
              "      <td>married</td>\n",
              "      <td>14.50</td>\n",
              "      <td>none</td>\n",
              "      <td>1995</td>\n",
              "    </tr>\n",
              "    <tr>\n",
              "      <th>1</th>\n",
              "      <td>Gymnasium</td>\n",
              "      <td>1981</td>\n",
              "      <td>female</td>\n",
              "      <td>2</td>\n",
              "      <td>2</td>\n",
              "      <td>65,748.35</td>\n",
              "      <td>3</td>\n",
              "      <td>Berlin</td>\n",
              "      <td>married</td>\n",
              "      <td>10.50</td>\n",
              "      <td>parttime</td>\n",
              "      <td>1995</td>\n",
              "    </tr>\n",
              "    <tr>\n",
              "      <th>2</th>\n",
              "      <td>Gymnasium</td>\n",
              "      <td>1980</td>\n",
              "      <td>female</td>\n",
              "      <td>3</td>\n",
              "      <td>3</td>\n",
              "      <td>120,962.36</td>\n",
              "      <td>3</td>\n",
              "      <td>Berlin</td>\n",
              "      <td>married</td>\n",
              "      <td>12.00</td>\n",
              "      <td>parttime</td>\n",
              "      <td>1994</td>\n",
              "    </tr>\n",
              "    <tr>\n",
              "      <th>3</th>\n",
              "      <td>Gymnasium</td>\n",
              "      <td>1984</td>\n",
              "      <td>female</td>\n",
              "      <td>1</td>\n",
              "      <td>1</td>\n",
              "      <td>60,100.57</td>\n",
              "      <td>3</td>\n",
              "      <td>Berlin</td>\n",
              "      <td>married</td>\n",
              "      <td>10.50</td>\n",
              "      <td>parttime</td>\n",
              "      <td>1998</td>\n",
              "    </tr>\n",
              "    <tr>\n",
              "      <th>4</th>\n",
              "      <td>Realschule</td>\n",
              "      <td>1982</td>\n",
              "      <td>male</td>\n",
              "      <td>4</td>\n",
              "      <td>4</td>\n",
              "      <td>34,828.95</td>\n",
              "      <td>4</td>\n",
              "      <td>Berlin</td>\n",
              "      <td>divorced</td>\n",
              "      <td>10.00</td>\n",
              "      <td>fulltime</td>\n",
              "      <td>1996</td>\n",
              "    </tr>\n",
              "  </tbody>\n",
              "</table>\n",
              "</div>"
            ],
            "text/plain": [
              "       school  birthyear  gender  kids  ...   marital  meducation  memployment  year\n",
              "0   Gymnasium       1981  female     2  ...   married       14.50         none  1995\n",
              "1   Gymnasium       1981  female     2  ...   married       10.50     parttime  1995\n",
              "2   Gymnasium       1980  female     3  ...   married       12.00     parttime  1994\n",
              "3   Gymnasium       1984  female     1  ...   married       10.50     parttime  1998\n",
              "4  Realschule       1982    male     4  ...  divorced       10.00     fulltime  1996\n",
              "\n",
              "[5 rows x 12 columns]"
            ]
          },
          "metadata": {
            "tags": []
          }
        },
        {
          "output_type": "stream",
          "text": [
            "\n",
            "675 Rows and 12 columns.\n"
          ],
          "name": "stdout"
        }
      ]
    },
    {
      "cell_type": "code",
      "metadata": {
        "colab": {
          "base_uri": "https://localhost:8080/"
        },
        "id": "sLm1kABgRsdA",
        "outputId": "6d67385e-0816-419e-be42-3c85cd400d7a"
      },
      "source": [
        "# Target variable\n",
        "data['school'].value_counts()"
      ],
      "execution_count": null,
      "outputs": [
        {
          "output_type": "execute_result",
          "data": {
            "text/plain": [
              "Gymnasium      277\n",
              "Hauptschule    199\n",
              "Realschule     199\n",
              "Name: school, dtype: int64"
            ]
          },
          "metadata": {
            "tags": []
          },
          "execution_count": 113
        }
      ]
    },
    {
      "cell_type": "code",
      "metadata": {
        "colab": {
          "base_uri": "https://localhost:8080/",
          "height": 137
        },
        "id": "rPMsRU60ZR3Y",
        "outputId": "1c55e3ac-db49-4111-ae26-555348426798"
      },
      "source": [
        "# Removing  \"Gymnasium\" rows \n",
        "before = data.school.value_counts()\n",
        "data = data.drop(data[data['school'] == 'Gymnasium'].index)\n",
        "after = data['school'].value_counts()\n",
        "\n",
        "alp = {'Before' : before , 'After': after }\n",
        "df_1 = pd.DataFrame(alp)\n",
        "df_1"
      ],
      "execution_count": null,
      "outputs": [
        {
          "output_type": "execute_result",
          "data": {
            "text/html": [
              "<div>\n",
              "<style scoped>\n",
              "    .dataframe tbody tr th:only-of-type {\n",
              "        vertical-align: middle;\n",
              "    }\n",
              "\n",
              "    .dataframe tbody tr th {\n",
              "        vertical-align: top;\n",
              "    }\n",
              "\n",
              "    .dataframe thead th {\n",
              "        text-align: right;\n",
              "    }\n",
              "</style>\n",
              "<table border=\"1\" class=\"dataframe\">\n",
              "  <thead>\n",
              "    <tr style=\"text-align: right;\">\n",
              "      <th></th>\n",
              "      <th>Before</th>\n",
              "      <th>After</th>\n",
              "    </tr>\n",
              "  </thead>\n",
              "  <tbody>\n",
              "    <tr>\n",
              "      <th>Gymnasium</th>\n",
              "      <td>277</td>\n",
              "      <td>nan</td>\n",
              "    </tr>\n",
              "    <tr>\n",
              "      <th>Hauptschule</th>\n",
              "      <td>199</td>\n",
              "      <td>199.00</td>\n",
              "    </tr>\n",
              "    <tr>\n",
              "      <th>Realschule</th>\n",
              "      <td>199</td>\n",
              "      <td>199.00</td>\n",
              "    </tr>\n",
              "  </tbody>\n",
              "</table>\n",
              "</div>"
            ],
            "text/plain": [
              "             Before  After\n",
              "Gymnasium       277    nan\n",
              "Hauptschule     199 199.00\n",
              "Realschule      199 199.00"
            ]
          },
          "metadata": {
            "tags": []
          },
          "execution_count": 114
        }
      ]
    },
    {
      "cell_type": "code",
      "metadata": {
        "colab": {
          "base_uri": "https://localhost:8080/",
          "height": 253
        },
        "id": "BvvLj_rpZvZA",
        "outputId": "88986954-ce87-426d-ffb2-97bdf7d7ad1e"
      },
      "source": [
        "# Display data after removing \"Gymnasium\"\n",
        "display(data.head())\n",
        "print(\"\\n{} Rows and {} columns.\".format(data.shape[0],data.shape[1]))"
      ],
      "execution_count": null,
      "outputs": [
        {
          "output_type": "display_data",
          "data": {
            "text/html": [
              "<div>\n",
              "<style scoped>\n",
              "    .dataframe tbody tr th:only-of-type {\n",
              "        vertical-align: middle;\n",
              "    }\n",
              "\n",
              "    .dataframe tbody tr th {\n",
              "        vertical-align: top;\n",
              "    }\n",
              "\n",
              "    .dataframe thead th {\n",
              "        text-align: right;\n",
              "    }\n",
              "</style>\n",
              "<table border=\"1\" class=\"dataframe\">\n",
              "  <thead>\n",
              "    <tr style=\"text-align: right;\">\n",
              "      <th></th>\n",
              "      <th>school</th>\n",
              "      <th>birthyear</th>\n",
              "      <th>gender</th>\n",
              "      <th>kids</th>\n",
              "      <th>parity</th>\n",
              "      <th>income</th>\n",
              "      <th>size</th>\n",
              "      <th>state</th>\n",
              "      <th>marital</th>\n",
              "      <th>meducation</th>\n",
              "      <th>memployment</th>\n",
              "      <th>year</th>\n",
              "    </tr>\n",
              "  </thead>\n",
              "  <tbody>\n",
              "    <tr>\n",
              "      <th>4</th>\n",
              "      <td>Realschule</td>\n",
              "      <td>1982</td>\n",
              "      <td>male</td>\n",
              "      <td>4</td>\n",
              "      <td>4</td>\n",
              "      <td>34,828.95</td>\n",
              "      <td>4</td>\n",
              "      <td>Berlin</td>\n",
              "      <td>divorced</td>\n",
              "      <td>10.00</td>\n",
              "      <td>fulltime</td>\n",
              "      <td>1996</td>\n",
              "    </tr>\n",
              "    <tr>\n",
              "      <th>5</th>\n",
              "      <td>Realschule</td>\n",
              "      <td>1980</td>\n",
              "      <td>female</td>\n",
              "      <td>3</td>\n",
              "      <td>1</td>\n",
              "      <td>42,584.09</td>\n",
              "      <td>5</td>\n",
              "      <td>Berlin</td>\n",
              "      <td>married</td>\n",
              "      <td>15.00</td>\n",
              "      <td>parttime</td>\n",
              "      <td>1994</td>\n",
              "    </tr>\n",
              "    <tr>\n",
              "      <th>9</th>\n",
              "      <td>Hauptschule</td>\n",
              "      <td>1983</td>\n",
              "      <td>female</td>\n",
              "      <td>2</td>\n",
              "      <td>2</td>\n",
              "      <td>94,931.49</td>\n",
              "      <td>4</td>\n",
              "      <td>Berlin</td>\n",
              "      <td>married</td>\n",
              "      <td>9.00</td>\n",
              "      <td>parttime</td>\n",
              "      <td>1997</td>\n",
              "    </tr>\n",
              "    <tr>\n",
              "      <th>11</th>\n",
              "      <td>Hauptschule</td>\n",
              "      <td>1983</td>\n",
              "      <td>male</td>\n",
              "      <td>2</td>\n",
              "      <td>1</td>\n",
              "      <td>28,011.99</td>\n",
              "      <td>4</td>\n",
              "      <td>Berlin</td>\n",
              "      <td>widowed</td>\n",
              "      <td>9.00</td>\n",
              "      <td>none</td>\n",
              "      <td>1997</td>\n",
              "    </tr>\n",
              "    <tr>\n",
              "      <th>13</th>\n",
              "      <td>Realschule</td>\n",
              "      <td>1987</td>\n",
              "      <td>male</td>\n",
              "      <td>5</td>\n",
              "      <td>2</td>\n",
              "      <td>66,864.03</td>\n",
              "      <td>7</td>\n",
              "      <td>Bayern</td>\n",
              "      <td>married</td>\n",
              "      <td>12.00</td>\n",
              "      <td>none</td>\n",
              "      <td>2001</td>\n",
              "    </tr>\n",
              "  </tbody>\n",
              "</table>\n",
              "</div>"
            ],
            "text/plain": [
              "         school  birthyear  gender  ...  meducation  memployment  year\n",
              "4    Realschule       1982    male  ...       10.00     fulltime  1996\n",
              "5    Realschule       1980  female  ...       15.00     parttime  1994\n",
              "9   Hauptschule       1983  female  ...        9.00     parttime  1997\n",
              "11  Hauptschule       1983    male  ...        9.00         none  1997\n",
              "13   Realschule       1987    male  ...       12.00         none  2001\n",
              "\n",
              "[5 rows x 12 columns]"
            ]
          },
          "metadata": {
            "tags": []
          }
        },
        {
          "output_type": "stream",
          "text": [
            "\n",
            "398 Rows and 12 columns.\n"
          ],
          "name": "stdout"
        }
      ]
    },
    {
      "cell_type": "code",
      "metadata": {
        "colab": {
          "base_uri": "https://localhost:8080/"
        },
        "id": "TAGM_Nd_PJ7e",
        "outputId": "83fcc7f3-2c3e-41ed-8fb5-4cf36071f7b2"
      },
      "source": [
        "# Selecting Feature and Target\n",
        "data.info()\n",
        "print(\"----------------------------------------------------\")\n",
        "print('Select columns for feature variables (Ex:0-3-4)')\n",
        "colNum = list(map(int,input().split('-')))\n",
        "cols = []\n",
        "for i in colNum:\n",
        "  cols.append(data.columns.values[i]) \n",
        "\n",
        "print('Select target variable')\n",
        "varY = list(map(int,input().split('-')))\n",
        "\n",
        "X = pd.DataFrame()\n",
        "for i in range(len(colNum)):\n",
        "  X[[cols[i]]] = data[[cols[i]]]\n",
        "y = data[data.columns.values[varY]]"
      ],
      "execution_count": null,
      "outputs": [
        {
          "output_type": "stream",
          "text": [
            "<class 'pandas.core.frame.DataFrame'>\n",
            "Int64Index: 398 entries, 4 to 674\n",
            "Data columns (total 12 columns):\n",
            " #   Column       Non-Null Count  Dtype  \n",
            "---  ------       --------------  -----  \n",
            " 0   school       398 non-null    object \n",
            " 1   birthyear    398 non-null    int64  \n",
            " 2   gender       398 non-null    object \n",
            " 3   kids         398 non-null    int64  \n",
            " 4   parity       398 non-null    int64  \n",
            " 5   income       398 non-null    float64\n",
            " 6   size         398 non-null    int64  \n",
            " 7   state        398 non-null    object \n",
            " 8   marital      398 non-null    object \n",
            " 9   meducation   398 non-null    float64\n",
            " 10  memployment  398 non-null    object \n",
            " 11  year         398 non-null    int64  \n",
            "dtypes: float64(2), int64(5), object(5)\n",
            "memory usage: 40.4+ KB\n",
            "----------------------------------------------------\n",
            "Select columns for feature variables (Ex:0-3-4)\n",
            "1-2-3-4-5-6-7-8-9-10-11\n",
            "Select target variable\n",
            "0\n"
          ],
          "name": "stdout"
        }
      ]
    },
    {
      "cell_type": "code",
      "metadata": {
        "colab": {
          "base_uri": "https://localhost:8080/"
        },
        "id": "P4EChSB4PgpM",
        "outputId": "8b1f2c3d-6abf-419c-b11d-4834b332b5df"
      },
      "source": [
        "# Encoding categorical data with LabelEncoder\n",
        "le = preprocessing.LabelEncoder()\n",
        "\n",
        "y['school'] = le.fit_transform(y['school'])\n",
        "\n",
        "for feature in cols:\n",
        "  if X[feature].dtypes == ('O'):\n",
        "    X[feature] = le.fit_transform(X[feature])\n",
        "    print('\"{}\"  data type is Object, \"{}\" encoded.'.format(feature,feature))"
      ],
      "execution_count": null,
      "outputs": [
        {
          "output_type": "stream",
          "text": [
            "\"gender\"  data type is Object, \"gender\" encoded.\n",
            "\"state\"  data type is Object, \"state\" encoded.\n",
            "\"marital\"  data type is Object, \"marital\" encoded.\n",
            "\"memployment\"  data type is Object, \"memployment\" encoded.\n"
          ],
          "name": "stdout"
        }
      ]
    },
    {
      "cell_type": "code",
      "metadata": {
        "id": "FpHp30bcWGV4"
      },
      "source": [
        "X"
      ],
      "execution_count": null,
      "outputs": []
    },
    {
      "cell_type": "code",
      "metadata": {
        "id": "10a5kh3nPnz0",
        "colab": {
          "base_uri": "https://localhost:8080/",
          "height": 107
        },
        "outputId": "d4f0fba3-7065-4f73-d40c-d0f0190ff822"
      },
      "source": [
        "#Splitting data\n",
        "X_train,X_test,y_train,y_test=train_test_split(X,y,test_size=0.20,random_state=42)\n",
        "\n",
        "# Train and Test data after splitting for target variable\n",
        "sData = {'Train ' : y_train.school.value_counts(), 'Test ' : y_test.school.value_counts()}\n",
        "df_2 = pd.DataFrame(sData)\n",
        "df_2.index = ['Realschule : 0','Hauptschule : 1']\n",
        "df_2"
      ],
      "execution_count": null,
      "outputs": [
        {
          "output_type": "execute_result",
          "data": {
            "text/html": [
              "<div>\n",
              "<style scoped>\n",
              "    .dataframe tbody tr th:only-of-type {\n",
              "        vertical-align: middle;\n",
              "    }\n",
              "\n",
              "    .dataframe tbody tr th {\n",
              "        vertical-align: top;\n",
              "    }\n",
              "\n",
              "    .dataframe thead th {\n",
              "        text-align: right;\n",
              "    }\n",
              "</style>\n",
              "<table border=\"1\" class=\"dataframe\">\n",
              "  <thead>\n",
              "    <tr style=\"text-align: right;\">\n",
              "      <th></th>\n",
              "      <th>Train</th>\n",
              "      <th>Test</th>\n",
              "    </tr>\n",
              "  </thead>\n",
              "  <tbody>\n",
              "    <tr>\n",
              "      <th>Realschule : 0</th>\n",
              "      <td>161</td>\n",
              "      <td>38</td>\n",
              "    </tr>\n",
              "    <tr>\n",
              "      <th>Hauptschule : 1</th>\n",
              "      <td>157</td>\n",
              "      <td>42</td>\n",
              "    </tr>\n",
              "  </tbody>\n",
              "</table>\n",
              "</div>"
            ],
            "text/plain": [
              "                 Train   Test \n",
              "Realschule : 0      161     38\n",
              "Hauptschule : 1     157     42"
            ]
          },
          "metadata": {
            "tags": []
          },
          "execution_count": 118
        }
      ]
    },
    {
      "cell_type": "code",
      "metadata": {
        "id": "DgjNEmnKPv7Z",
        "colab": {
          "base_uri": "https://localhost:8080/",
          "height": 217
        },
        "outputId": "1276374e-9f51-4f26-d047-17c374205738"
      },
      "source": [
        "display(X_test.head())\n"
      ],
      "execution_count": null,
      "outputs": [
        {
          "output_type": "display_data",
          "data": {
            "text/html": [
              "<div>\n",
              "<style scoped>\n",
              "    .dataframe tbody tr th:only-of-type {\n",
              "        vertical-align: middle;\n",
              "    }\n",
              "\n",
              "    .dataframe tbody tr th {\n",
              "        vertical-align: top;\n",
              "    }\n",
              "\n",
              "    .dataframe thead th {\n",
              "        text-align: right;\n",
              "    }\n",
              "</style>\n",
              "<table border=\"1\" class=\"dataframe\">\n",
              "  <thead>\n",
              "    <tr style=\"text-align: right;\">\n",
              "      <th></th>\n",
              "      <th>birthyear</th>\n",
              "      <th>gender</th>\n",
              "      <th>kids</th>\n",
              "      <th>parity</th>\n",
              "      <th>income</th>\n",
              "      <th>size</th>\n",
              "      <th>state</th>\n",
              "      <th>marital</th>\n",
              "      <th>meducation</th>\n",
              "      <th>memployment</th>\n",
              "      <th>year</th>\n",
              "    </tr>\n",
              "  </thead>\n",
              "  <tbody>\n",
              "    <tr>\n",
              "      <th>362</th>\n",
              "      <td>1987</td>\n",
              "      <td>0</td>\n",
              "      <td>6</td>\n",
              "      <td>4</td>\n",
              "      <td>43,920.02</td>\n",
              "      <td>6</td>\n",
              "      <td>9</td>\n",
              "      <td>0</td>\n",
              "      <td>9.00</td>\n",
              "      <td>1</td>\n",
              "      <td>2001</td>\n",
              "    </tr>\n",
              "    <tr>\n",
              "      <th>672</th>\n",
              "      <td>1984</td>\n",
              "      <td>1</td>\n",
              "      <td>5</td>\n",
              "      <td>1</td>\n",
              "      <td>63,503.01</td>\n",
              "      <td>6</td>\n",
              "      <td>7</td>\n",
              "      <td>1</td>\n",
              "      <td>12.00</td>\n",
              "      <td>1</td>\n",
              "      <td>1998</td>\n",
              "    </tr>\n",
              "    <tr>\n",
              "      <th>57</th>\n",
              "      <td>1983</td>\n",
              "      <td>0</td>\n",
              "      <td>2</td>\n",
              "      <td>2</td>\n",
              "      <td>73,933.85</td>\n",
              "      <td>4</td>\n",
              "      <td>7</td>\n",
              "      <td>1</td>\n",
              "      <td>10.50</td>\n",
              "      <td>2</td>\n",
              "      <td>1997</td>\n",
              "    </tr>\n",
              "    <tr>\n",
              "      <th>386</th>\n",
              "      <td>1980</td>\n",
              "      <td>1</td>\n",
              "      <td>2</td>\n",
              "      <td>1</td>\n",
              "      <td>57,773.80</td>\n",
              "      <td>4</td>\n",
              "      <td>9</td>\n",
              "      <td>1</td>\n",
              "      <td>10.50</td>\n",
              "      <td>1</td>\n",
              "      <td>1994</td>\n",
              "    </tr>\n",
              "    <tr>\n",
              "      <th>163</th>\n",
              "      <td>1982</td>\n",
              "      <td>1</td>\n",
              "      <td>3</td>\n",
              "      <td>3</td>\n",
              "      <td>27,558.17</td>\n",
              "      <td>4</td>\n",
              "      <td>8</td>\n",
              "      <td>1</td>\n",
              "      <td>10.50</td>\n",
              "      <td>2</td>\n",
              "      <td>1996</td>\n",
              "    </tr>\n",
              "  </tbody>\n",
              "</table>\n",
              "</div>"
            ],
            "text/plain": [
              "     birthyear  gender  kids  parity  ...  marital  meducation  memployment  year\n",
              "362       1987       0     6       4  ...        0        9.00            1  2001\n",
              "672       1984       1     5       1  ...        1       12.00            1  1998\n",
              "57        1983       0     2       2  ...        1       10.50            2  1997\n",
              "386       1980       1     2       1  ...        1       10.50            1  1994\n",
              "163       1982       1     3       3  ...        1       10.50            2  1996\n",
              "\n",
              "[5 rows x 11 columns]"
            ]
          },
          "metadata": {
            "tags": []
          }
        }
      ]
    },
    {
      "cell_type": "code",
      "metadata": {
        "colab": {
          "base_uri": "https://localhost:8080/",
          "height": 313
        },
        "id": "I21sAcLqQA08",
        "outputId": "3e3545e9-0fe9-4737-dacb-b0fda2081609"
      },
      "source": [
        "# Train Model with Logistic Regression\n",
        "model = LogisticRegression()\n",
        "model.fit(X_train,y_train)\n",
        "#(92) / (92+57)\n",
        "y_train_predicted = model.predict(X_train)\n",
        "y_test_predicted = model.predict(X_test)\n",
        "\n",
        "# To show a few predicted values\n",
        "modelEvaluation  = y_train.copy()\n",
        "modelEvaluation['Predicted_train'] = y_train_predicted\n",
        "modelEvaluation.columns = ['Actual','Predicted_train']\n",
        "modelEvaluation.head(7)"
      ],
      "execution_count": null,
      "outputs": [
        {
          "output_type": "stream",
          "text": [
            "/usr/local/lib/python3.7/dist-packages/sklearn/utils/validation.py:760: DataConversionWarning: A column-vector y was passed when a 1d array was expected. Please change the shape of y to (n_samples, ), for example using ravel().\n",
            "  y = column_or_1d(y, warn=True)\n"
          ],
          "name": "stderr"
        },
        {
          "output_type": "execute_result",
          "data": {
            "text/html": [
              "<div>\n",
              "<style scoped>\n",
              "    .dataframe tbody tr th:only-of-type {\n",
              "        vertical-align: middle;\n",
              "    }\n",
              "\n",
              "    .dataframe tbody tr th {\n",
              "        vertical-align: top;\n",
              "    }\n",
              "\n",
              "    .dataframe thead th {\n",
              "        text-align: right;\n",
              "    }\n",
              "</style>\n",
              "<table border=\"1\" class=\"dataframe\">\n",
              "  <thead>\n",
              "    <tr style=\"text-align: right;\">\n",
              "      <th></th>\n",
              "      <th>Actual</th>\n",
              "      <th>Predicted_train</th>\n",
              "    </tr>\n",
              "  </thead>\n",
              "  <tbody>\n",
              "    <tr>\n",
              "      <th>11</th>\n",
              "      <td>0</td>\n",
              "      <td>0</td>\n",
              "    </tr>\n",
              "    <tr>\n",
              "      <th>36</th>\n",
              "      <td>0</td>\n",
              "      <td>1</td>\n",
              "    </tr>\n",
              "    <tr>\n",
              "      <th>643</th>\n",
              "      <td>1</td>\n",
              "      <td>0</td>\n",
              "    </tr>\n",
              "    <tr>\n",
              "      <th>463</th>\n",
              "      <td>0</td>\n",
              "      <td>0</td>\n",
              "    </tr>\n",
              "    <tr>\n",
              "      <th>330</th>\n",
              "      <td>0</td>\n",
              "      <td>0</td>\n",
              "    </tr>\n",
              "    <tr>\n",
              "      <th>104</th>\n",
              "      <td>1</td>\n",
              "      <td>0</td>\n",
              "    </tr>\n",
              "    <tr>\n",
              "      <th>459</th>\n",
              "      <td>1</td>\n",
              "      <td>0</td>\n",
              "    </tr>\n",
              "  </tbody>\n",
              "</table>\n",
              "</div>"
            ],
            "text/plain": [
              "     Actual  Predicted_train\n",
              "11        0                0\n",
              "36        0                1\n",
              "643       1                0\n",
              "463       0                0\n",
              "330       0                0\n",
              "104       1                0\n",
              "459       1                0"
            ]
          },
          "metadata": {
            "tags": []
          },
          "execution_count": 120
        }
      ]
    },
    {
      "cell_type": "code",
      "metadata": {
        "colab": {
          "base_uri": "https://localhost:8080/",
          "height": 342
        },
        "id": "X-eHglAIOw4a",
        "outputId": "cba89764-c1b2-4e76-f7b5-60ce9af23653"
      },
      "source": [
        "# Confusion Matrix \n",
        "cnf_matrix_train = metrics.confusion_matrix(y_train, y_train_predicted)\n",
        "cnf_matrix_test = metrics.confusion_matrix(y_test, y_test_predicted)\n",
        "\n",
        "class_names=[0,1] # name  of classes\n",
        "fig, ax = plt.subplots()\n",
        "tick_marks = np.arange(len(class_names))\n",
        "plt.xticks(tick_marks, class_names)\n",
        "plt.yticks(tick_marks, class_names)\n",
        "# create heatmap \n",
        "sns.heatmap(pd.DataFrame(cnf_matrix_train), annot=True,cmap=\"Blues\",fmt = \"g\")\n",
        "#sns.heatmap(pd.DataFrame(cnf_matrix_test), annot=True,cmap=\"Blues\",fmt = \"g\")\n",
        "ax.xaxis.set_label_position(\"top\")\n",
        "plt.tight_layout()\n",
        "plt.title('Train Confusion matrix', y=1.1)\n",
        "plt.ylabel('Actual label')\n",
        "plt.xlabel('Predicted label')"
      ],
      "execution_count": null,
      "outputs": [
        {
          "output_type": "execute_result",
          "data": {
            "text/plain": [
              "Text(0.5, 257.44, 'Predicted label')"
            ]
          },
          "metadata": {
            "tags": []
          },
          "execution_count": 121
        },
        {
          "output_type": "display_data",
          "data": {
            "image/png": "[encoded data removed]",
            "text/plain": [
              "<Figure size 432x288 with 2 Axes>"
            ]
          },
          "metadata": {
            "tags": [],
            "needs_background": "light"
          }
        }
      ]
    },
    {
      "cell_type": "code",
      "metadata": {
        "colab": {
          "base_uri": "https://localhost:8080/"
        },
        "id": "IE0_Ee3FVCo6",
        "outputId": "6db0808b-0c8d-4d63-b513-0c81dfff9bb0"
      },
      "source": [
        "# Accuary \n",
        "print('From table above:{}'.format((104 + 92) / (104 + 57 + 65 + 92)) )\n",
        "print(\"Train Accuracy :\",metrics.accuracy_score(y_train, y_train_predicted))\n",
        "print(\"Test Accuracy:\",metrics.accuracy_score(y_test, y_test_predicted))"
      ],
      "execution_count": 181,
      "outputs": [
        {
          "output_type": "stream",
          "text": [
            "From table above:0.6163522012578616\n",
            "Train Accuracy : 0.6163522012578616\n",
            "Test Accuracy: 0.55\n"
          ],
          "name": "stdout"
        }
      ]
    },
    {
      "cell_type": "code",
      "metadata": {
        "colab": {
          "base_uri": "https://localhost:8080/"
        },
        "id": "2FtCGozTQEp1",
        "outputId": "2868eeeb-d169-46c2-8999-84d262a29b06"
      },
      "source": [
        "print(\"Accuracy:\",metrics.accuracy_score(y_test, y_test_predicted))\n",
        "print(\"Precision:\",metrics.precision_score(y_test, y_test_predicted))\n",
        "print(\"Recall:\",metrics.recall_score(y_test, y_test_predicted))"
      ],
      "execution_count": null,
      "outputs": [
        {
          "output_type": "stream",
          "text": [
            "Accuracy: 0.55\n",
            "Precision: 0.5625\n",
            "Recall: 0.6428571428571429\n"
          ],
          "name": "stdout"
        }
      ]
    },
    {
      "cell_type": "code",
      "metadata": {
        "colab": {
          "base_uri": "https://localhost:8080/"
        },
        "id": "LN8ghfcQzVh9",
        "outputId": "fedcd780-510b-42c5-e3d4-f9a35458b63e"
      },
      "source": [
        "from imblearn.metrics import specificity_score as spec_score\n",
        "# Specificity calculation on train and test set \n",
        "print('From the graph   : {}'.format((104) / (104 + 57)))\n",
        "print(\"Train Specificity:\",spec_score(y_train, y_train_predicted))\n",
        "print(\"Test Specificity :\",spec_score(y_test, y_test_predicted))\n"
      ],
      "execution_count": null,
      "outputs": [
        {
          "output_type": "stream",
          "text": [
            "From the graph   : 0.6459627329192547\n",
            "Train Specificity: 0.6459627329192547\n",
            "Test Specificity : 0.4473684210526316\n"
          ],
          "name": "stdout"
        }
      ]
    },
    {
      "cell_type": "code",
      "metadata": {
        "colab": {
          "base_uri": "https://localhost:8080/"
        },
        "id": "Eh02kzPUysRz",
        "outputId": "87d0521a-335c-4754-a2eb-d23ec64aba4a"
      },
      "source": [
        "X_trainSummary = sm.add_constant(X_train.coppy())\n",
        "log_reg = sm.Logit(y_train, X_trainSummary).fit() \n",
        "print(log_reg.summary())\n",
        "\n",
        "logit_model = sm.Logit(y, sm.add_constant(x)).fit()\n",
        "print logit_model.summary()"
      ],
      "execution_count": null,
      "outputs": [
        {
          "output_type": "stream",
          "text": [
            "Warning: Maximum number of iterations has been exceeded.\n",
            "         Current function value: 0.641935\n",
            "         Iterations: 35\n",
            "                           Logit Regression Results                           \n",
            "==============================================================================\n",
            "Dep. Variable:                 school   No. Observations:                  318\n",
            "Model:                          Logit   Df Residuals:                      307\n",
            "Method:                           MLE   Df Model:                           10\n",
            "Date:                Sat, 20 Mar 2021   Pseudo R-squ.:                 0.07378\n",
            "Time:                        13:43:46   Log-Likelihood:                -204.14\n",
            "converged:                      False   LL-Null:                       -220.40\n",
            "Covariance Type:            nonrobust   LLR p-value:                 0.0003277\n",
            "===============================================================================\n",
            "                  coef    std err          z      P>|z|      [0.025      0.975]\n",
            "-------------------------------------------------------------------------------\n",
            "const          -2.6240   7.31e+04  -3.59e-05      1.000   -1.43e+05    1.43e+05\n",
            "birthyear       9.4332   5220.334      0.002      0.999   -1.02e+04    1.02e+04\n",
            "gender         -0.1531      0.238     -0.644      0.520      -0.619       0.313\n",
            "kids           -0.2723      0.250     -1.091      0.275      -0.761       0.217\n",
            "parity          0.0359      0.185      0.194      0.846      -0.326       0.398\n",
            "income       3.257e-06   5.08e-06      0.641      0.521    -6.7e-06    1.32e-05\n",
            "size           -0.0846      0.211     -0.401      0.688      -0.498       0.329\n",
            "state           0.0996      0.033      2.994      0.003       0.034       0.165\n",
            "marital         0.1490      0.212      0.704      0.481      -0.266       0.564\n",
            "meducation      0.2286      0.083      2.763      0.006       0.066       0.391\n",
            "memployment     0.2165      0.176      1.234      0.217      -0.127       0.560\n",
            "year           -9.3670   5220.334     -0.002      0.999   -1.02e+04    1.02e+04\n",
            "===============================================================================\n"
          ],
          "name": "stdout"
        },
        {
          "output_type": "stream",
          "text": [
            "/usr/local/lib/python3.7/dist-packages/statsmodels/base/model.py:512: ConvergenceWarning: Maximum Likelihood optimization failed to converge. Check mle_retvals\n",
            "  \"Check mle_retvals\", ConvergenceWarning)\n"
          ],
          "name": "stderr"
        }
      ]
    },
    {
      "cell_type": "code",
      "metadata": {
        "id": "UtEQKt_QF9Ev"
      },
      "source": [
        "np.exp(model.coef_)"
      ],
      "execution_count": null,
      "outputs": []
    },
    {
      "cell_type": "code",
      "metadata": {
        "id": "gXHk5KH5mkFk"
      },
      "source": [
        "X_trainSummary = sm.add_constant(X_train)\n",
        "model2 = sm.OLS(y_train, X_trainSummary)\n",
        "\n",
        "results = model2.fit()\n",
        "print(results.summary())"
      ],
      "execution_count": null,
      "outputs": []
    },
    {
      "cell_type": "markdown",
      "metadata": {
        "id": "UgqK0SaxcyUg"
      },
      "source": [
        "# Understanding True Positive, True Negative, False Positive and False Negative in a Confusion Matrix\n",
        "\n",
        " True Positive (TP) \n",
        "   The predicted value matches the actual value\n",
        "   The actual value was positive and the model predicted a positive value\n",
        "\n",
        " True Negative (TN) \n",
        "   The predicted value matches the actual value\n",
        "   The actual value was negative and the model predicted a negative value\n",
        "\n",
        " False Positive (FP) – Type 1 error\n",
        "   The predicted value was falsely predicted\n",
        "  The actual value was negative but the model predicted a positive value\n",
        "  Also known as the Type 1 error\n",
        "\n",
        " False Negative (FN) – Type 2 error\n",
        "   The predicted value was falsely predicted\n",
        "   The actual value was positive but the model predicted a negative value\n",
        "   Also known as the Type 2 error\n",
        "\n",
        " From;\n",
        " https://www.analyticsvidhya.com/blog/2020/04/confusion-matrix-machine-learning/"
      ]
    }
  ]
}