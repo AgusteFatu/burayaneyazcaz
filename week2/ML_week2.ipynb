{
  "nbformat": 4,
  "nbformat_minor": 0,
  "metadata": {
    "colab": {
      "name": "ML_week2",
      "provenance": [],
      "collapsed_sections": [],
      "authorship_tag": "ABX9TyNizQd8AqIKGJ/caMu99Saa",
      "include_colab_link": true
    },
    "kernelspec": {
      "display_name": "Python 3",
      "name": "python3"
    }
  },
  "cells": [
    {
      "cell_type": "markdown",
      "metadata": {
        "id": "view-in-github",
        "colab_type": "text"
      },
      "source": [
        "<a href=\"https://colab.research.google.com/github/AgusteFatu/burayaneyazcaz/blob/main/ML_week2.ipynb\" target=\"_parent\"><img src=\"https://colab.research.google.com/assets/colab-badge.svg\" alt=\"Open In Colab\"/></a>"
      ]
    },
    {
      "cell_type": "code",
      "metadata": {
        "id": "pmYUBvypvpk8"
      },
      "source": [
        "import pandas as pd\r\n",
        "import io\r\n",
        "import numpy as np\r\n",
        "import matplotlib.pyplot as plt\r\n",
        "import seaborn as sns\r\n",
        "\r\n",
        "import warnings\r\n",
        "warnings.simplefilter(action='ignore', category=FutureWarning)"
      ],
      "execution_count": 2,
      "outputs": []
    },
    {
      "cell_type": "code",
      "metadata": {
        "id": "OLgjfcvdv9_N",
        "colab": {
          "resources": {
            "http://localhost:8080/nbextensions/google.colab/files.js": {
              "data": "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",
              "ok": true,
              "headers": [
                [
                  "content-type",
                  "application/javascript"
                ]
              ],
              "status": 200,
              "status_text": ""
            }
          },
          "base_uri": "https://localhost:8080/",
          "height": 73
        },
        "outputId": "68e3beb3-93fd-4322-cee4-fb5662d86f14"
      },
      "source": [
        "from google.colab import files\r\n",
        "uploaded = files.upload()"
      ],
      "execution_count": 3,
      "outputs": [
        {
          "output_type": "display_data",
          "data": {
            "text/html": [
              "\n",
              "     <input type=\"file\" id=\"files-eccc118a-3d45-41d1-90ab-b94c565b1467\" name=\"files[]\" multiple disabled\n",
              "        style=\"border:none\" />\n",
              "     <output id=\"result-eccc118a-3d45-41d1-90ab-b94c565b1467\">\n",
              "      Upload widget is only available when the cell has been executed in the\n",
              "      current browser session. Please rerun this cell to enable.\n",
              "      </output>\n",
              "      <script src=\"/nbextensions/google.colab/files.js\"></script> "
            ],
            "text/plain": [
              "<IPython.core.display.HTML object>"
            ]
          },
          "metadata": {
            "tags": []
          }
        },
        {
          "output_type": "stream",
          "text": [
            "Saving MyData.csv to MyData.csv\n"
          ],
          "name": "stdout"
        }
      ]
    },
    {
      "cell_type": "code",
      "metadata": {
        "id": "D5O7LAdiwPOs"
      },
      "source": [
        "data = pd.read_csv(io.BytesIO(uploaded['MyData.csv']),index_col=False)\r\n",
        "#index_col=False did not work\r\n",
        "del data[\"Unnamed: 0\"] \r\n",
        "#pd.options.display.precision = 3 # or\r\n",
        "pd.options.display.float_format = '{:,.2f}'.format"
      ],
      "execution_count": 4,
      "outputs": []
    },
    {
      "cell_type": "code",
      "metadata": {
        "id": "A_CtKzlFwYkS"
      },
      "source": [
        "#include = 'all'\r\n",
        "data.describe()"
      ],
      "execution_count": null,
      "outputs": []
    },
    {
      "cell_type": "code",
      "metadata": {
        "id": "KnZS8JN7hHrr"
      },
      "source": [
        "data.info()"
      ],
      "execution_count": null,
      "outputs": []
    },
    {
      "cell_type": "code",
      "metadata": {
        "id": "nqPdL6Ng8l7p",
        "cellView": "code",
        "colab": {
          "base_uri": "https://localhost:8080/"
        },
        "outputId": "cb082e1d-16bb-4ae8-8db0-5e401f2506b6"
      },
      "source": [
        "data.info()\n",
        "print(\"----------------------------------------------------\")\n",
        "print('Select columns for feature variables (Ex:0-3-4)')\n",
        "colNum = list(map(int,input().split('-')))\n",
        "cols = []\n",
        "for i in colNum:\n",
        "  cols.append(data.columns.values[i]) \n",
        "\n",
        "print('Select target Variable')\n",
        "varY = list(map(int,input().split('-')))\n",
        "\n",
        "X = pd.DataFrame()\n",
        "for i in range(len(colNum)):\n",
        "  X[[cols[i]]] = data[[cols[i]]]\n",
        "y = data[data.columns.values[varY]]"
      ],
      "execution_count": 37,
      "outputs": [
        {
          "output_type": "stream",
          "text": [
            "<class 'pandas.core.frame.DataFrame'>\n",
            "RangeIndex: 397 entries, 0 to 396\n",
            "Data columns (total 6 columns):\n",
            " #   Column         Non-Null Count  Dtype \n",
            "---  ------         --------------  ----- \n",
            " 0   rank           397 non-null    object\n",
            " 1   discipline     397 non-null    object\n",
            " 2   yrs.since.phd  397 non-null    int64 \n",
            " 3   yrs.service    397 non-null    int64 \n",
            " 4   sex            397 non-null    object\n",
            " 5   salary         397 non-null    int64 \n",
            "dtypes: int64(3), object(3)\n",
            "memory usage: 18.7+ KB\n",
            "----------------------------------------------------\n",
            "Select columns for feature variables (Ex:0-3-4)\n",
            "0-1-2\n",
            "Select target Variable\n",
            "5\n"
          ],
          "name": "stdout"
        }
      ]
    },
    {
      "cell_type": "code",
      "metadata": {
        "colab": {
          "base_uri": "https://localhost:8080/"
        },
        "id": "yFR9gQIryEq6",
        "outputId": "9fd1e209-d780-4c86-e079-439f9c1407ad"
      },
      "source": [
        "from sklearn.linear_model import LinearRegression\r\n",
        "from sklearn.model_selection import train_test_split\r\n",
        "from sklearn import preprocessing\r\n",
        "#https://stackoverflow.com/a/30443504\r\n",
        "\r\n",
        "pd.options.mode.chained_assignment = None  # default='warn'\r\n",
        "\r\n",
        "# model.fit() do not accept str values\r\n",
        "le = preprocessing.LabelEncoder()\r\n",
        "for feature in cols:\r\n",
        "  if X[feature].dtypes == ('O'):\r\n",
        "    X[feature] = le.fit_transform(X[feature])\r\n",
        "    print('\"{}\"  data type is Object, \"{}\" feature encoded.'.format(feature,feature))\r\n",
        "\r\n",
        "X_train, X_test, y_train, y_test = train_test_split(X, y, test_size = 0.20,random_state= 42)\r\n",
        "\r\n",
        "\r\n",
        "model = LinearRegression()\r\n",
        "model.fit(X_train, y_train)\r\n",
        "\r\n",
        "y_train_predicted = model.predict(X_train)\r\n",
        "y_test_predicted = model.predict(X_test)\r\n",
        "\r\n",
        "\r\n",
        "print('R-squared: {}' .format(model.score(X_train, y_train)))"
      ],
      "execution_count": 42,
      "outputs": [
        {
          "output_type": "stream",
          "text": [
            "R-squared: 0.41365684033076855\n"
          ],
          "name": "stdout"
        }
      ]
    },
    {
      "cell_type": "code",
      "metadata": {
        "id": "XgJPgxhlrOYN"
      },
      "source": [
        "y_train_predicted = model.predict(X_train)\r\n",
        "y_test_predicted = model.predict(X_test)\r\n",
        "\r\n",
        "modelEvaluation  = y_train.copy()\r\n",
        "modelEvaluation['Predicted_train'] = y_train_predicted\r\n",
        "modelEvaluation.columns = ['Actual','Predicted_train']\r\n",
        "\r\n",
        "modelEvaluation2  = y_test.copy()\r\n",
        "modelEvaluation2['Predicted_train'] = y_test_predicted\r\n",
        "modelEvaluation2.columns = ['Actual','Predicted_test']\r\n",
        "\r\n",
        "\r\n",
        "modelEvaluation.head(15).plot(kind='bar',figsize=(7,5))\r\n",
        "modelEvaluation2.head(15).plot(kind='bar',figsize=(7,5))\r\n",
        "plt.show()\r\n",
        "\r\n",
        "display(modelEvaluation2.head(8))\r\n",
        "display(modelEvaluation.head(8))"
      ],
      "execution_count": null,
      "outputs": []
    },
    {
      "cell_type": "code",
      "metadata": {
        "colab": {
          "base_uri": "https://localhost:8080/",
          "height": 137
        },
        "id": "0hcig8hFDMum",
        "outputId": "1da94c58-6aa4-468d-f8b6-ec460e621375"
      },
      "source": [
        "import sklearn.metrics as m\r\n",
        "\r\n",
        "y_train_MSE =m.mean_squared_error(y_train, y_train_predicted)\r\n",
        "y_train_RMSE = np.sqrt(m.mean_squared_error(y_train, y_train_predicted))\r\n",
        "y_train_MAE = m.mean_absolute_error(y_train, y_train_predicted)\r\n",
        "\r\n",
        "y_test_MSE = m.mean_squared_error(y_test, y_test_predicted)\r\n",
        "y_test_RMSE = np.sqrt(m.mean_squared_error(y_test, y_test_predicted))\r\n",
        "y_test_MAE = m.mean_absolute_error(y_test, y_test_predicted)\r\n",
        "\r\n",
        "labels = ['MSE' , 'RMSE' , 'MAE']\r\n",
        "d = {'y_train': [y_train_MSE, y_train_RMSE,y_train_MAE], 'y_test': [y_test_MSE, y_test_RMSE,y_test_MAE]}\r\n",
        "df = pd.DataFrame(data=d,index =labels )\r\n",
        "df"
      ],
      "execution_count": 46,
      "outputs": [
        {
          "output_type": "execute_result",
          "data": {
            "text/html": [
              "<div>\n",
              "<style scoped>\n",
              "    .dataframe tbody tr th:only-of-type {\n",
              "        vertical-align: middle;\n",
              "    }\n",
              "\n",
              "    .dataframe tbody tr th {\n",
              "        vertical-align: top;\n",
              "    }\n",
              "\n",
              "    .dataframe thead th {\n",
              "        text-align: right;\n",
              "    }\n",
              "</style>\n",
              "<table border=\"1\" class=\"dataframe\">\n",
              "  <thead>\n",
              "    <tr style=\"text-align: right;\">\n",
              "      <th></th>\n",
              "      <th>y_train</th>\n",
              "      <th>y_test</th>\n",
              "    </tr>\n",
              "  </thead>\n",
              "  <tbody>\n",
              "    <tr>\n",
              "      <th>MSE</th>\n",
              "      <td>557,820,451.12</td>\n",
              "      <td>715,423,062.77</td>\n",
              "    </tr>\n",
              "    <tr>\n",
              "      <th>RMSE</th>\n",
              "      <td>23,618.22</td>\n",
              "      <td>26,747.39</td>\n",
              "    </tr>\n",
              "    <tr>\n",
              "      <th>MAE</th>\n",
              "      <td>18,745.10</td>\n",
              "      <td>19,224.37</td>\n",
              "    </tr>\n",
              "  </tbody>\n",
              "</table>\n",
              "</div>"
            ],
            "text/plain": [
              "            y_train         y_test\n",
              "MSE  557,820,451.12 715,423,062.77\n",
              "RMSE      23,618.22      26,747.39\n",
              "MAE       18,745.10      19,224.37"
            ]
          },
          "metadata": {
            "tags": []
          },
          "execution_count": 46
        }
      ]
    },
    {
      "cell_type": "code",
      "metadata": {
        "colab": {
          "base_uri": "https://localhost:8080/"
        },
        "id": "MYEdArjTQ5bG",
        "outputId": "faaaa938-88a3-4799-d613-cd95ae06f393"
      },
      "source": [
        "import statsmodels.api as sm\r\n",
        "\r\n",
        "X_trainSummary = sm.add_constant(X_train.copy())\r\n",
        "model2 = sm.OLS(y_train, X_trainSummary)\r\n",
        "\r\n",
        "results = model2.fit()\r\n",
        "print(results.summary())"
      ],
      "execution_count": 47,
      "outputs": [
        {
          "output_type": "stream",
          "text": [
            "                            OLS Regression Results                            \n",
            "==============================================================================\n",
            "Dep. Variable:                 salary   R-squared:                       0.414\n",
            "Model:                            OLS   Adj. R-squared:                  0.408\n",
            "Method:                 Least Squares   F-statistic:                     73.61\n",
            "Date:                Fri, 12 Mar 2021   Prob (F-statistic):           4.75e-36\n",
            "Time:                        22:05:21   Log-Likelihood:                -3641.9\n",
            "No. Observations:                 317   AIC:                             7292.\n",
            "Df Residuals:                     313   BIC:                             7307.\n",
            "Df Model:                           3                                         \n",
            "Covariance Type:            nonrobust                                         \n",
            "=================================================================================\n",
            "                    coef    std err          t      P>|t|      [0.025      0.975]\n",
            "---------------------------------------------------------------------------------\n",
            "const          6.366e+04   3691.046     17.247      0.000    5.64e+04    7.09e+04\n",
            "rank           1.648e+04   2055.711      8.015      0.000    1.24e+04    2.05e+04\n",
            "discipline     1.656e+04   2742.603      6.038      0.000    1.12e+04     2.2e+04\n",
            "yrs.since.phd   751.7592    122.970      6.113      0.000     509.808     993.711\n",
            "==============================================================================\n",
            "Omnibus:                       15.469   Durbin-Watson:                   1.857\n",
            "Prob(Omnibus):                  0.000   Jarque-Bera (JB):               16.524\n",
            "Skew:                           0.505   Prob(JB):                     0.000258\n",
            "Kurtosis:                       3.482   Cond. No.                         80.6\n",
            "==============================================================================\n",
            "\n",
            "Warnings:\n",
            "[1] Standard Errors assume that the covariance matrix of the errors is correctly specified.\n"
          ],
          "name": "stdout"
        }
      ]
    },
    {
      "cell_type": "code",
      "metadata": {
        "id": "bPAkaS_-Nj0D"
      },
      "source": [
        ""
      ],
      "execution_count": null,
      "outputs": []
    },
    {
      "cell_type": "code",
      "metadata": {
        "id": "_d_d127SNjxu"
      },
      "source": [
        ""
      ],
      "execution_count": null,
      "outputs": []
    },
    {
      "cell_type": "code",
      "metadata": {
        "id": "YWdG5AbfNjvY"
      },
      "source": [
        ""
      ],
      "execution_count": null,
      "outputs": []
    },
    {
      "cell_type": "code",
      "metadata": {
        "id": "hVsoIxKTNjs7"
      },
      "source": [
        ""
      ],
      "execution_count": null,
      "outputs": []
    },
    {
      "cell_type": "code",
      "metadata": {
        "id": "9sHs61ukNjqJ"
      },
      "source": [
        ""
      ],
      "execution_count": null,
      "outputs": []
    },
    {
      "cell_type": "code",
      "metadata": {
        "id": "RQiO11qxNjl8"
      },
      "source": [
        ""
      ],
      "execution_count": null,
      "outputs": []
    },
    {
      "cell_type": "markdown",
      "metadata": {
        "id": "NS_kLa5ONkEA"
      },
      "source": [
        "-------------------------------------------------------------\r\n"
      ]
    },
    {
      "cell_type": "markdown",
      "metadata": {
        "id": "LSVZt-1vNoO7"
      },
      "source": [
        "I'll check and clean here later\r\n"
      ]
    },
    {
      "cell_type": "markdown",
      "metadata": {
        "id": "9tEJ8YhWQmY-"
      },
      "source": [
        "\r\n",
        "-------------------------------------------------------------\r\n"
      ]
    },
    {
      "cell_type": "code",
      "metadata": {
        "id": "6eohUgbyN8W3"
      },
      "source": [
        ""
      ],
      "execution_count": null,
      "outputs": []
    },
    {
      "cell_type": "code",
      "metadata": {
        "id": "adSV0F8aN5K5"
      },
      "source": [
        ""
      ],
      "execution_count": null,
      "outputs": []
    },
    {
      "cell_type": "code",
      "metadata": {
        "id": "Tv_hVQUkyJ0v"
      },
      "source": [
        "#   Splitting Data\r\n",
        "#   X = data.drop('salary', axis = 1).values #Returns numpy array\r\n",
        "#   y = data['salary'].values  \r\n",
        "#   y = data[['salary']]            # Returns Dataframe\r\n",
        "\r\n",
        "X = data[['rank', 'discipline', 'yrs.since.phd','yrs.service','sex']]\r\n",
        "y = data[['salary']] "
      ],
      "execution_count": 94,
      "outputs": []
    },
    {
      "cell_type": "code",
      "metadata": {
        "id": "b8UDBMmM0XG_"
      },
      "source": [
        "from sklearn import preprocessing\r\n",
        "#https://stackoverflow.com/a/30443504\r\n",
        "\r\n",
        "pd.options.mode.chained_assignment = None  # default='warn'\r\n",
        "# model.fit() do not accept str values\r\n",
        "le = preprocessing.LabelEncoder()\r\n",
        "\r\n",
        "X['rank'] = le.fit_transform(X['rank'])\r\n",
        "X['discipline'] = le.fit_transform(X['discipline'])\r\n",
        "X['sex'] = le.fit_transform(X['sex'])"
      ],
      "execution_count": 95,
      "outputs": []
    },
    {
      "cell_type": "code",
      "metadata": {
        "colab": {
          "base_uri": "https://localhost:8080/"
        },
        "id": "y--l9Tn4fKjh",
        "outputId": "7b9b7e53-3403-4439-c5d7-cf579e5b2b79"
      },
      "source": [
        "from sklearn.linear_model import LinearRegression\r\n",
        "from sklearn.model_selection import train_test_split\r\n",
        "\r\n",
        "X_train, X_test, y_train, y_test = train_test_split(X, y, test_size = 0.20 ,random_state= 42)\r\n",
        "\r\n",
        "model = LinearRegression()\r\n",
        "model.fit(X_train, y_train)\r\n",
        "print('R-squared: {}' .format(model.score(X_train, y_train)))"
      ],
      "execution_count": 120,
      "outputs": [
        {
          "output_type": "stream",
          "text": [
            "R-squared: 0.4200558658334024\n"
          ],
          "name": "stdout"
        }
      ]
    },
    {
      "cell_type": "code",
      "metadata": {
        "id": "pld5Nb_vgAVJ"
      },
      "source": [
        "#sns.heatmap(data.corr(),annot=True,lw=1)\r\n",
        "#data.corr()\r\n",
        "sns.pairplot(data,hue='sex')"
      ],
      "execution_count": null,
      "outputs": []
    },
    {
      "cell_type": "code",
      "metadata": {
        "id": "O9Cn6ssgWk7l"
      },
      "source": [
        "sns.regplot(x=y_train,y=y_train_predicted,line_kws={\"color\": \"red\"})\r\n"
      ],
      "execution_count": null,
      "outputs": []
    },
    {
      "cell_type": "code",
      "metadata": {
        "id": "9gjEIAOAk2hw"
      },
      "source": [
        "sns.regplot(x=y_test,y=y_test_predicted,line_kws={\"color\": \"red\"})"
      ],
      "execution_count": null,
      "outputs": []
    },
    {
      "cell_type": "code",
      "metadata": {
        "id": "EfgHRtE3E1EE"
      },
      "source": [
        "plt.scatter(X_test, y_test,  color='black')\r\n",
        "plt.plot(X_test, y_train_predicted, color='blue', linewidth=3)"
      ],
      "execution_count": null,
      "outputs": []
    },
    {
      "cell_type": "markdown",
      "metadata": {
        "id": "nKu8DGq4k4C9"
      },
      "source": [
        "________________________________________________________________________________\r\n",
        "\r\n"
      ]
    },
    {
      "cell_type": "code",
      "metadata": {
        "id": "XHHMKEZnk3Ui"
      },
      "source": [
        "# Splitting Data\r\n",
        "#X = data.drop('salary', axis = 1).values # or\r\n",
        "X = data[['yrs.since.phd','yrs.service']]\r\n",
        "#y = data['salary'].values  # or\r\n",
        "y = data[['salary']]"
      ],
      "execution_count": null,
      "outputs": []
    },
    {
      "cell_type": "code",
      "metadata": {
        "colab": {
          "base_uri": "https://localhost:8080/"
        },
        "id": "lSyDPlo7qO54",
        "outputId": "eb8cb0b1-4f5e-4341-c71e-d4b58c1a67d3"
      },
      "source": [
        "6.55e-35"
      ],
      "execution_count": null,
      "outputs": [
        {
          "output_type": "execute_result",
          "data": {
            "text/plain": [
              "6.55e-35"
            ]
          },
          "metadata": {
            "tags": []
          },
          "execution_count": 590
        }
      ]
    },
    {
      "cell_type": "code",
      "metadata": {
        "id": "-7y-ku5jPEie",
        "colab": {
          "base_uri": "https://localhost:8080/",
          "height": 378
        },
        "outputId": "b2ab9f91-3184-4e40-8bbb-30333856b9ce"
      },
      "source": [
        "display(data.iloc[[262,113,176,63,245]])\r\n",
        "display(X_train.head())"
      ],
      "execution_count": null,
      "outputs": [
        {
          "output_type": "display_data",
          "data": {
            "text/html": [
              "<div>\n",
              "<style scoped>\n",
              "    .dataframe tbody tr th:only-of-type {\n",
              "        vertical-align: middle;\n",
              "    }\n",
              "\n",
              "    .dataframe tbody tr th {\n",
              "        vertical-align: top;\n",
              "    }\n",
              "\n",
              "    .dataframe thead th {\n",
              "        text-align: right;\n",
              "    }\n",
              "</style>\n",
              "<table border=\"1\" class=\"dataframe\">\n",
              "  <thead>\n",
              "    <tr style=\"text-align: right;\">\n",
              "      <th></th>\n",
              "      <th>rank</th>\n",
              "      <th>discipline</th>\n",
              "      <th>yrs.since.phd</th>\n",
              "      <th>yrs.service</th>\n",
              "      <th>sex</th>\n",
              "      <th>salary</th>\n",
              "    </tr>\n",
              "  </thead>\n",
              "  <tbody>\n",
              "    <tr>\n",
              "      <th>262</th>\n",
              "      <td>Prof</td>\n",
              "      <td>A</td>\n",
              "      <td>31</td>\n",
              "      <td>26</td>\n",
              "      <td>Male</td>\n",
              "      <td>121200</td>\n",
              "    </tr>\n",
              "    <tr>\n",
              "      <th>113</th>\n",
              "      <td>Prof</td>\n",
              "      <td>A</td>\n",
              "      <td>37</td>\n",
              "      <td>37</td>\n",
              "      <td>Male</td>\n",
              "      <td>104279</td>\n",
              "    </tr>\n",
              "    <tr>\n",
              "      <th>176</th>\n",
              "      <td>AssocProf</td>\n",
              "      <td>B</td>\n",
              "      <td>10</td>\n",
              "      <td>7</td>\n",
              "      <td>Male</td>\n",
              "      <td>95436</td>\n",
              "    </tr>\n",
              "    <tr>\n",
              "      <th>63</th>\n",
              "      <td>AssocProf</td>\n",
              "      <td>B</td>\n",
              "      <td>11</td>\n",
              "      <td>11</td>\n",
              "      <td>Female</td>\n",
              "      <td>103613</td>\n",
              "    </tr>\n",
              "    <tr>\n",
              "      <th>245</th>\n",
              "      <td>Prof</td>\n",
              "      <td>A</td>\n",
              "      <td>17</td>\n",
              "      <td>11</td>\n",
              "      <td>Female</td>\n",
              "      <td>90450</td>\n",
              "    </tr>\n",
              "  </tbody>\n",
              "</table>\n",
              "</div>"
            ],
            "text/plain": [
              "          rank discipline  yrs.since.phd  yrs.service     sex  salary\n",
              "262       Prof          A             31           26    Male  121200\n",
              "113       Prof          A             37           37    Male  104279\n",
              "176  AssocProf          B             10            7    Male   95436\n",
              "63   AssocProf          B             11           11  Female  103613\n",
              "245       Prof          A             17           11  Female   90450"
            ]
          },
          "metadata": {
            "tags": []
          }
        },
        {
          "output_type": "display_data",
          "data": {
            "text/html": [
              "<div>\n",
              "<style scoped>\n",
              "    .dataframe tbody tr th:only-of-type {\n",
              "        vertical-align: middle;\n",
              "    }\n",
              "\n",
              "    .dataframe tbody tr th {\n",
              "        vertical-align: top;\n",
              "    }\n",
              "\n",
              "    .dataframe thead th {\n",
              "        text-align: right;\n",
              "    }\n",
              "</style>\n",
              "<table border=\"1\" class=\"dataframe\">\n",
              "  <thead>\n",
              "    <tr style=\"text-align: right;\">\n",
              "      <th></th>\n",
              "      <th>rank</th>\n",
              "    </tr>\n",
              "  </thead>\n",
              "  <tbody>\n",
              "    <tr>\n",
              "      <th>16</th>\n",
              "      <td>2</td>\n",
              "    </tr>\n",
              "    <tr>\n",
              "      <th>66</th>\n",
              "      <td>2</td>\n",
              "    </tr>\n",
              "    <tr>\n",
              "      <th>379</th>\n",
              "      <td>0</td>\n",
              "    </tr>\n",
              "    <tr>\n",
              "      <th>7</th>\n",
              "      <td>2</td>\n",
              "    </tr>\n",
              "    <tr>\n",
              "      <th>19</th>\n",
              "      <td>2</td>\n",
              "    </tr>\n",
              "  </tbody>\n",
              "</table>\n",
              "</div>"
            ],
            "text/plain": [
              "     rank\n",
              "16      2\n",
              "66      2\n",
              "379     0\n",
              "7       2\n",
              "19      2"
            ]
          },
          "metadata": {
            "tags": []
          }
        }
      ]
    },
    {
      "cell_type": "code",
      "metadata": {
        "id": "r1qS1UOFYAOg"
      },
      "source": [
        "from sklearn.linear_model import LinearRegression\r\n",
        "from sklearn.model_selection import train_test_split\r\n",
        "from sklearn import preprocessing\r\n",
        "#https://stackoverflow.com/a/30443504\r\n",
        "\r\n",
        "pd.options.mode.chained_assignment = None  # default='warn'\r\n",
        "\r\n",
        "# model.fit() do not accept str values\r\n",
        "le = preprocessing.LabelEncoder()\r\n",
        "for feature in cols:\r\n",
        "  if X[feature].dtypes == ('O'):\r\n",
        "    X[feature] = le.fit_transform(X[feature])\r\n",
        "    print('\"{}\"  data type is Object, \"{}\" feature encoded.\\n'.format(feature,feature))\r\n",
        "\r\n",
        "\r\n",
        "# X['rank'] = le.fit_transform(X['rank'])\r\n",
        "# X['discipline'] = le.fit_transform(X['discipline'])\r\n",
        "# X['sex'] = le.fit_transform(X['sex'])\r\n",
        "\r\n",
        "\r\n",
        "\r\n",
        "# When data type is numpy\r\n",
        "# X_train[:,0] = le.fit_transform(X_train[:,0]) # Rank's column\r\n",
        "# X_train[:,1] = le.fit_transform(X_train[:,1]) # discipline column\r\n",
        "# X_train[:,4] = le.fit_transform(X_train[:,4]) # sex column\r\n",
        "\r\n",
        "X_train, X_test, y_train, y_test = train_test_split(X, y, test_size = 0.25,random_state= 42)\r\n",
        "\r\n",
        "model = LinearRegression()\r\n",
        "model.fit(X_train, y_train)\r\n",
        "print('R-squared: {}' .format(model.score(X_train, y_train)))\r\n"
      ],
      "execution_count": null,
      "outputs": []
    },
    {
      "cell_type": "code",
      "metadata": {
        "colab": {
          "base_uri": "https://localhost:8080/"
        },
        "id": "Au924GSzT_eP",
        "outputId": "683b7d4e-7a9e-4a4a-d7fb-c1ee7f7e47ae"
      },
      "source": [
        "# Predicting in test data\r\n",
        "y_test_predicted = model.predict(X_test)\r\n",
        "\r\n",
        "print('For test data: ')\r\n",
        "print('Mean Squared Error(MSE): {:.2f} '.format(metrics.mean_squared_error(y_test, y_test_predicted)))\r\n",
        "print('Root Mean Squared Error(RMSE): {:.2f} ' .format(np.sqrt(metrics.mean_squared_error(y_test, y_test_predicted))))\r\n",
        "print('Mean absolute Error(MAE): {:.2f} ' .format(metrics.mean_absolute_error(y_test, y_test_predicted)) )"
      ],
      "execution_count": null,
      "outputs": [
        {
          "output_type": "stream",
          "text": [
            "For test data: \n",
            "Mean Squared Error(MSE): 632940603.87 \n",
            "Root Mean Squared Error(RMSE): 25158.31 \n",
            "Mean absolute Error(MAE): 19710.41 \n"
          ],
          "name": "stdout"
        }
      ]
    }
  ]
}